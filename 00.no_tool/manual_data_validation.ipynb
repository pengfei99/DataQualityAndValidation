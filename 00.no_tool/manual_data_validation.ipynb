{
 "cells": [
  {
   "cell_type": "code",
   "execution_count": 1,
   "metadata": {
    "collapsed": true
   },
   "outputs": [],
   "source": [
    "import os\n",
    "\n",
    "from pyspark.sql import SparkSession\n",
    "from pyspark.sql.functions import col"
   ]
  },
  {
   "cell_type": "code",
   "execution_count": 2,
   "outputs": [
    {
     "name": "stderr",
     "output_type": "stream",
     "text": [
      "22/02/22 11:17:28 WARN Utils: Your hostname, pliu-SATELLITE-P850 resolves to a loopback address: 127.0.1.1; using 172.22.0.33 instead (on interface wlp3s0)\n",
      "22/02/22 11:17:28 WARN Utils: Set SPARK_LOCAL_IP if you need to bind to another address\n",
      "WARNING: An illegal reflective access operation has occurred\n",
      "WARNING: Illegal reflective access by org.apache.spark.unsafe.Platform (file:/opt/spark/spark-3.1.2/jars/spark-unsafe_2.12-3.1.2.jar) to constructor java.nio.DirectByteBuffer(long,int)\n",
      "WARNING: Please consider reporting this to the maintainers of org.apache.spark.unsafe.Platform\n",
      "WARNING: Use --illegal-access=warn to enable warnings of further illegal reflective access operations\n",
      "WARNING: All illegal access operations will be denied in a future release\n",
      "22/02/22 11:17:29 WARN NativeCodeLoader: Unable to load native-hadoop library for your platform... using builtin-java classes where applicable\n",
      "Using Spark's default log4j profile: org/apache/spark/log4j-defaults.properties\n",
      "Setting default log level to \"WARN\".\n",
      "To adjust logging level use sc.setLogLevel(newLevel). For SparkR, use setLogLevel(newLevel).\n"
     ]
    }
   ],
   "source": [
    "local = True\n",
    "\n",
    "if local:\n",
    "    spark = SparkSession.builder \\\n",
    "        .master(\"local[4]\") \\\n",
    "        .appName(\"manual_data_validation_example\")\\\n",
    "        .getOrCreate()\n",
    "else:\n",
    "    spark = SparkSession.builder\\\n",
    "        .master(\"k8s://https://kubernetes.default.svc:443\")\\\n",
    "        .appName(\"manual_data_validation_example\")\\\n",
    "        .config(\"spark.kubernetes.container.image\", \"inseefrlab/jupyter-datascience:py3.9.7-spark3.2.0\")\\\n",
    "        .config(\"spark.kubernetes.authenticate.driver.serviceAccountName\", os.environ['KUBERNETES_SERVICE_ACCOUNT'])\\\n",
    "        .config(\"spark.executor.instances\", \"4\")\\\n",
    "        .config(\"spark.executor.memory\", \"8g\")\\\n",
    "        .config(\"spark.kubernetes.namespace\", os.environ['KUBERNETES_NAMESPACE'])\\\n",
    "        .getOrCreate()"
   ],
   "metadata": {
    "collapsed": false,
    "pycharm": {
     "name": "#%%\n"
    }
   }
  },
  {
   "cell_type": "code",
   "execution_count": 3,
   "outputs": [],
   "source": [
    "data_file_path = \"../data/adult_with_duplicates.csv\""
   ],
   "metadata": {
    "collapsed": false,
    "pycharm": {
     "name": "#%%\n"
    }
   }
  },
  {
   "cell_type": "code",
   "execution_count": 4,
   "outputs": [],
   "source": [
    "df_raw = spark.read.csv(data_file_path, header=True, inferSchema=True)"
   ],
   "metadata": {
    "collapsed": false,
    "pycharm": {
     "name": "#%%\n"
    }
   }
  },
  {
   "cell_type": "code",
   "execution_count": 22,
   "outputs": [
    {
     "name": "stdout",
     "output_type": "stream",
     "text": [
      "+----+--------------+------+---------+-------------+--------------+------------+-------------+-----+----+------------+------------+--------------+--------------+------+\n",
      "|age |workclass     |fnlwgt|education|education-num|marital-status|occupation  |relationship |race |sex |capital-gain|capital-loss|hours-per-week|native-country|income|\n",
      "+----+--------------+------+---------+-------------+--------------+------------+-------------+-----+----+------------+------------+--------------+--------------+------+\n",
      "|139 |State-gov     |77516 |Bachelors|13           |Never-married |Adm-clerical|Not-in-family|White|Male|2174        |0           |40            |United-States |<=50K |\n",
      "|-12 |State-gov     |77516 |Bachelors|13           |Never-married |Adm-clerical|Not-in-family|White|Male|2174        |0           |40            |United-States |<=50K |\n",
      "|null|emp-by-pengfei|77516 |Bachelors|13           |Never-married |Adm-clerical|Not-in-family|White|Male|2174        |0           |40            |United-States |<=50K |\n",
      "|39.5|State-gov     |77516 |Bachelors|13           |Never-married |Adm-clerical|Not-in-family|White|Male|2174        |0           |40            |United-States |<=50K |\n",
      "|39  |State-gov     |77516 |Bachelors|13           |Never-married |Adm-clerical|Not-in-family|White|Male|2174        |0           |40            |United-States |<=50K |\n",
      "+----+--------------+------+---------+-------------+--------------+------------+-------------+-----+----+------------+------------+--------------+--------------+------+\n",
      "only showing top 5 rows\n",
      "\n"
     ]
    }
   ],
   "source": [
    "df_raw.show(5,truncate=False)"
   ],
   "metadata": {
    "collapsed": false,
    "pycharm": {
     "name": "#%%\n"
    }
   }
  },
  {
   "cell_type": "markdown",
   "source": [
    "# Validate age in range\n",
    "\n",
    "Three validation rule:\n",
    "1. Column Age must have value between 0 and 120\n",
    "2. Column Age can't have null\n",
    "3. Table can't have duplicate rows\n",
    "\n",
    "## Validation Rule 1"
   ],
   "metadata": {
    "collapsed": false,
    "pycharm": {
     "name": "#%% md\n"
    }
   }
  },
  {
   "cell_type": "code",
   "execution_count": 8,
   "outputs": [],
   "source": [
    "df_age_range_anomaly = df_raw.filter((col(\"age\") > 120) | (col(\"age\") < 0))"
   ],
   "metadata": {
    "collapsed": false,
    "pycharm": {
     "name": "#%%\n"
    }
   }
  },
  {
   "cell_type": "code",
   "execution_count": 10,
   "outputs": [
    {
     "name": "stdout",
     "output_type": "stream",
     "text": [
      "Anomaly number: 4\n"
     ]
    }
   ],
   "source": [
    "anomaly_number = df_age_range_anomaly.count()\n",
    "print(f\"Anomaly number: {anomaly_number}\")"
   ],
   "metadata": {
    "collapsed": false,
    "pycharm": {
     "name": "#%%\n"
    }
   }
  },
  {
   "cell_type": "code",
   "execution_count": 23,
   "outputs": [
    {
     "name": "stdout",
     "output_type": "stream",
     "text": [
      "+---+----------------+------+---------+-------------+------------------+---------------+-------------+-----+------+------------+------------+--------------+--------------+------+\n",
      "|age|workclass       |fnlwgt|education|education-num|marital-status    |occupation     |relationship |race |sex   |capital-gain|capital-loss|hours-per-week|native-country|income|\n",
      "+---+----------------+------+---------+-------------+------------------+---------------+-------------+-----+------+------------+------------+--------------+--------------+------+\n",
      "|139|State-gov       |77516 |Bachelors|13           |Never-married     |Adm-clerical   |Not-in-family|White|Male  |2174        |0           |40            |United-States |<=50K |\n",
      "|-12|State-gov       |77516 |Bachelors|13           |Never-married     |Adm-clerical   |Not-in-family|White|Male  |2174        |0           |40            |United-States |<=50K |\n",
      "|152|Self-emp-not-inc|209642|HS-grad  |9            |Married-civ-spouse|Exec-managerial|Husband      |White|Male  |0           |0           |45            |United-States |>50K  |\n",
      "|154|Private         |302146|HS-grad  |9            |Separated         |Other-service  |Unmarried    |Black|Female|0           |0           |20            |United-States |<=50K |\n",
      "+---+----------------+------+---------+-------------+------------------+---------------+-------------+-----+------+------------+------------+--------------+--------------+------+\n",
      "\n"
     ]
    }
   ],
   "source": [
    "df_age_range_anomaly.show(5, truncate=False)"
   ],
   "metadata": {
    "collapsed": false,
    "pycharm": {
     "name": "#%%\n"
    }
   }
  },
  {
   "cell_type": "markdown",
   "source": [
    "## Validation Rule 2"
   ],
   "metadata": {
    "collapsed": false,
    "pycharm": {
     "name": "#%% md\n"
    }
   }
  },
  {
   "cell_type": "code",
   "execution_count": 13,
   "outputs": [],
   "source": [
    "df_age_null = df_raw.filter(col(\"age\").isNull())"
   ],
   "metadata": {
    "collapsed": false,
    "pycharm": {
     "name": "#%%\n"
    }
   }
  },
  {
   "cell_type": "code",
   "execution_count": 14,
   "outputs": [
    {
     "data": {
      "text/plain": "0"
     },
     "execution_count": 14,
     "metadata": {},
     "output_type": "execute_result"
    }
   ],
   "source": [
    "df_age_null.count()"
   ],
   "metadata": {
    "collapsed": false,
    "pycharm": {
     "name": "#%%\n"
    }
   }
  },
  {
   "cell_type": "markdown",
   "source": [
    "## Validation Rule 3"
   ],
   "metadata": {
    "collapsed": false,
    "pycharm": {
     "name": "#%% md\n"
    }
   }
  },
  {
   "cell_type": "code",
   "execution_count": 19,
   "outputs": [],
   "source": [
    "from pyspark.sql import DataFrame\n",
    "from pyspark.sql.functions import count"
   ],
   "metadata": {
    "collapsed": false,
    "pycharm": {
     "name": "#%%\n"
    }
   }
  },
  {
   "cell_type": "code",
   "execution_count": 24,
   "outputs": [],
   "source": [
    "\n",
    "def check_duplicate_rows(df: DataFrame, indicator_columns=None) -> bool:\n",
    "    \"\"\"\n",
    "    This function checks if a dataFrame contains duplicate rows\n",
    "    :param indicator_columns: The group of columns that can indicate if two row is identical\n",
    "    :param df: input data frame\n",
    "    :return: If no duplicate is found, return True, else return False\n",
    "    \"\"\"\n",
    "    if indicator_columns:\n",
    "        indicator_cols=indicator_columns\n",
    "    else:\n",
    "        indicator_cols=df.columns\n",
    "    df_indicate_duplicate = df.join(\n",
    "        df.groupBy(indicator_cols).agg((count(\"*\") > 1).cast(\"int\").alias(\"Duplicate_indicator\")), on=df.columns,\n",
    "        how=\"left\")\n",
    "    df_duplicate=df_indicate_duplicate.filter(col(\"Duplicate_indicator\") == 1)\n",
    "    duplicate_row_num=df_duplicate.count()\n",
    "    df_duplicate.show()\n",
    "    if duplicate_row_num>1:\n",
    "        return False\n",
    "    else:\n",
    "        return True"
   ],
   "metadata": {
    "collapsed": false,
    "pycharm": {
     "name": "#%%\n"
    }
   }
  },
  {
   "cell_type": "code",
   "execution_count": 25,
   "outputs": [
    {
     "name": "stdout",
     "output_type": "stream",
     "text": [
      "+---+----------------+------+---------+-------------+------------------+---------------+-------------+-----+------+------------+------------+--------------+--------------+------+-------------------+\n",
      "|age|       workclass|fnlwgt|education|education-num|    marital-status|     occupation| relationship| race|   sex|capital-gain|capital-loss|hours-per-week|native-country|income|Duplicate_indicator|\n",
      "+---+----------------+------+---------+-------------+------------------+---------------+-------------+-----+------+------------+------------+--------------+--------------+------+-------------------+\n",
      "| 19|         Private| 97261|  HS-grad|            9|     Never-married|Farming-fishing|Not-in-family|White|  Male|           0|           0|            40| United-States| <=50K|                  1|\n",
      "| 19|         Private| 97261|  HS-grad|            9|     Never-married|Farming-fishing|Not-in-family|White|  Male|           0|           0|            40| United-States| <=50K|                  1|\n",
      "| 31|         Private| 45781|  Masters|           14|     Never-married| Prof-specialty|Not-in-family|White|Female|       14084|           0|            50| United-States|  >50K|                  1|\n",
      "| 31|         Private| 45781|  Masters|           14|     Never-married| Prof-specialty|Not-in-family|White|Female|       14084|           0|            50| United-States|  >50K|                  1|\n",
      "| 31|         Private| 45781|  Masters|           14|     Never-married| Prof-specialty|Not-in-family|White|Female|       14084|           0|            50| United-States|  >50K|                  1|\n",
      "| 31|         Private| 45781|  Masters|           14|     Never-married| Prof-specialty|Not-in-family|White|Female|       14084|           0|            50| United-States|  >50K|                  1|\n",
      "| 39|       State-gov| 77516|Bachelors|           13|     Never-married|   Adm-clerical|Not-in-family|White|  Male|        2174|           0|            40| United-States| <=50K|                  1|\n",
      "| 39|       State-gov| 77516|Bachelors|           13|     Never-married|   Adm-clerical|Not-in-family|White|  Male|        2174|           0|            40| United-States| <=50K|                  1|\n",
      "| 39|       State-gov| 77516|Bachelors|           13|     Never-married|   Adm-clerical|Not-in-family|White|  Male|        2174|           0|            40| United-States| <=50K|                  1|\n",
      "| 39|       State-gov| 77516|Bachelors|           13|     Never-married|   Adm-clerical|Not-in-family|White|  Male|        2174|           0|            40| United-States| <=50K|                  1|\n",
      "| 52|Self-emp-not-inc|209642|  HS-grad|            9|Married-civ-spouse|Exec-managerial|      Husband|White|  Male|           0|           0|            45| United-States|  >50K|                  1|\n",
      "| 52|Self-emp-not-inc|209642|  HS-grad|            9|Married-civ-spouse|Exec-managerial|      Husband|White|  Male|           0|           0|            45| United-States|  >50K|                  1|\n",
      "| 52|Self-emp-not-inc|209642|  HS-grad|            9|Married-civ-spouse|Exec-managerial|      Husband|White|  Male|           0|           0|            45| United-States|  >50K|                  1|\n",
      "| 28|         Private|274679|  Masters|           14|     Never-married| Prof-specialty|Not-in-family|White|  Male|           0|           0|            50| United-States| <=50K|                  1|\n",
      "| 28|         Private|274679|  Masters|           14|     Never-married| Prof-specialty|Not-in-family|White|  Male|           0|           0|            50| United-States| <=50K|                  1|\n",
      "| 42|         Private|159449|Bachelors|           13|Married-civ-spouse|Exec-managerial|      Husband|White|  Male|        5178|           0|            40| United-States|  >50K|                  1|\n",
      "| 42|         Private|159449|Bachelors|           13|Married-civ-spouse|Exec-managerial|      Husband|White|  Male|        5178|           0|            40| United-States|  >50K|                  1|\n",
      "| 42|         Private|159449|Bachelors|           13|Married-civ-spouse|Exec-managerial|      Husband|White|  Male|        5178|           0|            40| United-States|  >50K|                  1|\n",
      "| 42|         Private|159449|Bachelors|           13|Married-civ-spouse|Exec-managerial|      Husband|White|  Male|        5178|           0|            40| United-States|  >50K|                  1|\n",
      "| 23|         Private|122272|Bachelors|           13|     Never-married|   Adm-clerical|    Own-child|White|Female|           0|           0|            30| United-States| <=50K|                  1|\n",
      "+---+----------------+------+---------+-------------+------------------+---------------+-------------+-----+------+------------+------------+--------------+--------------+------+-------------------+\n",
      "only showing top 20 rows\n",
      "\n"
     ]
    },
    {
     "data": {
      "text/plain": "True"
     },
     "execution_count": 25,
     "metadata": {},
     "output_type": "execute_result"
    }
   ],
   "source": [
    "check_duplicate_rows(df_raw)"
   ],
   "metadata": {
    "collapsed": false,
    "pycharm": {
     "name": "#%%\n"
    }
   }
  },
  {
   "cell_type": "code",
   "execution_count": null,
   "outputs": [],
   "source": [],
   "metadata": {
    "collapsed": false,
    "pycharm": {
     "name": "#%%\n"
    }
   }
  }
 ],
 "metadata": {
  "kernelspec": {
   "display_name": "Python 3",
   "language": "python",
   "name": "python3"
  },
  "language_info": {
   "codemirror_mode": {
    "name": "ipython",
    "version": 2
   },
   "file_extension": ".py",
   "mimetype": "text/x-python",
   "name": "python",
   "nbconvert_exporter": "python",
   "pygments_lexer": "ipython2",
   "version": "2.7.6"
  }
 },
 "nbformat": 4,
 "nbformat_minor": 0
}