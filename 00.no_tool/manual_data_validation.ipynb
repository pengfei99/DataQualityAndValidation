{
 "cells": [
  {
   "cell_type": "code",
   "execution_count": 1,
   "metadata": {
    "collapsed": true
   },
   "outputs": [],
   "source": [
    "import os\n",
    "\n",
    "from pyspark.sql import SparkSession\n",
    "from pyspark.sql.functions import col"
   ]
  },
  {
   "cell_type": "code",
   "execution_count": 2,
   "outputs": [
    {
     "name": "stdout",
     "output_type": "stream",
     "text": [
      "22/09/22 14:53:35 WARN Utils: Your hostname, pengfei-Virtual-Machine resolves to a loopback address: 127.0.1.1; using 10.50.2.80 instead (on interface eth0)\n",
      "22/09/22 14:53:35 WARN Utils: Set SPARK_LOCAL_IP if you need to bind to another address\n"
     ]
    },
    {
     "name": "stderr",
     "output_type": "stream",
     "text": [
      "Setting default log level to \"WARN\".\n",
      "To adjust logging level use sc.setLogLevel(newLevel). For SparkR, use setLogLevel(newLevel).\n"
     ]
    },
    {
     "name": "stdout",
     "output_type": "stream",
     "text": [
      "22/09/22 14:53:36 WARN NativeCodeLoader: Unable to load native-hadoop library for your platform... using builtin-java classes where applicable\n"
     ]
    }
   ],
   "source": [
    "local = True\n",
    "\n",
    "if local:\n",
    "    spark = SparkSession.builder \\\n",
    "        .master(\"local[4]\") \\\n",
    "        .appName(\"manual_data_validation_example\")\\\n",
    "        .getOrCreate()\n",
    "else:\n",
    "    spark = SparkSession.builder\\\n",
    "        .master(\"k8s://https://kubernetes.default.svc:443\")\\\n",
    "        .appName(\"manual_data_validation_example\")\\\n",
    "        .config(\"spark.kubernetes.container.image\", \"inseefrlab/jupyter-datascience:py3.9.7-spark3.2.0\")\\\n",
    "        .config(\"spark.kubernetes.authenticate.driver.serviceAccountName\", os.environ['KUBERNETES_SERVICE_ACCOUNT'])\\\n",
    "        .config(\"spark.executor.instances\", \"4\")\\\n",
    "        .config(\"spark.executor.memory\", \"8g\")\\\n",
    "        .config(\"spark.kubernetes.namespace\", os.environ['KUBERNETES_NAMESPACE'])\\\n",
    "        .getOrCreate()"
   ],
   "metadata": {
    "collapsed": false
   }
  },
  {
   "cell_type": "code",
   "execution_count": 3,
   "outputs": [],
   "source": [
    "data_file_path = \"../data/adult_with_duplicates.csv\""
   ],
   "metadata": {
    "collapsed": false
   }
  },
  {
   "cell_type": "code",
   "execution_count": 4,
   "outputs": [],
   "source": [
    "df_raw = spark.read.csv(data_file_path, header=True, inferSchema=True)"
   ],
   "metadata": {
    "collapsed": false
   }
  },
  {
   "cell_type": "code",
   "execution_count": 5,
   "outputs": [
    {
     "name": "stdout",
     "output_type": "stream",
     "text": [
      "+-----+--------------+------+---------+-------------+--------------+------------+-------------+-----+----+------------+------------+--------------+--------------+------+\n",
      "|age  |workclass     |fnlwgt|education|education-num|marital-status|occupation  |relationship |race |sex |capital-gain|capital-loss|hours-per-week|native-country|income|\n",
      "+-----+--------------+------+---------+-------------+--------------+------------+-------------+-----+----+------------+------------+--------------+--------------+------+\n",
      "|139.0|State-gov     |77516 |Bachelors|13           |Never-married |Adm-clerical|Not-in-family|White|Male|2174        |0           |40            |United-States |<=50K |\n",
      "|34.56|State-gov     |77516 |Bachelors|13           |Never-married |Adm-clerical|Not-in-family|White|Male|2174        |0           |40            |United-States |<=50K |\n",
      "|-12.0|State-gov     |77516 |Bachelors|13           |Never-married |Adm-clerical|Not-in-family|White|Male|2174        |0           |40            |United-States |<=50K |\n",
      "|null |emp-by-pengfei|77516 |Bachelors|13           |Never-married |Adm-clerical|Not-in-family|White|Male|2174        |0           |40            |United-States |<=50K |\n",
      "|39.5 |State-gov     |77516 |Bachelors|13           |Never-married |Adm-clerical|Not-in-family|White|Male|2174        |0           |40            |United-States |<=50K |\n",
      "+-----+--------------+------+---------+-------------+--------------+------------+-------------+-----+----+------------+------------+--------------+--------------+------+\n",
      "only showing top 5 rows\n",
      "\n"
     ]
    }
   ],
   "source": [
    "df_raw.show(5,truncate=False)"
   ],
   "metadata": {
    "collapsed": false
   }
  },
  {
   "cell_type": "markdown",
   "source": [
    "# Validate age in range\n",
    "\n",
    "Three validation rule:\n",
    "1. Column Age must have value between 0 and 120\n",
    "2. Column Age can't have null\n",
    "3. Table can't have duplicate rows\n",
    "\n",
    "## Validation Rule 1"
   ],
   "metadata": {
    "collapsed": false
   }
  },
  {
   "cell_type": "code",
   "execution_count": 6,
   "outputs": [],
   "source": [
    "df_age_range_anomaly = df_raw.filter((col(\"age\") > 120) | (col(\"age\") < 0))"
   ],
   "metadata": {
    "collapsed": false
   }
  },
  {
   "cell_type": "code",
   "execution_count": 7,
   "outputs": [
    {
     "name": "stdout",
     "output_type": "stream",
     "text": [
      "Anomaly number: 4\n"
     ]
    }
   ],
   "source": [
    "anomaly_number = df_age_range_anomaly.count()\n",
    "print(f\"Anomaly number: {anomaly_number}\")"
   ],
   "metadata": {
    "collapsed": false
   }
  },
  {
   "cell_type": "code",
   "execution_count": 8,
   "outputs": [
    {
     "name": "stdout",
     "output_type": "stream",
     "text": [
      "+-----+----------------+------+---------+-------------+------------------+---------------+-------------+-----+------+------------+------------+--------------+--------------+------+\n",
      "|age  |workclass       |fnlwgt|education|education-num|marital-status    |occupation     |relationship |race |sex   |capital-gain|capital-loss|hours-per-week|native-country|income|\n",
      "+-----+----------------+------+---------+-------------+------------------+---------------+-------------+-----+------+------------+------------+--------------+--------------+------+\n",
      "|139.0|State-gov       |77516 |Bachelors|13           |Never-married     |Adm-clerical   |Not-in-family|White|Male  |2174        |0           |40            |United-States |<=50K |\n",
      "|-12.0|State-gov       |77516 |Bachelors|13           |Never-married     |Adm-clerical   |Not-in-family|White|Male  |2174        |0           |40            |United-States |<=50K |\n",
      "|152.0|Self-emp-not-inc|209642|HS-grad  |9            |Married-civ-spouse|Exec-managerial|Husband      |White|Male  |0           |0           |45            |United-States |>50K  |\n",
      "|154.0|Private         |302146|HS-grad  |9            |Separated         |Other-service  |Unmarried    |Black|Female|0           |0           |20            |United-States |<=50K |\n",
      "+-----+----------------+------+---------+-------------+------------------+---------------+-------------+-----+------+------------+------------+--------------+--------------+------+\n",
      "\n"
     ]
    }
   ],
   "source": [
    "df_age_range_anomaly.show(5, truncate=False)"
   ],
   "metadata": {
    "collapsed": false
   }
  },
  {
   "cell_type": "markdown",
   "source": [
    "## Validation Rule 2"
   ],
   "metadata": {
    "collapsed": false
   }
  },
  {
   "cell_type": "code",
   "execution_count": 9,
   "outputs": [],
   "source": [
    "df_age_null = df_raw.filter(col(\"age\").isNull())"
   ],
   "metadata": {
    "collapsed": false
   }
  },
  {
   "cell_type": "code",
   "execution_count": 10,
   "outputs": [
    {
     "data": {
      "text/plain": "1"
     },
     "execution_count": 10,
     "metadata": {},
     "output_type": "execute_result"
    }
   ],
   "source": [
    "df_age_null.count()"
   ],
   "metadata": {
    "collapsed": false
   }
  },
  {
   "cell_type": "markdown",
   "source": [
    "## Validation Rule 3"
   ],
   "metadata": {
    "collapsed": false
   }
  },
  {
   "cell_type": "code",
   "execution_count": 11,
   "outputs": [],
   "source": [
    "from pyspark.sql import DataFrame\n",
    "from pyspark.sql.functions import count"
   ],
   "metadata": {
    "collapsed": false
   }
  },
  {
   "cell_type": "code",
   "execution_count": 12,
   "outputs": [],
   "source": [
    "def check_duplicate_rows(df: DataFrame, indicator_columns=None) -> bool:\n",
    "    \"\"\"\n",
    "    This function checks if a dataFrame contains duplicate rows\n",
    "    :param indicator_columns: The group of columns that can indicate if two row is identical\n",
    "    :param df: input data frame\n",
    "    :return: If no duplicate is found, return True, else return False\n",
    "    \"\"\"\n",
    "    if indicator_columns:\n",
    "        indicator_cols=indicator_columns\n",
    "    else:\n",
    "        indicator_cols=df.columns\n",
    "    df_indicate_duplicate = df.join(\n",
    "        df.groupBy(indicator_cols).agg((count(\"*\") > 1).cast(\"int\").alias(\"Duplicate_indicator\")), on=df.columns,\n",
    "        how=\"left\")\n",
    "    df_duplicate=df_indicate_duplicate.filter(col(\"Duplicate_indicator\") == 1)\n",
    "    duplicate_row_num=df_duplicate.count()\n",
    "    df_duplicate.show()\n",
    "    if duplicate_row_num>1:\n",
    "        return False\n",
    "    else:\n",
    "        return True"
   ],
   "metadata": {
    "collapsed": false
   }
  },
  {
   "cell_type": "code",
   "execution_count": 13,
   "outputs": [
    {
     "name": "stderr",
     "output_type": "stream",
     "text": [
      "                                                                                \r"
     ]
    },
    {
     "name": "stdout",
     "output_type": "stream",
     "text": [
      "+----+----------------+------+------------+-------------+------------------+-----------------+-------------+------------------+------+------------+------------+--------------+--------------+------+-------------------+\n",
      "| age|       workclass|fnlwgt|   education|education-num|    marital-status|       occupation| relationship|              race|   sex|capital-gain|capital-loss|hours-per-week|native-country|income|Duplicate_indicator|\n",
      "+----+----------------+------+------------+-------------+------------------+-----------------+-------------+------------------+------+------------+------------+--------------+--------------+------+-------------------+\n",
      "|27.0|         Private|255582|     HS-grad|            9|     Never-married|Machine-op-inspct|Not-in-family|             White|Female|           0|           0|            40| United-States| <=50K|                  1|\n",
      "|27.0|         Private|255582|     HS-grad|            9|     Never-married|Machine-op-inspct|Not-in-family|             White|Female|           0|           0|            40| United-States| <=50K|                  1|\n",
      "|42.0|         Private|159449|   Bachelors|           13|Married-civ-spouse|  Exec-managerial|      Husband|             White|  Male|        5178|           0|            40| United-States|  >50K|                  1|\n",
      "|42.0|         Private|159449|   Bachelors|           13|Married-civ-spouse|  Exec-managerial|      Husband|             White|  Male|        5178|           0|            40| United-States|  >50K|                  1|\n",
      "|42.0|         Private|159449|   Bachelors|           13|Married-civ-spouse|  Exec-managerial|      Husband|             White|  Male|        5178|           0|            40| United-States|  >50K|                  1|\n",
      "|42.0|         Private|159449|   Bachelors|           13|Married-civ-spouse|  Exec-managerial|      Husband|             White|  Male|        5178|           0|            40| United-States|  >50K|                  1|\n",
      "|30.0|       State-gov|141297|   Bachelors|           13|Married-civ-spouse|   Prof-specialty|      Husband|Asian-Pac-Islander|  Male|           0|           0|            40|         India|  >50K|                  1|\n",
      "|30.0|       State-gov|141297|   Bachelors|           13|Married-civ-spouse|   Prof-specialty|      Husband|Asian-Pac-Islander|  Male|           0|           0|            40|         India|  >50K|                  1|\n",
      "|30.0|       State-gov|141297|   Bachelors|           13|Married-civ-spouse|   Prof-specialty|      Husband|Asian-Pac-Islander|  Male|           0|           0|            40|         India|  >50K|                  1|\n",
      "|30.0|       State-gov|141297|   Bachelors|           13|Married-civ-spouse|   Prof-specialty|      Husband|Asian-Pac-Islander|  Male|           0|           0|            40|         India|  >50K|                  1|\n",
      "|25.0|         Private|308144|   Bachelors|           13|     Never-married|     Craft-repair|Not-in-family|             White|  Male|           0|           0|            40|        Mexico| <=50K|                  1|\n",
      "|25.0|         Private|308144|   Bachelors|           13|     Never-married|     Craft-repair|Not-in-family|             White|  Male|           0|           0|            40|        Mexico| <=50K|                  1|\n",
      "|25.0|         Private|195994|     1st-4th|            2|     Never-married|  Priv-house-serv|Not-in-family|             White|Female|           0|           0|            40|     Guatemala| <=50K|                  1|\n",
      "|25.0|         Private|195994|     1st-4th|            2|     Never-married|  Priv-house-serv|Not-in-family|             White|Female|           0|           0|            40|     Guatemala| <=50K|                  1|\n",
      "|25.0|         Private|195994|     1st-4th|            2|     Never-married|  Priv-house-serv|Not-in-family|             White|Female|           0|           0|            40|     Guatemala| <=50K|                  1|\n",
      "|37.0|         Private|280464|Some-college|           10|Married-civ-spouse|  Exec-managerial|      Husband|             Black|  Male|           0|           0|            80| United-States|  >50K|                  1|\n",
      "|37.0|         Private|280464|Some-college|           10|Married-civ-spouse|  Exec-managerial|      Husband|             Black|  Male|           0|           0|            80| United-States|  >50K|                  1|\n",
      "|37.0|         Private|280464|Some-college|           10|Married-civ-spouse|  Exec-managerial|      Husband|             Black|  Male|           0|           0|            80| United-States|  >50K|                  1|\n",
      "|37.0|         Private|280464|Some-college|           10|Married-civ-spouse|  Exec-managerial|      Husband|             Black|  Male|           0|           0|            80| United-States|  >50K|                  1|\n",
      "|52.0|Self-emp-not-inc|209642|     HS-grad|            9|Married-civ-spouse|  Exec-managerial|      Husband|             White|  Male|           0|           0|            45| United-States|  >50K|                  1|\n",
      "+----+----------------+------+------------+-------------+------------------+-----------------+-------------+------------------+------+------------+------------+--------------+--------------+------+-------------------+\n",
      "only showing top 20 rows\n",
      "\n"
     ]
    },
    {
     "data": {
      "text/plain": "False"
     },
     "execution_count": 13,
     "metadata": {},
     "output_type": "execute_result"
    }
   ],
   "source": [
    "check_duplicate_rows(df_raw)"
   ],
   "metadata": {
    "collapsed": false
   }
  },
  {
   "cell_type": "code",
   "execution_count": 14,
   "outputs": [
    {
     "name": "stdout",
     "output_type": "stream",
     "text": [
      "+----------------+\n",
      "|       workclass|\n",
      "+----------------+\n",
      "|Self-emp-not-inc|\n",
      "|  emp-by-pengfei|\n",
      "|       Local-gov|\n",
      "|       State-gov|\n",
      "|         Private|\n",
      "|     Without-pay|\n",
      "|     Federal-gov|\n",
      "|    Never-worked|\n",
      "|    Self-emp-inc|\n",
      "|            null|\n",
      "+----------------+\n",
      "\n"
     ]
    }
   ],
   "source": [
    "df_raw.select(\"workclass\").distinct().show()"
   ],
   "metadata": {
    "collapsed": false
   }
  },
  {
   "cell_type": "code",
   "execution_count": null,
   "outputs": [],
   "source": [],
   "metadata": {
    "collapsed": false
   }
  }
 ],
 "metadata": {
  "kernelspec": {
   "display_name": "Python 3",
   "language": "python",
   "name": "python3"
  },
  "language_info": {
   "codemirror_mode": {
    "name": "ipython",
    "version": 2
   },
   "file_extension": ".py",
   "mimetype": "text/x-python",
   "name": "python",
   "nbconvert_exporter": "python",
   "pygments_lexer": "ipython2",
   "version": "2.7.6"
  }
 },
 "nbformat": 4,
 "nbformat_minor": 0
}
