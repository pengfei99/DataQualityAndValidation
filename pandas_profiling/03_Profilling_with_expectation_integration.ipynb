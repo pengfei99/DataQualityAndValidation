{
 "cells": [
  {
   "cell_type": "markdown",
   "metadata": {
    "collapsed": true,
    "pycharm": {
     "name": "#%% md\n"
    }
   },
   "source": [
    "# Creating Expectation Suites with Pandas Profiling\n",
    "\n",
    "Pandas profiling provide a feature that can generate an expectation suite based on the data profile analysis.\n",
    "\n",
    "But this feature does not work anymore due to the new release of the greate expectation.\n",
    "\n",
    "The official doc can be found [here](https://pandas-profiling.github.io/pandas-profiling/docs/master/rtd/pages/great_expectations_integration.html)\n",
    "\n",
    "The code example can be found [here](https://github.com/pandas-profiling/pandas-profiling/blob/develop/examples/features/great_expectations_example.py)\n",
    "\n",
    "I found this feature is no longer needed, because greate expectation provides a feature called **profiler** which does exactly the same thing. So I did not provide a fix or pr to this bug.\n",
    "\n",
    "I manage to make below code example work, but the generated expectation suite is empty. If I added the expectation manually, it could work, but it does not make any sense anymore. Because the goal is to generate the appropriate expectation rules automatically."
   ]
  },
  {
   "cell_type": "code",
   "execution_count": 25,
   "outputs": [],
   "source": [
    "import pandas as pd\n",
    "from pandas_profiling import ProfileReport\n",
    "import great_expectations as ge\n",
    "from ruamel.yaml import YAML"
   ],
   "metadata": {
    "collapsed": false,
    "pycharm": {
     "name": "#%%\n"
    }
   }
  },
  {
   "cell_type": "code",
   "execution_count": 14,
   "outputs": [
    {
     "data": {
      "text/plain": "     age       workclass  fnlwgt  education  education-num marital-status  \\\n0  139.0       State-gov   77516  Bachelors             13  Never-married   \n1  -12.0       State-gov   77516  Bachelors             13  Never-married   \n2    NaN  emp-by-pengfei   77516  Bachelors             13  Never-married   \n3   39.5       State-gov   77516  Bachelors             13  Never-married   \n4   39.0       State-gov   77516  Bachelors             13  Never-married   \n\n     occupation   relationship   race   sex  capital-gain  capital-loss  \\\n0  Adm-clerical  Not-in-family  White  Male          2174             0   \n1  Adm-clerical  Not-in-family  White  Male          2174             0   \n2  Adm-clerical  Not-in-family  White  Male          2174             0   \n3  Adm-clerical  Not-in-family  White  Male          2174             0   \n4  Adm-clerical  Not-in-family  White  Male          2174             0   \n\n   hours-per-week native-country income  \n0              40  United-States  <=50K  \n1              40  United-States  <=50K  \n2              40  United-States  <=50K  \n3              40  United-States  <=50K  \n4              40  United-States  <=50K  ",
      "text/html": "<div>\n<style scoped>\n    .dataframe tbody tr th:only-of-type {\n        vertical-align: middle;\n    }\n\n    .dataframe tbody tr th {\n        vertical-align: top;\n    }\n\n    .dataframe thead th {\n        text-align: right;\n    }\n</style>\n<table border=\"1\" class=\"dataframe\">\n  <thead>\n    <tr style=\"text-align: right;\">\n      <th></th>\n      <th>age</th>\n      <th>workclass</th>\n      <th>fnlwgt</th>\n      <th>education</th>\n      <th>education-num</th>\n      <th>marital-status</th>\n      <th>occupation</th>\n      <th>relationship</th>\n      <th>race</th>\n      <th>sex</th>\n      <th>capital-gain</th>\n      <th>capital-loss</th>\n      <th>hours-per-week</th>\n      <th>native-country</th>\n      <th>income</th>\n    </tr>\n  </thead>\n  <tbody>\n    <tr>\n      <th>0</th>\n      <td>139.0</td>\n      <td>State-gov</td>\n      <td>77516</td>\n      <td>Bachelors</td>\n      <td>13</td>\n      <td>Never-married</td>\n      <td>Adm-clerical</td>\n      <td>Not-in-family</td>\n      <td>White</td>\n      <td>Male</td>\n      <td>2174</td>\n      <td>0</td>\n      <td>40</td>\n      <td>United-States</td>\n      <td>&lt;=50K</td>\n    </tr>\n    <tr>\n      <th>1</th>\n      <td>-12.0</td>\n      <td>State-gov</td>\n      <td>77516</td>\n      <td>Bachelors</td>\n      <td>13</td>\n      <td>Never-married</td>\n      <td>Adm-clerical</td>\n      <td>Not-in-family</td>\n      <td>White</td>\n      <td>Male</td>\n      <td>2174</td>\n      <td>0</td>\n      <td>40</td>\n      <td>United-States</td>\n      <td>&lt;=50K</td>\n    </tr>\n    <tr>\n      <th>2</th>\n      <td>NaN</td>\n      <td>emp-by-pengfei</td>\n      <td>77516</td>\n      <td>Bachelors</td>\n      <td>13</td>\n      <td>Never-married</td>\n      <td>Adm-clerical</td>\n      <td>Not-in-family</td>\n      <td>White</td>\n      <td>Male</td>\n      <td>2174</td>\n      <td>0</td>\n      <td>40</td>\n      <td>United-States</td>\n      <td>&lt;=50K</td>\n    </tr>\n    <tr>\n      <th>3</th>\n      <td>39.5</td>\n      <td>State-gov</td>\n      <td>77516</td>\n      <td>Bachelors</td>\n      <td>13</td>\n      <td>Never-married</td>\n      <td>Adm-clerical</td>\n      <td>Not-in-family</td>\n      <td>White</td>\n      <td>Male</td>\n      <td>2174</td>\n      <td>0</td>\n      <td>40</td>\n      <td>United-States</td>\n      <td>&lt;=50K</td>\n    </tr>\n    <tr>\n      <th>4</th>\n      <td>39.0</td>\n      <td>State-gov</td>\n      <td>77516</td>\n      <td>Bachelors</td>\n      <td>13</td>\n      <td>Never-married</td>\n      <td>Adm-clerical</td>\n      <td>Not-in-family</td>\n      <td>White</td>\n      <td>Male</td>\n      <td>2174</td>\n      <td>0</td>\n      <td>40</td>\n      <td>United-States</td>\n      <td>&lt;=50K</td>\n    </tr>\n  </tbody>\n</table>\n</div>"
     },
     "execution_count": 14,
     "metadata": {},
     "output_type": "execute_result"
    }
   ],
   "source": [
    "file_path=\"../data/adult_with_duplicates.csv\"\n",
    "df = pd.read_csv(file_path)\n",
    "\n",
    "df.head()"
   ],
   "metadata": {
    "collapsed": false,
    "pycharm": {
     "name": "#%%\n"
    }
   }
  },
  {
   "cell_type": "code",
   "execution_count": 15,
   "outputs": [],
   "source": [
    "# generate a data profile report\n",
    "data_profile = ProfileReport(df, title=\"Pandas Profiling Report\", explorative=True)"
   ],
   "metadata": {
    "collapsed": false,
    "pycharm": {
     "name": "#%%\n"
    }
   }
  },
  {
   "cell_type": "markdown",
   "source": [
    "# 1 Instantiate a GE data_context"
   ],
   "metadata": {
    "collapsed": false,
    "pycharm": {
     "name": "#%% md\n"
    }
   }
  },
  {
   "cell_type": "code",
   "execution_count": 28,
   "outputs": [
    {
     "ename": "ConfigNotFoundError",
     "evalue": "Error: No great_expectations directory was found here!\n    - Please check that you are in the correct directory or have specified the correct directory.\n    - If you have never run Great Expectations in this project, please run `great_expectations init` to get started.\n",
     "output_type": "error",
     "traceback": [
      "\u001B[0;31m---------------------------------------------------------------------------\u001B[0m",
      "\u001B[0;31mConfigNotFoundError\u001B[0m                       Traceback (most recent call last)",
      "Input \u001B[0;32mIn [28]\u001B[0m, in \u001B[0;36m<module>\u001B[0;34m\u001B[0m\n\u001B[1;32m      3\u001B[0m \u001B[38;5;66;03m# this will read great_expectations.yaml in the project and build the data_context\u001B[39;00m\n\u001B[1;32m      4\u001B[0m data_context \u001B[38;5;241m=\u001B[39m ge\u001B[38;5;241m.\u001B[39mdata_context\u001B[38;5;241m.\u001B[39mDataContext(context_root_dir\u001B[38;5;241m=\u001B[39mge_project_root_dir)\n\u001B[0;32m----> 5\u001B[0m context\u001B[38;5;241m=\u001B[39m\u001B[43mge\u001B[49m\u001B[38;5;241;43m.\u001B[39;49m\u001B[43mget_context\u001B[49m\u001B[43m(\u001B[49m\u001B[43m)\u001B[49m\n",
      "File \u001B[0;32m~/.cache/pypoetry/virtualenvs/dataqualityandvalidation-6LYnP9NJ-py3.8/lib/python3.8/site-packages/great_expectations/util.py:1219\u001B[0m, in \u001B[0;36mget_context\u001B[0;34m()\u001B[0m\n\u001B[1;32m   1216\u001B[0m \u001B[38;5;28;01mdef\u001B[39;00m \u001B[38;5;21mget_context\u001B[39m():\n\u001B[1;32m   1217\u001B[0m     \u001B[38;5;28;01mfrom\u001B[39;00m \u001B[38;5;21;01mgreat_expectations\u001B[39;00m\u001B[38;5;21;01m.\u001B[39;00m\u001B[38;5;21;01mdata_context\u001B[39;00m\u001B[38;5;21;01m.\u001B[39;00m\u001B[38;5;21;01mdata_context\u001B[39;00m \u001B[38;5;28;01mimport\u001B[39;00m DataContext\n\u001B[0;32m-> 1219\u001B[0m     \u001B[38;5;28;01mreturn\u001B[39;00m \u001B[43mDataContext\u001B[49m\u001B[43m(\u001B[49m\u001B[43m)\u001B[49m\n",
      "File \u001B[0;32m~/.cache/pypoetry/virtualenvs/dataqualityandvalidation-6LYnP9NJ-py3.8/lib/python3.8/site-packages/great_expectations/data_context/data_context.py:3881\u001B[0m, in \u001B[0;36mDataContext.__init__\u001B[0;34m(self, context_root_dir, runtime_environment, ge_cloud_mode, ge_cloud_base_url, ge_cloud_account_id, ge_cloud_access_token)\u001B[0m\n\u001B[1;32m   3874\u001B[0m         logger\u001B[38;5;241m.\u001B[39minfo(\n\u001B[1;32m   3875\u001B[0m             \u001B[38;5;124mf\u001B[39m\u001B[38;5;124m'\u001B[39m\u001B[38;5;124mcontext_root_dir was not provided - defaulting to current working directory \u001B[39m\u001B[38;5;124m\"\u001B[39m\u001B[38;5;124m'\u001B[39m\n\u001B[1;32m   3876\u001B[0m             \u001B[38;5;124mf\u001B[39m\u001B[38;5;124m'\u001B[39m\u001B[38;5;132;01m{\u001B[39;00mcontext_root_dir\u001B[38;5;132;01m}\u001B[39;00m\u001B[38;5;124m\"\u001B[39m\u001B[38;5;124m.\u001B[39m\u001B[38;5;124m'\u001B[39m\n\u001B[1;32m   3877\u001B[0m         )\n\u001B[1;32m   3878\u001B[0m \u001B[38;5;28;01melse\u001B[39;00m:\n\u001B[1;32m   3879\u001B[0m     \u001B[38;5;66;03m# Determine the \"context root directory\" - this is the parent of \"great_expectations\" dir\u001B[39;00m\n\u001B[1;32m   3880\u001B[0m     context_root_dir \u001B[38;5;241m=\u001B[39m (\n\u001B[0;32m-> 3881\u001B[0m         \u001B[38;5;28;43mself\u001B[39;49m\u001B[38;5;241;43m.\u001B[39;49m\u001B[43mfind_context_root_dir\u001B[49m\u001B[43m(\u001B[49m\u001B[43m)\u001B[49m\n\u001B[1;32m   3882\u001B[0m         \u001B[38;5;28;01mif\u001B[39;00m context_root_dir \u001B[38;5;129;01mis\u001B[39;00m \u001B[38;5;28;01mNone\u001B[39;00m\n\u001B[1;32m   3883\u001B[0m         \u001B[38;5;28;01melse\u001B[39;00m context_root_dir\n\u001B[1;32m   3884\u001B[0m     )\n\u001B[1;32m   3886\u001B[0m context_root_directory \u001B[38;5;241m=\u001B[39m os\u001B[38;5;241m.\u001B[39mpath\u001B[38;5;241m.\u001B[39mabspath(os\u001B[38;5;241m.\u001B[39mpath\u001B[38;5;241m.\u001B[39mexpanduser(context_root_dir))\n\u001B[1;32m   3887\u001B[0m \u001B[38;5;28mself\u001B[39m\u001B[38;5;241m.\u001B[39m_context_root_directory \u001B[38;5;241m=\u001B[39m context_root_directory\n",
      "File \u001B[0;32m~/.cache/pypoetry/virtualenvs/dataqualityandvalidation-6LYnP9NJ-py3.8/lib/python3.8/site-packages/great_expectations/data_context/data_context.py:4030\u001B[0m, in \u001B[0;36mDataContext.find_context_root_dir\u001B[0;34m(cls)\u001B[0m\n\u001B[1;32m   4027\u001B[0m         result \u001B[38;5;241m=\u001B[39m os\u001B[38;5;241m.\u001B[39mpath\u001B[38;5;241m.\u001B[39mdirname(yml_path)\n\u001B[1;32m   4029\u001B[0m \u001B[38;5;28;01mif\u001B[39;00m result \u001B[38;5;129;01mis\u001B[39;00m \u001B[38;5;28;01mNone\u001B[39;00m:\n\u001B[0;32m-> 4030\u001B[0m     \u001B[38;5;28;01mraise\u001B[39;00m ge_exceptions\u001B[38;5;241m.\u001B[39mConfigNotFoundError()\n\u001B[1;32m   4032\u001B[0m logger\u001B[38;5;241m.\u001B[39mdebug(\u001B[38;5;124mf\u001B[39m\u001B[38;5;124m\"\u001B[39m\u001B[38;5;124mUsing project config: \u001B[39m\u001B[38;5;132;01m{\u001B[39;00myml_path\u001B[38;5;132;01m}\u001B[39;00m\u001B[38;5;124m\"\u001B[39m)\n\u001B[1;32m   4033\u001B[0m \u001B[38;5;28;01mreturn\u001B[39;00m result\n",
      "\u001B[0;31mConfigNotFoundError\u001B[0m: Error: No great_expectations directory was found here!\n    - Please check that you are in the correct directory or have specified the correct directory.\n    - If you have never run Great Expectations in this project, please run `great_expectations init` to get started.\n"
     ]
    }
   ],
   "source": [
    "ge_project_root_dir=\"../great_expectations_validation/great_expectations\"\n",
    "\n",
    "# this will read great_expectations.yaml in the project and build the data_context\n",
    "data_context = ge.data_context.DataContext(context_root_dir=ge_project_root_dir)\n"
   ],
   "metadata": {
    "collapsed": false,
    "pycharm": {
     "name": "#%%\n"
    }
   }
  },
  {
   "cell_type": "markdown",
   "source": [
    "# 2. Create the expectation suite"
   ],
   "metadata": {
    "collapsed": false,
    "pycharm": {
     "name": "#%% md\n"
    }
   }
  },
  {
   "cell_type": "code",
   "execution_count": 22,
   "outputs": [],
   "source": [
    "# Create the expectation suite by using the pandas' data profiling\n",
    "expectation_suite = data_profile.to_expectation_suite(suite_name=\"pandas_generated_expectations\",\n",
    "    data_context=data_context,\n",
    "    save_suite=False,\n",
    "    run_validation=False,\n",
    "    build_data_docs=False)"
   ],
   "metadata": {
    "collapsed": false,
    "pycharm": {
     "name": "#%%\n"
    }
   }
  },
  {
   "cell_type": "markdown",
   "source": [
    "# 3. Create a GE dataframe and associate it with an expectation suite"
   ],
   "metadata": {
    "collapsed": false,
    "pycharm": {
     "name": "#%% md\n"
    }
   }
  },
  {
   "cell_type": "code",
   "execution_count": 23,
   "outputs": [],
   "source": [
    "# convert pandas dataframe to ge dataframe\n",
    "ge_df = ge.dataset.PandasDataset(df,expectation_suite)\n",
    "ge.get_context()"
   ],
   "metadata": {
    "collapsed": false,
    "pycharm": {
     "name": "#%%\n"
    }
   }
  },
  {
   "cell_type": "code",
   "execution_count": 24,
   "outputs": [
    {
     "data": {
      "text/plain": "{\n  \"success\": true,\n  \"statistics\": {\n    \"evaluated_expectations\": 0,\n    \"successful_expectations\": 0,\n    \"unsuccessful_expectations\": 0,\n    \"success_percent\": null\n  },\n  \"evaluation_parameters\": {},\n  \"results\": [],\n  \"meta\": {\n    \"great_expectations_version\": \"0.14.1\",\n    \"expectation_suite_name\": \"default\",\n    \"run_id\": {\n      \"run_name\": null,\n      \"run_time\": \"2022-01-22T12:54:48.370199+00:00\"\n    },\n    \"batch_kwargs\": {\n      \"ge_batch_id\": \"79b5779a-7b82-11ec-839c-65b23fbe7c08\"\n    },\n    \"batch_markers\": {},\n    \"batch_parameters\": {},\n    \"validation_time\": \"20220122T125448.370151Z\",\n    \"expectation_suite_meta\": {\n      \"great_expectations_version\": \"0.14.1\"\n    }\n  }\n}"
     },
     "execution_count": 24,
     "metadata": {},
     "output_type": "execute_result"
    }
   ],
   "source": [
    "# Run validation on your dataframe\n",
    "ge_df.validate()\n"
   ],
   "metadata": {
    "collapsed": false,
    "pycharm": {
     "name": "#%%\n"
    }
   }
  },
  {
   "cell_type": "markdown",
   "source": [
    "You can notice the expectation suite has **0** validation rule. And we do find the expectation json file **pandas_generated_expectations.json**. And the content of the file is shown below:\n",
    "\n",
    "```json\n",
    "{\n",
    "  \"data_asset_type\": null,\n",
    "  \"expectation_suite_name\": \"pandas_generated_expectations\",\n",
    "  \"expectations\": [],\n",
    "  \"ge_cloud_id\": null,\n",
    "  \"meta\": {\n",
    "    \"great_expectations_version\": \"0.14.1\"\n",
    "  }\n",
    "}\n",
    "\n",
    "```\n",
    "\n",
    "You can notice, the expectation list is empty at line 3. As we don't have **.** in the expectation suite name so there is no folder generated (Unlike pengfei.text1). It's just a simple json file under **expectations** folder.\n",
    "\n",
    "In the web UI, you can also find the expectation suite **pandas_generated_expectations** is created. See below image\n",
    "![expectation_suite](../images/expectation_pandas_validation.png)\n",
    "\n",
    "Just to verify that if we add validation rule in expectation list, it could work. We added the following code to insert a rule manually. Then we create a checkpoint to test the expectation suite on a sample data"
   ],
   "metadata": {
    "collapsed": false,
    "pycharm": {
     "name": "#%% md\n"
    }
   }
  },
  {
   "cell_type": "code",
   "execution_count": 32,
   "outputs": [
    {
     "name": "stdout",
     "output_type": "stream",
     "text": [
      "\n",
      "name: pandas_generated_checkpoint\n",
      "config_version: 1.0\n",
      "class_name: SimpleCheckpoint\n",
      "run_name_template: \"%Y%m%d-%H%M%S-pandas_generated_checkpoint_run\"\n",
      "validations:\n",
      "  - batch_request:\n",
      "      datasource_name: pengfei_test\n",
      "      data_connector_name: default_inferred_data_connector_name\n",
      "      data_asset_name: adult_with_duplicates.csv\n",
      "      data_connector_query:\n",
      "        index: -1\n",
      "    expectation_suite_name: pandas_generated_expectations\n",
      "\n"
     ]
    }
   ],
   "source": [
    "\n",
    "yaml = YAML()\n",
    "\n",
    "# Use yaml to configure a checkpoint\n",
    "my_checkpoint_name = \"pandas_generated_checkpoint\"\n",
    "\n",
    "# create a new checkpoint by using the expectation pandas_generated_expectations\n",
    "checkpoint_config = f\"\"\"\n",
    "name: {my_checkpoint_name}\n",
    "config_version: 1.0\n",
    "class_name: SimpleCheckpoint\n",
    "run_name_template: \"%Y%m%d-%H%M%S-pandas_generated_checkpoint_run\"\n",
    "validations:\n",
    "  - batch_request:\n",
    "      datasource_name: pengfei_test\n",
    "      data_connector_name: default_inferred_data_connector_name\n",
    "      data_asset_name: adult_with_duplicates.csv\n",
    "      data_connector_query:\n",
    "        index: -1\n",
    "    expectation_suite_name: pandas_generated_expectations\n",
    "\"\"\"\n",
    "\n",
    "# preview the checkpoint config\n",
    "print(checkpoint_config)"
   ],
   "metadata": {
    "collapsed": false,
    "pycharm": {
     "name": "#%%\n"
    }
   }
  },
  {
   "cell_type": "code",
   "execution_count": 33,
   "outputs": [
    {
     "name": "stdout",
     "output_type": "stream",
     "text": [
      "Attempting to instantiate class from config...\n",
      "\tInstantiating as a SimpleCheckpoint, since class_name is SimpleCheckpoint\n",
      "{\n",
      "  \"name\": \"pandas_generated_checkpoint\",\n",
      "  \"config_version\": 1.0,\n",
      "  \"template_name\": null,\n",
      "  \"module_name\": \"great_expectations.checkpoint\",\n",
      "  \"class_name\": \"SimpleCheckpoint\",\n",
      "  \"run_name_template\": \"%Y%m%d-%H%M%S-pandas_generated_checkpoint_run\",\n",
      "  \"expectation_suite_name\": null,\n",
      "  \"batch_request\": null,\n",
      "  \"action_list\": [\n",
      "    {\n",
      "      \"name\": \"store_validation_result\",\n",
      "      \"action\": {\n",
      "        \"class_name\": \"StoreValidationResultAction\"\n",
      "      }\n",
      "    },\n",
      "    {\n",
      "      \"name\": \"store_evaluation_params\",\n",
      "      \"action\": {\n",
      "        \"class_name\": \"StoreEvaluationParametersAction\"\n",
      "      }\n",
      "    },\n",
      "    {\n",
      "      \"name\": \"update_data_docs\",\n",
      "      \"action\": {\n",
      "        \"class_name\": \"UpdateDataDocsAction\",\n",
      "        \"site_names\": []\n",
      "      }\n",
      "    }\n",
      "  ],\n",
      "  \"evaluation_parameters\": {},\n",
      "  \"runtime_configuration\": {},\n",
      "  \"validations\": [\n",
      "    {\n",
      "      \"batch_request\": {\n",
      "        \"datasource_name\": \"pengfei_test\",\n",
      "        \"data_connector_name\": \"default_inferred_data_connector_name\",\n",
      "        \"data_asset_name\": \"adult_with_duplicates.csv\",\n",
      "        \"data_connector_query\": {\n",
      "          \"index\": -1\n",
      "        }\n",
      "      },\n",
      "      \"expectation_suite_name\": \"pandas_generated_expectations\"\n",
      "    }\n",
      "  ],\n",
      "  \"profilers\": [],\n",
      "  \"ge_cloud_id\": null,\n",
      "  \"expectation_suite_ge_cloud_id\": null\n",
      "}\n",
      "\tSuccessfully instantiated SimpleCheckpoint\n",
      "\n",
      "\n",
      "Checkpoint class name: SimpleCheckpoint\n"
     ]
    }
   ],
   "source": [
    "# check the config correctness\n",
    "my_checkpoint = data_context.test_yaml_config(yaml_config=checkpoint_config)"
   ],
   "metadata": {
    "collapsed": false,
    "pycharm": {
     "name": "#%%\n"
    }
   }
  },
  {
   "cell_type": "code",
   "execution_count": 34,
   "outputs": [
    {
     "name": "stdout",
     "output_type": "stream",
     "text": [
      "{\n",
      "  \"name\": \"pandas_generated_checkpoint\",\n",
      "  \"config_version\": 1.0,\n",
      "  \"template_name\": null,\n",
      "  \"module_name\": \"great_expectations.checkpoint\",\n",
      "  \"class_name\": \"Checkpoint\",\n",
      "  \"run_name_template\": \"%Y%m%d-%H%M%S-pandas_generated_checkpoint_run\",\n",
      "  \"expectation_suite_name\": null,\n",
      "  \"batch_request\": null,\n",
      "  \"action_list\": [\n",
      "    {\n",
      "      \"name\": \"store_validation_result\",\n",
      "      \"action\": {\n",
      "        \"class_name\": \"StoreValidationResultAction\"\n",
      "      }\n",
      "    },\n",
      "    {\n",
      "      \"name\": \"store_evaluation_params\",\n",
      "      \"action\": {\n",
      "        \"class_name\": \"StoreEvaluationParametersAction\"\n",
      "      }\n",
      "    },\n",
      "    {\n",
      "      \"name\": \"update_data_docs\",\n",
      "      \"action\": {\n",
      "        \"class_name\": \"UpdateDataDocsAction\",\n",
      "        \"site_names\": []\n",
      "      }\n",
      "    }\n",
      "  ],\n",
      "  \"evaluation_parameters\": {},\n",
      "  \"runtime_configuration\": {},\n",
      "  \"validations\": [\n",
      "    {\n",
      "      \"batch_request\": {\n",
      "        \"datasource_name\": \"pengfei_test\",\n",
      "        \"data_connector_name\": \"default_inferred_data_connector_name\",\n",
      "        \"data_asset_name\": \"adult_with_duplicates.csv\",\n",
      "        \"data_connector_query\": {\n",
      "          \"index\": -1\n",
      "        }\n",
      "      },\n",
      "      \"expectation_suite_name\": \"pandas_generated_expectations\"\n",
      "    }\n",
      "  ],\n",
      "  \"profilers\": [],\n",
      "  \"ge_cloud_id\": null,\n",
      "  \"expectation_suite_ge_cloud_id\": null\n",
      "}\n"
     ]
    },
    {
     "data": {
      "text/plain": "<great_expectations.checkpoint.checkpoint.SimpleCheckpoint at 0x7f46c2153550>"
     },
     "execution_count": 34,
     "metadata": {},
     "output_type": "execute_result"
    }
   ],
   "source": [
    "# save the checkpoint\n",
    "data_context.add_checkpoint(**yaml.load(checkpoint_config))"
   ],
   "metadata": {
    "collapsed": false,
    "pycharm": {
     "name": "#%%\n"
    }
   }
  },
  {
   "cell_type": "code",
   "execution_count": 35,
   "outputs": [
    {
     "data": {
      "text/plain": "Calculating Metrics:   0%|          | 0/6 [00:00<?, ?it/s]",
      "application/vnd.jupyter.widget-view+json": {
       "version_major": 2,
       "version_minor": 0,
       "model_id": "3779cdef35bf4b6ab97051cb2bb11e40"
      }
     },
     "metadata": {},
     "output_type": "display_data"
    }
   ],
   "source": [
    "# run the checkpoint\n",
    "data_context.run_checkpoint(checkpoint_name=my_checkpoint_name)\n",
    "\n",
    "# view the result\n",
    "data_context.open_data_docs()"
   ],
   "metadata": {
    "collapsed": false,
    "pycharm": {
     "name": "#%%\n"
    }
   }
  },
  {
   "cell_type": "markdown",
   "source": [
    "The checkpoint is executed, see the below image.\n",
    "\n",
    "You can notice the validation failed, because we added a rule to avoid null value, but the sample data contains null value. So it's normal\n",
    "\n",
    "![expectation_pandas_profiling_integration](../images/expectation_pandas_integration.png)"
   ],
   "metadata": {
    "collapsed": false,
    "pycharm": {
     "name": "#%% md\n"
    }
   }
  },
  {
   "cell_type": "code",
   "execution_count": null,
   "outputs": [],
   "source": [],
   "metadata": {
    "collapsed": false,
    "pycharm": {
     "name": "#%%\n"
    }
   }
  }
 ],
 "metadata": {
  "kernelspec": {
   "display_name": "Python 3",
   "language": "python",
   "name": "python3"
  },
  "language_info": {
   "codemirror_mode": {
    "name": "ipython",
    "version": 2
   },
   "file_extension": ".py",
   "mimetype": "text/x-python",
   "name": "python",
   "nbconvert_exporter": "python",
   "pygments_lexer": "ipython2",
   "version": "2.7.6"
  }
 },
 "nbformat": 4,
 "nbformat_minor": 0
}