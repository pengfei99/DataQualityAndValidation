{
 "cells": [
  {
   "cell_type": "markdown",
   "metadata": {
    "collapsed": true,
    "pycharm": {
     "name": "#%% md\n"
    }
   },
   "source": [
    "# Tutorial 3\n",
    "In tutorial 1 and 2, we have seen how to use great expectation as a project framework to validate data. If you don't want to use\n",
    "all the features that it provides you. you can just use the simple validation method directly on a dataframe"
   ]
  },
  {
   "cell_type": "code",
   "execution_count": 11,
   "outputs": [],
   "source": [
    "import great_expectations as ge\n",
    "import pandas as pd\n",
    "from matplotlib import pyplot as plt\n",
    "%matplotlib inline"
   ],
   "metadata": {
    "collapsed": false,
    "pycharm": {
     "name": "#%%\n"
    }
   }
  },
  {
   "cell_type": "code",
   "execution_count": 12,
   "outputs": [
    {
     "name": "stdout",
     "output_type": "stream",
     "text": [
      "Index(['age', 'workclass', 'fnlwgt', 'education', 'education-num',\n",
      "       'marital-status', 'occupation', 'relationship', 'race', 'sex',\n",
      "       'capital-gain', 'capital-loss', 'hours-per-week', 'native-country',\n",
      "       'income'],\n",
      "      dtype='object')\n"
     ]
    }
   ],
   "source": [
    "file_path=\"../data/adult_with_duplicates.csv\"\n",
    "\n",
    "\n",
    "df = pd.read_csv(file_path)\n",
    "\n",
    "# convert pandas dataframe to ge dataframe\n",
    "df = ge.dataset.PandasDataset(df)\n",
    "print(df.columns)"
   ],
   "metadata": {
    "collapsed": false,
    "pycharm": {
     "name": "#%%\n"
    }
   }
  },
  {
   "cell_type": "code",
   "execution_count": 13,
   "outputs": [
    {
     "data": {
      "text/plain": "     age       workclass  fnlwgt  education  education-num marital-status  \\\n0  139.0       State-gov   77516  Bachelors             13  Never-married   \n1  -12.0       State-gov   77516  Bachelors             13  Never-married   \n2    NaN  emp-by-pengfei   77516  Bachelors             13  Never-married   \n3   39.5       State-gov   77516  Bachelors             13  Never-married   \n4   39.0       State-gov   77516  Bachelors             13  Never-married   \n\n     occupation   relationship   race   sex  capital-gain  capital-loss  \\\n0  Adm-clerical  Not-in-family  White  Male          2174             0   \n1  Adm-clerical  Not-in-family  White  Male          2174             0   \n2  Adm-clerical  Not-in-family  White  Male          2174             0   \n3  Adm-clerical  Not-in-family  White  Male          2174             0   \n4  Adm-clerical  Not-in-family  White  Male          2174             0   \n\n   hours-per-week native-country income  \n0              40  United-States  <=50K  \n1              40  United-States  <=50K  \n2              40  United-States  <=50K  \n3              40  United-States  <=50K  \n4              40  United-States  <=50K  ",
      "text/html": "<div>\n<style scoped>\n    .dataframe tbody tr th:only-of-type {\n        vertical-align: middle;\n    }\n\n    .dataframe tbody tr th {\n        vertical-align: top;\n    }\n\n    .dataframe thead th {\n        text-align: right;\n    }\n</style>\n<table border=\"1\" class=\"dataframe\">\n  <thead>\n    <tr style=\"text-align: right;\">\n      <th></th>\n      <th>age</th>\n      <th>workclass</th>\n      <th>fnlwgt</th>\n      <th>education</th>\n      <th>education-num</th>\n      <th>marital-status</th>\n      <th>occupation</th>\n      <th>relationship</th>\n      <th>race</th>\n      <th>sex</th>\n      <th>capital-gain</th>\n      <th>capital-loss</th>\n      <th>hours-per-week</th>\n      <th>native-country</th>\n      <th>income</th>\n    </tr>\n  </thead>\n  <tbody>\n    <tr>\n      <th>0</th>\n      <td>139.0</td>\n      <td>State-gov</td>\n      <td>77516</td>\n      <td>Bachelors</td>\n      <td>13</td>\n      <td>Never-married</td>\n      <td>Adm-clerical</td>\n      <td>Not-in-family</td>\n      <td>White</td>\n      <td>Male</td>\n      <td>2174</td>\n      <td>0</td>\n      <td>40</td>\n      <td>United-States</td>\n      <td>&lt;=50K</td>\n    </tr>\n    <tr>\n      <th>1</th>\n      <td>-12.0</td>\n      <td>State-gov</td>\n      <td>77516</td>\n      <td>Bachelors</td>\n      <td>13</td>\n      <td>Never-married</td>\n      <td>Adm-clerical</td>\n      <td>Not-in-family</td>\n      <td>White</td>\n      <td>Male</td>\n      <td>2174</td>\n      <td>0</td>\n      <td>40</td>\n      <td>United-States</td>\n      <td>&lt;=50K</td>\n    </tr>\n    <tr>\n      <th>2</th>\n      <td>NaN</td>\n      <td>emp-by-pengfei</td>\n      <td>77516</td>\n      <td>Bachelors</td>\n      <td>13</td>\n      <td>Never-married</td>\n      <td>Adm-clerical</td>\n      <td>Not-in-family</td>\n      <td>White</td>\n      <td>Male</td>\n      <td>2174</td>\n      <td>0</td>\n      <td>40</td>\n      <td>United-States</td>\n      <td>&lt;=50K</td>\n    </tr>\n    <tr>\n      <th>3</th>\n      <td>39.5</td>\n      <td>State-gov</td>\n      <td>77516</td>\n      <td>Bachelors</td>\n      <td>13</td>\n      <td>Never-married</td>\n      <td>Adm-clerical</td>\n      <td>Not-in-family</td>\n      <td>White</td>\n      <td>Male</td>\n      <td>2174</td>\n      <td>0</td>\n      <td>40</td>\n      <td>United-States</td>\n      <td>&lt;=50K</td>\n    </tr>\n    <tr>\n      <th>4</th>\n      <td>39.0</td>\n      <td>State-gov</td>\n      <td>77516</td>\n      <td>Bachelors</td>\n      <td>13</td>\n      <td>Never-married</td>\n      <td>Adm-clerical</td>\n      <td>Not-in-family</td>\n      <td>White</td>\n      <td>Male</td>\n      <td>2174</td>\n      <td>0</td>\n      <td>40</td>\n      <td>United-States</td>\n      <td>&lt;=50K</td>\n    </tr>\n  </tbody>\n</table>\n</div>"
     },
     "execution_count": 13,
     "metadata": {},
     "output_type": "execute_result"
    }
   ],
   "source": [
    "df.head()"
   ],
   "metadata": {
    "collapsed": false,
    "pycharm": {
     "name": "#%%\n"
    }
   }
  },
  {
   "cell_type": "markdown",
   "source": [
    "# Apply validation method directly on the dataframe\n",
    "\n",
    "Below method checks if the dataframe has the expected column names. It's equivalent to the yaml config\n",
    "\n",
    "```yaml\n",
    "\"expectations\": [\n",
    "    {\n",
    "      \"expectation_type\": \"expect_table_columns_to_match_ordered_list\",\n",
    "      \"kwargs\": {\n",
    "        \"column_list\": [\n",
    "          \"age\",\n",
    "          \"workclass\",\n",
    "          \"fnlwgt\",\n",
    "          \"education\",\n",
    "          \"education-num\",\n",
    "          \"marital-status\",\n",
    "          \"occupation\",\n",
    "          \"relationship\",\n",
    "          \"race\",\n",
    "          \"sex\",\n",
    "          \"capital-gain\",\n",
    "          \"capital-loss\",\n",
    "          \"hours-per-week\",\n",
    "          \"native-country\",\n",
    "          \"income\"\n",
    "        ]\n",
    "      },\n",
    "      \"meta\": {}\n",
    "    }\n",
    "```"
   ],
   "metadata": {
    "collapsed": false,
    "pycharm": {
     "name": "#%% md\n"
    }
   }
  },
  {
   "cell_type": "code",
   "execution_count": 19,
   "outputs": [
    {
     "data": {
      "text/plain": "{\n  \"success\": true,\n  \"meta\": {},\n  \"exception_info\": {\n    \"raised_exception\": false,\n    \"exception_traceback\": null,\n    \"exception_message\": null\n  },\n  \"result\": {\n    \"observed_value\": [\n      \"age\",\n      \"workclass\",\n      \"fnlwgt\",\n      \"education\",\n      \"education-num\",\n      \"marital-status\",\n      \"occupation\",\n      \"relationship\",\n      \"race\",\n      \"sex\",\n      \"capital-gain\",\n      \"capital-loss\",\n      \"hours-per-week\",\n      \"native-country\",\n      \"income\"\n    ]\n  }\n}"
     },
     "execution_count": 19,
     "metadata": {},
     "output_type": "execute_result"
    }
   ],
   "source": [
    "column_list= [\n",
    "          \"age\",\n",
    "          \"workclass\",\n",
    "          \"fnlwgt\",\n",
    "          \"education\",\n",
    "          \"education-num\",\n",
    "          \"marital-status\",\n",
    "          \"occupation\",\n",
    "          \"relationship\",\n",
    "          \"race\",\n",
    "          \"sex\",\n",
    "          \"capital-gain\",\n",
    "          \"capital-loss\",\n",
    "          \"hours-per-week\",\n",
    "          \"native-country\",\n",
    "          \"income\",\n",
    "    # \"toto\"\n",
    "        ]\n",
    "df.expect_table_columns_to_match_ordered_list(column_list=column_list)"
   ],
   "metadata": {
    "collapsed": false,
    "pycharm": {
     "name": "#%%\n"
    }
   }
  },
  {
   "cell_type": "markdown",
   "source": [
    "Below method checks if the age value is between 0 and 120. It's equivalent to the yaml config\n",
    "\n",
    "```yaml\n",
    " {\n",
    "      \"expectation_type\": \"expect_column_values_to_be_between\",\n",
    "      \"kwargs\": {\n",
    "        \"column\": \"age\",\n",
    "        \"max_value\": 120.0,\n",
    "        \"min_value\": 0.0\n",
    "      },\n",
    "      \"meta\": {}\n",
    "    }\n",
    "```"
   ],
   "metadata": {
    "collapsed": false,
    "pycharm": {
     "name": "#%% md\n"
    }
   }
  },
  {
   "cell_type": "code",
   "execution_count": 20,
   "outputs": [
    {
     "data": {
      "text/plain": "{\n  \"success\": false,\n  \"meta\": {},\n  \"exception_info\": {\n    \"raised_exception\": false,\n    \"exception_traceback\": null,\n    \"exception_message\": null\n  },\n  \"result\": {\n    \"element_count\": 32607,\n    \"missing_count\": 1,\n    \"missing_percent\": 0.0030668261416260316,\n    \"unexpected_count\": 4,\n    \"unexpected_percent\": 0.012267680794945715,\n    \"unexpected_percent_total\": 0.012267304566504126,\n    \"unexpected_percent_nonmissing\": 0.012267680794945715,\n    \"partial_unexpected_list\": [\n      139.0,\n      -12.0,\n      152.0,\n      154.0\n    ]\n  }\n}"
     },
     "execution_count": 20,
     "metadata": {},
     "output_type": "execute_result"
    }
   ],
   "source": [
    "# ge dataframe provides access to all validation method\n",
    "\n",
    "df.expect_column_values_to_be_between(column='age', min_value=0, max_value=120)"
   ],
   "metadata": {
    "collapsed": false,
    "pycharm": {
     "name": "#%%\n"
    }
   }
  },
  {
   "cell_type": "code",
   "execution_count": 15,
   "outputs": [
    {
     "data": {
      "text/plain": "{\n  \"success\": false,\n  \"meta\": {},\n  \"exception_info\": {\n    \"raised_exception\": false,\n    \"exception_traceback\": null,\n    \"exception_message\": null\n  },\n  \"result\": {\n    \"element_count\": 32607,\n    \"unexpected_count\": 1,\n    \"unexpected_percent\": 0.0030668261416260316,\n    \"unexpected_percent_total\": 0.0030668261416260316,\n    \"partial_unexpected_list\": []\n  }\n}"
     },
     "execution_count": 15,
     "metadata": {},
     "output_type": "execute_result"
    }
   ],
   "source": [
    "df.expect_column_values_to_not_be_null(\"age\")"
   ],
   "metadata": {
    "collapsed": false,
    "pycharm": {
     "name": "#%%\n"
    }
   }
  },
  {
   "cell_type": "code",
   "execution_count": 16,
   "outputs": [
    {
     "data": {
      "text/plain": "{\n  \"success\": false,\n  \"meta\": {},\n  \"exception_info\": {\n    \"raised_exception\": false,\n    \"exception_traceback\": null,\n    \"exception_message\": null\n  },\n  \"result\": {\n    \"element_count\": 32607,\n    \"missing_count\": 1836,\n    \"missing_percent\": 5.630692796025393,\n    \"unexpected_count\": 1,\n    \"unexpected_percent\": 0.003249813135744695,\n    \"unexpected_percent_total\": 0.0030668261416260316,\n    \"unexpected_percent_nonmissing\": 0.003249813135744695,\n    \"partial_unexpected_list\": [\n      \"emp-by-pengfei\"\n    ]\n  }\n}"
     },
     "execution_count": 16,
     "metadata": {},
     "output_type": "execute_result"
    }
   ],
   "source": [
    "values= (\"Private\", \"Self-emp-not-inc\", \"Self-emp-inc\", \"Federal-gov\", \"Local-gov\", \"State-gov\", \"Without-pay\", \"Never-worked\")\n",
    "df.expect_column_values_to_be_in_set(\"workclass\",value_set=values)"
   ],
   "metadata": {
    "collapsed": false,
    "pycharm": {
     "name": "#%%\n"
    }
   }
  },
  {
   "cell_type": "code",
   "execution_count": null,
   "outputs": [],
   "source": [],
   "metadata": {
    "collapsed": false,
    "pycharm": {
     "name": "#%%\n"
    }
   }
  }
 ],
 "metadata": {
  "kernelspec": {
   "display_name": "Python 3",
   "language": "python",
   "name": "python3"
  },
  "language_info": {
   "codemirror_mode": {
    "name": "ipython",
    "version": 2
   },
   "file_extension": ".py",
   "mimetype": "text/x-python",
   "name": "python",
   "nbconvert_exporter": "python",
   "pygments_lexer": "ipython2",
   "version": "2.7.6"
  }
 },
 "nbformat": 4,
 "nbformat_minor": 0
}