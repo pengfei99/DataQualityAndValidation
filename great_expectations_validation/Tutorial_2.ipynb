{
 "cells": [
  {
   "cell_type": "markdown",
   "metadata": {
    "collapsed": true,
    "pycharm": {
     "name": "#%% md\n"
    }
   },
   "source": [
    "# Tutorial 2\n",
    "\n",
    "In tutorial 1, we used the CLI and generated notebook to create data source, expectation suites and check points. In this tutorial, we will try to create a notebook by ourselves and do all the actions with one single notebook.\n"
   ]
  },
  {
   "cell_type": "code",
   "execution_count": null,
   "outputs": [],
   "source": [
    "%matplotlib inline\n",
    "\n",
    "from great_expectations.core.expectation_configuration import ExpectationConfiguration\n",
    "from great_expectations.data_context.types.resource_identifiers import (\n",
    "    ExpectationSuiteIdentifier,\n",
    ")\n",
    "from great_expectations.exceptions import DataContextError\n",
    "import great_expectations as ge\n",
    "from great_expectations.cli.datasource import sanitize_yaml_and_save_datasource, check_if_datasource_name_exists"
   ],
   "metadata": {
    "collapsed": false,
    "pycharm": {
     "name": "#%%\n"
    }
   }
  },
  {
   "cell_type": "code",
   "execution_count": 4,
   "outputs": [],
   "source": [
    "# get the project context\n",
    "context = ge.get_context()"
   ],
   "metadata": {
    "collapsed": false,
    "pycharm": {
     "name": "#%%\n"
    }
   }
  },
  {
   "cell_type": "markdown",
   "source": [
    "# 1. Create a new pandas Datasource\n",
    "Here we create a file based datasource"
   ],
   "metadata": {
    "collapsed": false,
    "pycharm": {
     "name": "#%% md\n"
    }
   }
  },
  {
   "cell_type": "code",
   "execution_count": 6,
   "outputs": [
    {
     "name": "stdout",
     "output_type": "stream",
     "text": [
      "\n",
      "name: pengfei_test\n",
      "class_name: Datasource\n",
      "execution_engine:\n",
      "  class_name: PandasExecutionEngine\n",
      "data_connectors:\n",
      "  default_inferred_data_connector_name:\n",
      "    class_name: InferredAssetFilesystemDataConnector\n",
      "    base_directory: ../../data\n",
      "    default_regex:\n",
      "      group_names:\n",
      "        - data_asset_name\n",
      "      pattern: (.*)\n",
      "  default_runtime_data_connector_name:\n",
      "    class_name: RuntimeDataConnector\n",
      "    batch_identifiers:\n",
      "      - default_identifier_name\n",
      "\n"
     ]
    }
   ],
   "source": [
    "# you can name it as you want\n",
    "datasource_name = \"pengfei_test\"\n",
    "\n",
    "my_datasource_yaml = f\"\"\"\n",
    "name: {datasource_name}\n",
    "class_name: Datasource\n",
    "execution_engine:\n",
    "  class_name: PandasExecutionEngine\n",
    "data_connectors:\n",
    "  default_inferred_data_connector_name:\n",
    "    class_name: InferredAssetFilesystemDataConnector\n",
    "    base_directory: ../../data\n",
    "    default_regex:\n",
    "      group_names:\n",
    "        - data_asset_name\n",
    "      pattern: (.*)\n",
    "  default_runtime_data_connector_name:\n",
    "    class_name: RuntimeDataConnector\n",
    "    batch_identifiers:\n",
    "      - default_identifier_name\n",
    "\"\"\"\n",
    "print(my_datasource_yaml)"
   ],
   "metadata": {
    "collapsed": false,
    "pycharm": {
     "name": "#%%\n"
    }
   }
  },
  {
   "cell_type": "markdown",
   "source": [
    "## 1.1 Test if your data source configuration is valid"
   ],
   "metadata": {
    "collapsed": false,
    "pycharm": {
     "name": "#%% md\n"
    }
   }
  },
  {
   "cell_type": "code",
   "execution_count": 7,
   "outputs": [
    {
     "name": "stdout",
     "output_type": "stream",
     "text": [
      "Attempting to instantiate class from config...\n",
      "\tInstantiating as a Datasource, since class_name is Datasource\n",
      "\tSuccessfully instantiated Datasource\n",
      "\n",
      "\n",
      "ExecutionEngine class name: PandasExecutionEngine\n",
      "Data Connectors:\n",
      "\tdefault_inferred_data_connector_name : InferredAssetFilesystemDataConnector\n",
      "\n",
      "\tAvailable data_asset_names (2 of 2):\n",
      "\t\tadult.csv (1 of 1): ['adult.csv']\n",
      "\t\tadult_with_duplicates.csv (1 of 1): ['adult_with_duplicates.csv']\n",
      "\n",
      "\tUnmatched data_references (0 of 0):[]\n",
      "\n",
      "\tdefault_runtime_data_connector_name:RuntimeDataConnector\n",
      "\n",
      "\tAvailable data_asset_names (0 of 0):\n",
      "\t\tNote : RuntimeDataConnector will not have data_asset_names until they are passed in through RuntimeBatchRequest\n",
      "\n",
      "\tUnmatched data_references (0 of 0): []\n",
      "\n"
     ]
    },
    {
     "data": {
      "text/plain": "<great_expectations.datasource.new_datasource.Datasource at 0x7fb5a02e2f10>"
     },
     "execution_count": 7,
     "metadata": {},
     "output_type": "execute_result"
    }
   ],
   "source": [
    "context.test_yaml_config(yaml_config=my_datasource_yaml)"
   ],
   "metadata": {
    "collapsed": false,
    "pycharm": {
     "name": "#%%\n"
    }
   }
  },
  {
   "cell_type": "markdown",
   "source": [
    "## 1.2 save the datasource"
   ],
   "metadata": {
    "collapsed": false,
    "pycharm": {
     "name": "#%% md\n"
    }
   }
  },
  {
   "cell_type": "code",
   "execution_count": 8,
   "outputs": [],
   "source": [
    "sanitize_yaml_and_save_datasource(context, my_datasource_yaml, overwrite_existing=False)\n"
   ],
   "metadata": {
    "collapsed": false,
    "pycharm": {
     "name": "#%%\n"
    }
   }
  },
  {
   "cell_type": "code",
   "execution_count": null,
   "outputs": [],
   "source": [
    "## 1.3 List existing datasource"
   ],
   "metadata": {
    "collapsed": false,
    "pycharm": {
     "name": "#%%\n"
    }
   }
  },
  {
   "cell_type": "code",
   "execution_count": 9,
   "outputs": [
    {
     "data": {
      "text/plain": "[{'execution_engine': {'class_name': 'PandasExecutionEngine',\n   'module_name': 'great_expectations.execution_engine'},\n  'class_name': 'Datasource',\n  'module_name': 'great_expectations.datasource',\n  'data_connectors': {'default_inferred_data_connector_name': {'base_directory': '../../data',\n    'module_name': 'great_expectations.datasource.data_connector',\n    'default_regex': {'group_names': ['data_asset_name'], 'pattern': '(.*)'},\n    'class_name': 'InferredAssetFilesystemDataConnector'},\n   'default_runtime_data_connector_name': {'batch_identifiers': ['default_identifier_name'],\n    'module_name': 'great_expectations.datasource.data_connector',\n    'class_name': 'RuntimeDataConnector'}},\n  'name': 'census_income_validation'},\n {'execution_engine': {'class_name': 'PandasExecutionEngine',\n   'module_name': 'great_expectations.execution_engine'},\n  'class_name': 'Datasource',\n  'module_name': 'great_expectations.datasource',\n  'data_connectors': {'default_inferred_data_connector_name': {'base_directory': '../../data',\n    'module_name': 'great_expectations.datasource.data_connector',\n    'default_regex': {'group_names': ['data_asset_name'], 'pattern': '(.*)'},\n    'class_name': 'InferredAssetFilesystemDataConnector'},\n   'default_runtime_data_connector_name': {'batch_identifiers': ['default_identifier_name'],\n    'module_name': 'great_expectations.datasource.data_connector',\n    'class_name': 'RuntimeDataConnector'}},\n  'name': 'pengfei_test'}]"
     },
     "execution_count": 9,
     "metadata": {},
     "output_type": "execute_result"
    }
   ],
   "source": [
    "context.list_datasources()"
   ],
   "metadata": {
    "collapsed": false,
    "pycharm": {
     "name": "#%%\n"
    }
   }
  },
  {
   "cell_type": "markdown",
   "source": [
    "# 2. Create or Edit expectation suits\n",
    "\n",
    "Below code takes an **expectation suit name** as input, if it exists in the project, it returns the e"
   ],
   "metadata": {
    "collapsed": false,
    "pycharm": {
     "name": "#%% md\n"
    }
   }
  },
  {
   "cell_type": "code",
   "execution_count": 12,
   "outputs": [
    {
     "name": "stdout",
     "output_type": "stream",
     "text": [
      "Created ExpectationSuite \"pengfei.test1\".\n"
     ]
    }
   ],
   "source": [
    "expectation_suite_name = \"pengfei.test1\"\n",
    "\n",
    "\n",
    "try:\n",
    "    suite = context.get_expectation_suite(expectation_suite_name=expectation_suite_name)\n",
    "    print(\n",
    "        f'Loaded ExpectationSuite \"{suite.expectation_suite_name}\" containing {len(suite.expectations)} expectations.'\n",
    "    )\n",
    "except DataContextError:\n",
    "    suite = context.create_expectation_suite(\n",
    "        expectation_suite_name=expectation_suite_name\n",
    "    )\n",
    "    print(f'Created ExpectationSuite \"{suite.expectation_suite_name}\".')"
   ],
   "metadata": {
    "collapsed": false,
    "pycharm": {
     "name": "#%%\n"
    }
   }
  },
  {
   "cell_type": "markdown",
   "source": [
    "# 2.1 Add expectations to the expectation suite\n",
    "\n",
    "After getting the instance of the expectation suite, we can and need to add expectations(validation rules) to the suite.\n",
    "Below is an example, we add a rule that verify column age can not have null values.\n",
    "\n",
    "For now, if the expectation suite already contains expectations(validation rules), we can't remove them by using the suite object. We can only add new rules.\n",
    "\n"
   ],
   "metadata": {
    "collapsed": false,
    "pycharm": {
     "name": "#%% md\n"
    }
   }
  },
  {
   "cell_type": "code",
   "execution_count": 13,
   "outputs": [
    {
     "data": {
      "text/plain": "{\"kwargs\": {\"column\": \"age\"}, \"meta\": {}, \"expectation_type\": \"expect_column_values_to_not_be_null\"}"
     },
     "execution_count": 13,
     "metadata": {},
     "output_type": "execute_result"
    }
   ],
   "source": [
    "# define a validation rule, it's a dict fill with key/value\n",
    "expectation_configuration = ExpectationConfiguration(\n",
    "    **{\n",
    "        \"meta\": {},\n",
    "        \"expectation_type\": \"expect_column_values_to_not_be_null\",\n",
    "        \"kwargs\": {\"column\": \"age\"},\n",
    "    }\n",
    ")\n",
    "\n",
    "# add the rule to the suite\n",
    "suite.add_expectation(expectation_configuration=expectation_configuration)"
   ],
   "metadata": {
    "collapsed": false,
    "pycharm": {
     "name": "#%%\n"
    }
   }
  },
  {
   "cell_type": "markdown",
   "source": [
    "# 2.2 Save the expectation suite to the project context\n",
    "\n",
    "After you save the expectation, it will create a new directory in the folder \"expectations\". The name of the created directory is the first part of the expectation suite name (i.e. pengfei). The json file in the directory (i.e. test1.json) is the actual file that contains all the expectations (validation rules)\n",
    "\n",
    "```text\n",
    "├── great_expectations\n",
    "│         ├── checkpoints\n",
    "│         ├── expectations\n",
    "│                   ├── census_income_expectation_suite\n",
    "│                   └── pengfei\n",
    "|                         |__test1.json\n",
    "\n",
    "│         ├── plugins\n",
    "│         └── uncommitted\n",
    "└── README.md\n",
    "\n",
    "```"
   ],
   "metadata": {
    "collapsed": false,
    "pycharm": {
     "name": "#%% md\n"
    }
   }
  },
  {
   "cell_type": "code",
   "execution_count": 14,
   "outputs": [],
   "source": [
    "context.save_expectation_suite(expectation_suite=suite, expectation_suite_name=expectation_suite_name)\n",
    "\n",
    "# we can get an identifier by using the name of expectation suite\n",
    "suite_identifier = ExpectationSuiteIdentifier(expectation_suite_name=expectation_suite_name)\n",
    "\n",
    "# use the below command will use the config in the expectation folders to generate a web page that contains the\n",
    "# information of the newly created expectation suite\n",
    "context.build_data_docs(resource_identifiers=[suite_identifier])\n",
    "\n",
    "# open the web page in a browser\n",
    "context.open_data_docs(resource_identifier=suite_identifier)"
   ],
   "metadata": {
    "collapsed": false,
    "pycharm": {
     "name": "#%%\n"
    }
   }
  },
  {
   "cell_type": "markdown",
   "source": [
    "You should see the below page in your browser\n",
    "\n",
    "![Expectation_ui](../images/expectations_validation_rule.png)\n"
   ],
   "metadata": {
    "collapsed": false,
    "pycharm": {
     "name": "#%% md\n"
    }
   }
  }
 ],
 "metadata": {
  "kernelspec": {
   "display_name": "Python 3",
   "language": "python",
   "name": "python3"
  },
  "language_info": {
   "codemirror_mode": {
    "name": "ipython",
    "version": 2
   },
   "file_extension": ".py",
   "mimetype": "text/x-python",
   "name": "python",
   "nbconvert_exporter": "python",
   "pygments_lexer": "ipython2",
   "version": "2.7.6"
  }
 },
 "nbformat": 4,
 "nbformat_minor": 0
}