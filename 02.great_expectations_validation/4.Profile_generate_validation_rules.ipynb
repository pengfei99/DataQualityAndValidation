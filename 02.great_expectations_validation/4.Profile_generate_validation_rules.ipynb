{
 "cells": [
  {
   "cell_type": "markdown",
   "metadata": {
    "collapsed": true,
    "pycharm": {
     "name": "#%% md\n"
    }
   },
   "source": [
    "# Use Greate validation profile to generate validation rules\n",
    "\n",
    "The general step is:\n",
    "1. define the base data source\n",
    "2. define a profiler that take the base data source\n",
    "3. Run profiler to generate validation rule set.\n",
    "4. Apply validation rules on other data."
   ]
  },
  {
   "cell_type": "code",
   "execution_count": 1,
   "outputs": [
    {
     "name": "stdout",
     "output_type": "stream",
     "text": [
      "2022-02-24T15:31:55+0100 - INFO - Great Expectations logging enabled at 20 level by JupyterUX module.\n"
     ]
    },
    {
     "name": "stderr",
     "output_type": "stream",
     "text": [
      "/home/pliu/.cache/pypoetry/virtualenvs/dataqualityandvalidation-6LYnP9NJ-py3.8/lib/python3.8/site-packages/great_expectations/jupyter_ux/__init__.py:10: DeprecationWarning: Importing display from IPython.core.display is deprecated since IPython 7.14, please import from IPython display\n",
      "  from IPython.core.display import HTML, display\n"
     ]
    },
    {
     "name": "stdout",
     "output_type": "stream",
     "text": [
      "Columns: \"age\", \"workclass\", \"fnlwgt\", \"education\", \"education-num\", \"marital-status\", \"occupation\", \"relationship\", \"race\", \"sex\", \"capital-gain\", \"capital-loss\", \"hours-per-week\", \"native-country\", \"income\".\n"
     ]
    },
    {
     "data": {
      "text/plain": "     age       workclass  fnlwgt  education  education-num marital-status  \\\n0  139.0       State-gov   77516  Bachelors             13  Never-married   \n1  -12.0       State-gov   77516  Bachelors             13  Never-married   \n2    NaN  emp-by-pengfei   77516  Bachelors             13  Never-married   \n3   39.5       State-gov   77516  Bachelors             13  Never-married   \n4   39.0       State-gov   77516  Bachelors             13  Never-married   \n\n     occupation   relationship   race   sex  capital-gain  capital-loss  \\\n0  Adm-clerical  Not-in-family  White  Male          2174             0   \n1  Adm-clerical  Not-in-family  White  Male          2174             0   \n2  Adm-clerical  Not-in-family  White  Male          2174             0   \n3  Adm-clerical  Not-in-family  White  Male          2174             0   \n4  Adm-clerical  Not-in-family  White  Male          2174             0   \n\n   hours-per-week native-country income  \n0              40  United-States  <=50K  \n1              40  United-States  <=50K  \n2              40  United-States  <=50K  \n3              40  United-States  <=50K  \n4              40  United-States  <=50K  ",
      "text/html": "<div>\n<style scoped>\n    .dataframe tbody tr th:only-of-type {\n        vertical-align: middle;\n    }\n\n    .dataframe tbody tr th {\n        vertical-align: top;\n    }\n\n    .dataframe thead th {\n        text-align: right;\n    }\n</style>\n<table border=\"1\" class=\"dataframe\">\n  <thead>\n    <tr style=\"text-align: right;\">\n      <th></th>\n      <th>age</th>\n      <th>workclass</th>\n      <th>fnlwgt</th>\n      <th>education</th>\n      <th>education-num</th>\n      <th>marital-status</th>\n      <th>occupation</th>\n      <th>relationship</th>\n      <th>race</th>\n      <th>sex</th>\n      <th>capital-gain</th>\n      <th>capital-loss</th>\n      <th>hours-per-week</th>\n      <th>native-country</th>\n      <th>income</th>\n    </tr>\n  </thead>\n  <tbody>\n    <tr>\n      <th>0</th>\n      <td>139.0</td>\n      <td>State-gov</td>\n      <td>77516</td>\n      <td>Bachelors</td>\n      <td>13</td>\n      <td>Never-married</td>\n      <td>Adm-clerical</td>\n      <td>Not-in-family</td>\n      <td>White</td>\n      <td>Male</td>\n      <td>2174</td>\n      <td>0</td>\n      <td>40</td>\n      <td>United-States</td>\n      <td>&lt;=50K</td>\n    </tr>\n    <tr>\n      <th>1</th>\n      <td>-12.0</td>\n      <td>State-gov</td>\n      <td>77516</td>\n      <td>Bachelors</td>\n      <td>13</td>\n      <td>Never-married</td>\n      <td>Adm-clerical</td>\n      <td>Not-in-family</td>\n      <td>White</td>\n      <td>Male</td>\n      <td>2174</td>\n      <td>0</td>\n      <td>40</td>\n      <td>United-States</td>\n      <td>&lt;=50K</td>\n    </tr>\n    <tr>\n      <th>2</th>\n      <td>NaN</td>\n      <td>emp-by-pengfei</td>\n      <td>77516</td>\n      <td>Bachelors</td>\n      <td>13</td>\n      <td>Never-married</td>\n      <td>Adm-clerical</td>\n      <td>Not-in-family</td>\n      <td>White</td>\n      <td>Male</td>\n      <td>2174</td>\n      <td>0</td>\n      <td>40</td>\n      <td>United-States</td>\n      <td>&lt;=50K</td>\n    </tr>\n    <tr>\n      <th>3</th>\n      <td>39.5</td>\n      <td>State-gov</td>\n      <td>77516</td>\n      <td>Bachelors</td>\n      <td>13</td>\n      <td>Never-married</td>\n      <td>Adm-clerical</td>\n      <td>Not-in-family</td>\n      <td>White</td>\n      <td>Male</td>\n      <td>2174</td>\n      <td>0</td>\n      <td>40</td>\n      <td>United-States</td>\n      <td>&lt;=50K</td>\n    </tr>\n    <tr>\n      <th>4</th>\n      <td>39.0</td>\n      <td>State-gov</td>\n      <td>77516</td>\n      <td>Bachelors</td>\n      <td>13</td>\n      <td>Never-married</td>\n      <td>Adm-clerical</td>\n      <td>Not-in-family</td>\n      <td>White</td>\n      <td>Male</td>\n      <td>2174</td>\n      <td>0</td>\n      <td>40</td>\n      <td>United-States</td>\n      <td>&lt;=50K</td>\n    </tr>\n  </tbody>\n</table>\n</div>"
     },
     "execution_count": 1,
     "metadata": {},
     "output_type": "execute_result"
    }
   ],
   "source": [
    "import datetime\n",
    "\n",
    "import pandas as pd\n",
    "\n",
    "import great_expectations as ge\n",
    "import great_expectations.jupyter_ux\n",
    "from great_expectations.core.batch import BatchRequest\n",
    "from great_expectations.profile.user_configurable_profiler import (\n",
    "    UserConfigurableProfiler,\n",
    ")\n",
    "from great_expectations.checkpoint import SimpleCheckpoint\n",
    "from great_expectations.exceptions import DataContextError\n",
    "\n",
    "# get project context\n",
    "context = ge.data_context.DataContext()\n",
    "\n",
    "# create a batch by using data source\n",
    "batch_request = {\n",
    "    \"datasource_name\": \"census_income_validation\",\n",
    "    \"data_connector_name\": \"default_inferred_data_connector_name\",\n",
    "    \"data_asset_name\": \"adult_with_duplicates.csv\",\n",
    "    \"limit\": 1000,\n",
    "}\n",
    "\n",
    "# give a name of validation rule sets (expectation_suite)\n",
    "expectation_suite_name = \"adult_with_duplicates.csv.warning\"\n",
    "\n",
    "# validator groups data source with a validation rule sets (similar to checkpoint)\n",
    "validator = context.get_validator(\n",
    "    batch_request=BatchRequest(**batch_request),\n",
    "    expectation_suite_name=expectation_suite_name,\n",
    ")\n",
    "\n",
    "# print(type(validator))\n",
    "# show data source information\n",
    "column_names = [f'\"{column_name}\"' for column_name in validator.columns()]\n",
    "print(f\"Columns: {', '.join(column_names)}.\")\n",
    "validator.head(n_rows=5, fetch_all=False)"
   ],
   "metadata": {
    "collapsed": false,
    "pycharm": {
     "name": "#%%\n"
    }
   }
  },
  {
   "cell_type": "markdown",
   "source": [
    "We can generate validation rules for a certain column. If you want to exclude a column, you just uncomment the column name"
   ],
   "metadata": {
    "collapsed": false,
    "pycharm": {
     "name": "#%% md\n"
    }
   }
  },
  {
   "cell_type": "code",
   "execution_count": 2,
   "outputs": [],
   "source": [
    "\n",
    "ignored_columns = [\n",
    "#     \"age\",\n",
    "#     \"workclass\",\n",
    "#     \"fnlwgt\",\n",
    "#     \"education\",\n",
    "#     \"education-num\",\n",
    "#     \"marital-status\",\n",
    "#     \"occupation\",\n",
    "#     \"relationship\",\n",
    "#     \"race\",\n",
    "#     \"sex\",\n",
    "#     \"capital-gain\",\n",
    "#     \"capital-loss\",\n",
    "#     \"hours-per-week\",\n",
    "#     \"native-country\",\n",
    "#     \"income\",\n",
    "]"
   ],
   "metadata": {
    "collapsed": false,
    "pycharm": {
     "name": "#%%\n"
    }
   }
  },
  {
   "cell_type": "markdown",
   "source": [
    "Note if your data volume is important, this step may take sometime."
   ],
   "metadata": {
    "collapsed": false,
    "pycharm": {
     "name": "#%% md\n"
    }
   }
  },
  {
   "cell_type": "code",
   "execution_count": 3,
   "outputs": [
    {
     "data": {
      "text/plain": "Calculating Metrics:   0%|          | 0/4 [00:00<?, ?it/s]",
      "application/vnd.jupyter.widget-view+json": {
       "version_major": 2,
       "version_minor": 0,
       "model_id": "ac2f8088389c4c1e89268362784ef53f"
      }
     },
     "metadata": {},
     "output_type": "display_data"
    },
    {
     "data": {
      "text/plain": "Calculating Metrics:   0%|          | 0/7 [00:00<?, ?it/s]",
      "application/vnd.jupyter.widget-view+json": {
       "version_major": 2,
       "version_minor": 0,
       "model_id": "b0654d230f2b4df7a08750b7321c8144"
      }
     },
     "metadata": {},
     "output_type": "display_data"
    },
    {
     "data": {
      "text/plain": "Calculating Metrics:   0%|          | 0/4 [00:00<?, ?it/s]",
      "application/vnd.jupyter.widget-view+json": {
       "version_major": 2,
       "version_minor": 0,
       "model_id": "ec89445d8301409f979901ea9fa310a4"
      }
     },
     "metadata": {},
     "output_type": "display_data"
    },
    {
     "data": {
      "text/plain": "Calculating Metrics:   0%|          | 0/7 [00:00<?, ?it/s]",
      "application/vnd.jupyter.widget-view+json": {
       "version_major": 2,
       "version_minor": 0,
       "model_id": "39b8c06058bd487a924b52825059784d"
      }
     },
     "metadata": {},
     "output_type": "display_data"
    },
    {
     "data": {
      "text/plain": "Calculating Metrics:   0%|          | 0/8 [00:00<?, ?it/s]",
      "application/vnd.jupyter.widget-view+json": {
       "version_major": 2,
       "version_minor": 0,
       "model_id": "95afb8d6c61b4c2c90d110a80f4b239e"
      }
     },
     "metadata": {},
     "output_type": "display_data"
    },
    {
     "data": {
      "text/plain": "Calculating Metrics:   0%|          | 0/8 [00:00<?, ?it/s]",
      "application/vnd.jupyter.widget-view+json": {
       "version_major": 2,
       "version_minor": 0,
       "model_id": "ab60581b160e40d2ba4f1b8178cfd108"
      }
     },
     "metadata": {},
     "output_type": "display_data"
    },
    {
     "data": {
      "text/plain": "Calculating Metrics:   0%|          | 0/8 [00:00<?, ?it/s]",
      "application/vnd.jupyter.widget-view+json": {
       "version_major": 2,
       "version_minor": 0,
       "model_id": "dde3d2b394c748a896e436e9387cefa2"
      }
     },
     "metadata": {},
     "output_type": "display_data"
    },
    {
     "data": {
      "text/plain": "Calculating Metrics:   0%|          | 0/8 [00:00<?, ?it/s]",
      "application/vnd.jupyter.widget-view+json": {
       "version_major": 2,
       "version_minor": 0,
       "model_id": "07a81800ff9b497fb4d86100567a4ad7"
      }
     },
     "metadata": {},
     "output_type": "display_data"
    },
    {
     "data": {
      "text/plain": "Calculating Metrics:   0%|          | 0/4 [00:00<?, ?it/s]",
      "application/vnd.jupyter.widget-view+json": {
       "version_major": 2,
       "version_minor": 0,
       "model_id": "e55f9725a2434f6880780fe976c659eb"
      }
     },
     "metadata": {},
     "output_type": "display_data"
    },
    {
     "data": {
      "text/plain": "Calculating Metrics:   0%|          | 0/7 [00:00<?, ?it/s]",
      "application/vnd.jupyter.widget-view+json": {
       "version_major": 2,
       "version_minor": 0,
       "model_id": "5213b8356a42497699033f81f7f4e8c8"
      }
     },
     "metadata": {},
     "output_type": "display_data"
    },
    {
     "data": {
      "text/plain": "Calculating Metrics:   0%|          | 0/4 [00:00<?, ?it/s]",
      "application/vnd.jupyter.widget-view+json": {
       "version_major": 2,
       "version_minor": 0,
       "model_id": "e26f663221294d898f88c7bdafeb9158"
      }
     },
     "metadata": {},
     "output_type": "display_data"
    },
    {
     "data": {
      "text/plain": "Calculating Metrics:   0%|          | 0/7 [00:00<?, ?it/s]",
      "application/vnd.jupyter.widget-view+json": {
       "version_major": 2,
       "version_minor": 0,
       "model_id": "7452c4ea643d4401b788019f55d92883"
      }
     },
     "metadata": {},
     "output_type": "display_data"
    },
    {
     "data": {
      "text/plain": "Calculating Metrics:   0%|          | 0/8 [00:00<?, ?it/s]",
      "application/vnd.jupyter.widget-view+json": {
       "version_major": 2,
       "version_minor": 0,
       "model_id": "896fbe04e1bf4da58c05a85aac9c5463"
      }
     },
     "metadata": {},
     "output_type": "display_data"
    },
    {
     "data": {
      "text/plain": "Calculating Metrics:   0%|          | 0/8 [00:00<?, ?it/s]",
      "application/vnd.jupyter.widget-view+json": {
       "version_major": 2,
       "version_minor": 0,
       "model_id": "1c46a628adb64960809a8011be1836c7"
      }
     },
     "metadata": {},
     "output_type": "display_data"
    },
    {
     "data": {
      "text/plain": "Calculating Metrics:   0%|          | 0/8 [00:00<?, ?it/s]",
      "application/vnd.jupyter.widget-view+json": {
       "version_major": 2,
       "version_minor": 0,
       "model_id": "94b19c1481904e8cabb5d69795c31219"
      }
     },
     "metadata": {},
     "output_type": "display_data"
    },
    {
     "data": {
      "text/plain": "Calculating Metrics:   0%|          | 0/8 [00:00<?, ?it/s]",
      "application/vnd.jupyter.widget-view+json": {
       "version_major": 2,
       "version_minor": 0,
       "model_id": "0906247619d94158b7f70e0891d654c0"
      }
     },
     "metadata": {},
     "output_type": "display_data"
    },
    {
     "data": {
      "text/plain": "Calculating Metrics:   0%|          | 0/4 [00:00<?, ?it/s]",
      "application/vnd.jupyter.widget-view+json": {
       "version_major": 2,
       "version_minor": 0,
       "model_id": "404c72792ea84604a53d1e1ff7635cfb"
      }
     },
     "metadata": {},
     "output_type": "display_data"
    },
    {
     "data": {
      "text/plain": "Calculating Metrics:   0%|          | 0/7 [00:00<?, ?it/s]",
      "application/vnd.jupyter.widget-view+json": {
       "version_major": 2,
       "version_minor": 0,
       "model_id": "9d9d1fd65bf3408bbf72e63386ebd98a"
      }
     },
     "metadata": {},
     "output_type": "display_data"
    },
    {
     "data": {
      "text/plain": "Calculating Metrics:   0%|          | 0/4 [00:00<?, ?it/s]",
      "application/vnd.jupyter.widget-view+json": {
       "version_major": 2,
       "version_minor": 0,
       "model_id": "b798b91fddd6415b8d8efb1ec05c36da"
      }
     },
     "metadata": {},
     "output_type": "display_data"
    },
    {
     "data": {
      "text/plain": "Calculating Metrics:   0%|          | 0/7 [00:00<?, ?it/s]",
      "application/vnd.jupyter.widget-view+json": {
       "version_major": 2,
       "version_minor": 0,
       "model_id": "22c93e670c9d4fbe823ef733d735cc02"
      }
     },
     "metadata": {},
     "output_type": "display_data"
    },
    {
     "data": {
      "text/plain": "Calculating Metrics:   0%|          | 0/8 [00:00<?, ?it/s]",
      "application/vnd.jupyter.widget-view+json": {
       "version_major": 2,
       "version_minor": 0,
       "model_id": "cfccc389689c44ee8262da0de1423e66"
      }
     },
     "metadata": {},
     "output_type": "display_data"
    },
    {
     "data": {
      "text/plain": "Calculating Metrics:   0%|          | 0/8 [00:00<?, ?it/s]",
      "application/vnd.jupyter.widget-view+json": {
       "version_major": 2,
       "version_minor": 0,
       "model_id": "0d3b2b4897874cd4934514d9f6956f33"
      }
     },
     "metadata": {},
     "output_type": "display_data"
    },
    {
     "data": {
      "text/plain": "Calculating Metrics:   0%|          | 0/8 [00:00<?, ?it/s]",
      "application/vnd.jupyter.widget-view+json": {
       "version_major": 2,
       "version_minor": 0,
       "model_id": "0ada25a2215041d0b1a1f48fad676ce2"
      }
     },
     "metadata": {},
     "output_type": "display_data"
    },
    {
     "data": {
      "text/plain": "Calculating Metrics:   0%|          | 0/8 [00:00<?, ?it/s]",
      "application/vnd.jupyter.widget-view+json": {
       "version_major": 2,
       "version_minor": 0,
       "model_id": "877f40c5903347cd9db52a2339cff7fa"
      }
     },
     "metadata": {},
     "output_type": "display_data"
    },
    {
     "data": {
      "text/plain": "Calculating Metrics:   0%|          | 0/4 [00:00<?, ?it/s]",
      "application/vnd.jupyter.widget-view+json": {
       "version_major": 2,
       "version_minor": 0,
       "model_id": "dc4ff9c886a5453aba8c83fde85ea315"
      }
     },
     "metadata": {},
     "output_type": "display_data"
    },
    {
     "data": {
      "text/plain": "Calculating Metrics:   0%|          | 0/7 [00:00<?, ?it/s]",
      "application/vnd.jupyter.widget-view+json": {
       "version_major": 2,
       "version_minor": 0,
       "model_id": "d5fc786c932b4d7498fed2fe4950cabc"
      }
     },
     "metadata": {},
     "output_type": "display_data"
    },
    {
     "data": {
      "text/plain": "Calculating Metrics:   0%|          | 0/8 [00:00<?, ?it/s]",
      "application/vnd.jupyter.widget-view+json": {
       "version_major": 2,
       "version_minor": 0,
       "model_id": "808ef6b095124976afbf42ffe02e46b1"
      }
     },
     "metadata": {},
     "output_type": "display_data"
    },
    {
     "data": {
      "text/plain": "Calculating Metrics:   0%|          | 0/8 [00:00<?, ?it/s]",
      "application/vnd.jupyter.widget-view+json": {
       "version_major": 2,
       "version_minor": 0,
       "model_id": "606430eb29e34eeaa5e289e2108ff77b"
      }
     },
     "metadata": {},
     "output_type": "display_data"
    },
    {
     "data": {
      "text/plain": "Calculating Metrics:   0%|          | 0/8 [00:00<?, ?it/s]",
      "application/vnd.jupyter.widget-view+json": {
       "version_major": 2,
       "version_minor": 0,
       "model_id": "d9fc8b8498814594ba5449b0aed3642b"
      }
     },
     "metadata": {},
     "output_type": "display_data"
    },
    {
     "data": {
      "text/plain": "Calculating Metrics:   0%|          | 0/8 [00:00<?, ?it/s]",
      "application/vnd.jupyter.widget-view+json": {
       "version_major": 2,
       "version_minor": 0,
       "model_id": "d294eac83d534550b148a7f217f0c7ec"
      }
     },
     "metadata": {},
     "output_type": "display_data"
    },
    {
     "data": {
      "text/plain": "Calculating Metrics:   0%|          | 0/4 [00:00<?, ?it/s]",
      "application/vnd.jupyter.widget-view+json": {
       "version_major": 2,
       "version_minor": 0,
       "model_id": "f058a5abaf7342f481e9264596982af0"
      }
     },
     "metadata": {},
     "output_type": "display_data"
    },
    {
     "data": {
      "text/plain": "Calculating Metrics:   0%|          | 0/7 [00:00<?, ?it/s]",
      "application/vnd.jupyter.widget-view+json": {
       "version_major": 2,
       "version_minor": 0,
       "model_id": "4cac47a2acbe448e89a74ae8609cac43"
      }
     },
     "metadata": {},
     "output_type": "display_data"
    },
    {
     "data": {
      "text/plain": "Calculating Metrics:   0%|          | 0/8 [00:00<?, ?it/s]",
      "application/vnd.jupyter.widget-view+json": {
       "version_major": 2,
       "version_minor": 0,
       "model_id": "3232391f3751418e86f508f103a2cf12"
      }
     },
     "metadata": {},
     "output_type": "display_data"
    },
    {
     "data": {
      "text/plain": "Calculating Metrics:   0%|          | 0/8 [00:00<?, ?it/s]",
      "application/vnd.jupyter.widget-view+json": {
       "version_major": 2,
       "version_minor": 0,
       "model_id": "b41457e8ce2e431689bd304ada865a25"
      }
     },
     "metadata": {},
     "output_type": "display_data"
    },
    {
     "data": {
      "text/plain": "Calculating Metrics:   0%|          | 0/8 [00:00<?, ?it/s]",
      "application/vnd.jupyter.widget-view+json": {
       "version_major": 2,
       "version_minor": 0,
       "model_id": "346059a9e2a1455ea16149dc1f2d14eb"
      }
     },
     "metadata": {},
     "output_type": "display_data"
    },
    {
     "data": {
      "text/plain": "Calculating Metrics:   0%|          | 0/8 [00:00<?, ?it/s]",
      "application/vnd.jupyter.widget-view+json": {
       "version_major": 2,
       "version_minor": 0,
       "model_id": "f119b4d81b2849b18e9470abc5ce1b66"
      }
     },
     "metadata": {},
     "output_type": "display_data"
    },
    {
     "data": {
      "text/plain": "Calculating Metrics:   0%|          | 0/4 [00:00<?, ?it/s]",
      "application/vnd.jupyter.widget-view+json": {
       "version_major": 2,
       "version_minor": 0,
       "model_id": "2ec7ba7e2a954d2bb3c091afdd8bffb3"
      }
     },
     "metadata": {},
     "output_type": "display_data"
    },
    {
     "data": {
      "text/plain": "Calculating Metrics:   0%|          | 0/7 [00:00<?, ?it/s]",
      "application/vnd.jupyter.widget-view+json": {
       "version_major": 2,
       "version_minor": 0,
       "model_id": "bd599e9cc86e48f6b8867b26e8e317d4"
      }
     },
     "metadata": {},
     "output_type": "display_data"
    },
    {
     "data": {
      "text/plain": "Calculating Metrics:   0%|          | 0/8 [00:00<?, ?it/s]",
      "application/vnd.jupyter.widget-view+json": {
       "version_major": 2,
       "version_minor": 0,
       "model_id": "df35bffb162c4d0298bfdb95e4b0e12f"
      }
     },
     "metadata": {},
     "output_type": "display_data"
    },
    {
     "data": {
      "text/plain": "Calculating Metrics:   0%|          | 0/8 [00:00<?, ?it/s]",
      "application/vnd.jupyter.widget-view+json": {
       "version_major": 2,
       "version_minor": 0,
       "model_id": "8d39112038034192883f677034036a0c"
      }
     },
     "metadata": {},
     "output_type": "display_data"
    },
    {
     "data": {
      "text/plain": "Calculating Metrics:   0%|          | 0/8 [00:00<?, ?it/s]",
      "application/vnd.jupyter.widget-view+json": {
       "version_major": 2,
       "version_minor": 0,
       "model_id": "707ba5ea09ee47fd8885f82dbc2a7d06"
      }
     },
     "metadata": {},
     "output_type": "display_data"
    },
    {
     "data": {
      "text/plain": "Calculating Metrics:   0%|          | 0/8 [00:00<?, ?it/s]",
      "application/vnd.jupyter.widget-view+json": {
       "version_major": 2,
       "version_minor": 0,
       "model_id": "05a8e1d4375347a8bdbc81963a94a749"
      }
     },
     "metadata": {},
     "output_type": "display_data"
    },
    {
     "data": {
      "text/plain": "Calculating Metrics:   0%|          | 0/4 [00:00<?, ?it/s]",
      "application/vnd.jupyter.widget-view+json": {
       "version_major": 2,
       "version_minor": 0,
       "model_id": "3184eef605454619b1b1e02d3f463c3f"
      }
     },
     "metadata": {},
     "output_type": "display_data"
    },
    {
     "data": {
      "text/plain": "Calculating Metrics:   0%|          | 0/7 [00:00<?, ?it/s]",
      "application/vnd.jupyter.widget-view+json": {
       "version_major": 2,
       "version_minor": 0,
       "model_id": "79ce0c12c294433eafdb2f5840b9c999"
      }
     },
     "metadata": {},
     "output_type": "display_data"
    },
    {
     "data": {
      "text/plain": "Calculating Metrics:   0%|          | 0/8 [00:00<?, ?it/s]",
      "application/vnd.jupyter.widget-view+json": {
       "version_major": 2,
       "version_minor": 0,
       "model_id": "a136baaf26b44aa686b25f1f9aabacb5"
      }
     },
     "metadata": {},
     "output_type": "display_data"
    },
    {
     "data": {
      "text/plain": "Calculating Metrics:   0%|          | 0/8 [00:00<?, ?it/s]",
      "application/vnd.jupyter.widget-view+json": {
       "version_major": 2,
       "version_minor": 0,
       "model_id": "c8854d4b773548c7930beff5d34c9fff"
      }
     },
     "metadata": {},
     "output_type": "display_data"
    },
    {
     "data": {
      "text/plain": "Calculating Metrics:   0%|          | 0/8 [00:00<?, ?it/s]",
      "application/vnd.jupyter.widget-view+json": {
       "version_major": 2,
       "version_minor": 0,
       "model_id": "4a3e216b2f6b40d2b6a99090a0e22b79"
      }
     },
     "metadata": {},
     "output_type": "display_data"
    },
    {
     "data": {
      "text/plain": "Calculating Metrics:   0%|          | 0/8 [00:00<?, ?it/s]",
      "application/vnd.jupyter.widget-view+json": {
       "version_major": 2,
       "version_minor": 0,
       "model_id": "52289f53add7438e94e1a94f6363af46"
      }
     },
     "metadata": {},
     "output_type": "display_data"
    },
    {
     "data": {
      "text/plain": "Calculating Metrics:   0%|          | 0/4 [00:00<?, ?it/s]",
      "application/vnd.jupyter.widget-view+json": {
       "version_major": 2,
       "version_minor": 0,
       "model_id": "be1beeb320eb4ecbb2abbcef853241e9"
      }
     },
     "metadata": {},
     "output_type": "display_data"
    },
    {
     "data": {
      "text/plain": "Calculating Metrics:   0%|          | 0/7 [00:00<?, ?it/s]",
      "application/vnd.jupyter.widget-view+json": {
       "version_major": 2,
       "version_minor": 0,
       "model_id": "6540db84920b48c2af148853a8b2512b"
      }
     },
     "metadata": {},
     "output_type": "display_data"
    },
    {
     "data": {
      "text/plain": "Calculating Metrics:   0%|          | 0/4 [00:00<?, ?it/s]",
      "application/vnd.jupyter.widget-view+json": {
       "version_major": 2,
       "version_minor": 0,
       "model_id": "9c8530a252e34253a877c6e5e28a71f0"
      }
     },
     "metadata": {},
     "output_type": "display_data"
    },
    {
     "data": {
      "text/plain": "Calculating Metrics:   0%|          | 0/7 [00:00<?, ?it/s]",
      "application/vnd.jupyter.widget-view+json": {
       "version_major": 2,
       "version_minor": 0,
       "model_id": "7b73325e83624f2a8ef28089ad35e10d"
      }
     },
     "metadata": {},
     "output_type": "display_data"
    },
    {
     "data": {
      "text/plain": "Calculating Metrics:   0%|          | 0/4 [00:00<?, ?it/s]",
      "application/vnd.jupyter.widget-view+json": {
       "version_major": 2,
       "version_minor": 0,
       "model_id": "e3e1f7b3ec41406f9cdc17ad6bb0f9d7"
      }
     },
     "metadata": {},
     "output_type": "display_data"
    },
    {
     "data": {
      "text/plain": "Calculating Metrics:   0%|          | 0/7 [00:00<?, ?it/s]",
      "application/vnd.jupyter.widget-view+json": {
       "version_major": 2,
       "version_minor": 0,
       "model_id": "f8cf997e461949968625c78647186302"
      }
     },
     "metadata": {},
     "output_type": "display_data"
    },
    {
     "data": {
      "text/plain": "Calculating Metrics:   0%|          | 0/4 [00:00<?, ?it/s]",
      "application/vnd.jupyter.widget-view+json": {
       "version_major": 2,
       "version_minor": 0,
       "model_id": "a7071466fced4108b0d3910b3a163c52"
      }
     },
     "metadata": {},
     "output_type": "display_data"
    },
    {
     "data": {
      "text/plain": "Calculating Metrics:   0%|          | 0/7 [00:00<?, ?it/s]",
      "application/vnd.jupyter.widget-view+json": {
       "version_major": 2,
       "version_minor": 0,
       "model_id": "a3bf0baada934872bd9fcac16e0d3068"
      }
     },
     "metadata": {},
     "output_type": "display_data"
    },
    {
     "data": {
      "text/plain": "Calculating Metrics:   0%|          | 0/8 [00:00<?, ?it/s]",
      "application/vnd.jupyter.widget-view+json": {
       "version_major": 2,
       "version_minor": 0,
       "model_id": "568a9a8740df43ada10e342ac945ddb8"
      }
     },
     "metadata": {},
     "output_type": "display_data"
    },
    {
     "data": {
      "text/plain": "Calculating Metrics:   0%|          | 0/8 [00:00<?, ?it/s]",
      "application/vnd.jupyter.widget-view+json": {
       "version_major": 2,
       "version_minor": 0,
       "model_id": "1abf8107d67f46d3acbcc4a3f5fc2c00"
      }
     },
     "metadata": {},
     "output_type": "display_data"
    },
    {
     "data": {
      "text/plain": "Calculating Metrics:   0%|          | 0/8 [00:00<?, ?it/s]",
      "application/vnd.jupyter.widget-view+json": {
       "version_major": 2,
       "version_minor": 0,
       "model_id": "3ee7b531eae0442a91692108b8fed980"
      }
     },
     "metadata": {},
     "output_type": "display_data"
    },
    {
     "data": {
      "text/plain": "Calculating Metrics:   0%|          | 0/8 [00:00<?, ?it/s]",
      "application/vnd.jupyter.widget-view+json": {
       "version_major": 2,
       "version_minor": 0,
       "model_id": "3b58a907509c4b99b13c0205eec306a8"
      }
     },
     "metadata": {},
     "output_type": "display_data"
    },
    {
     "data": {
      "text/plain": "Calculating Metrics:   0%|          | 0/4 [00:00<?, ?it/s]",
      "application/vnd.jupyter.widget-view+json": {
       "version_major": 2,
       "version_minor": 0,
       "model_id": "e6f66cb3837849889097c96643e9542a"
      }
     },
     "metadata": {},
     "output_type": "display_data"
    },
    {
     "data": {
      "text/plain": "Calculating Metrics:   0%|          | 0/7 [00:00<?, ?it/s]",
      "application/vnd.jupyter.widget-view+json": {
       "version_major": 2,
       "version_minor": 0,
       "model_id": "0398d64eef954a93be7cf62f621fd549"
      }
     },
     "metadata": {},
     "output_type": "display_data"
    },
    {
     "data": {
      "text/plain": "Calculating Metrics:   0%|          | 0/8 [00:00<?, ?it/s]",
      "application/vnd.jupyter.widget-view+json": {
       "version_major": 2,
       "version_minor": 0,
       "model_id": "8ad38ba04ffc4f9e84ac03b884e56874"
      }
     },
     "metadata": {},
     "output_type": "display_data"
    },
    {
     "data": {
      "text/plain": "Calculating Metrics:   0%|          | 0/8 [00:00<?, ?it/s]",
      "application/vnd.jupyter.widget-view+json": {
       "version_major": 2,
       "version_minor": 0,
       "model_id": "bbea9ba322ec45968588950c220efb6e"
      }
     },
     "metadata": {},
     "output_type": "display_data"
    },
    {
     "data": {
      "text/plain": "Calculating Metrics:   0%|          | 0/8 [00:00<?, ?it/s]",
      "application/vnd.jupyter.widget-view+json": {
       "version_major": 2,
       "version_minor": 0,
       "model_id": "7f7ebd747c5c49cda97841053a621a21"
      }
     },
     "metadata": {},
     "output_type": "display_data"
    },
    {
     "data": {
      "text/plain": "Calculating Metrics:   0%|          | 0/8 [00:00<?, ?it/s]",
      "application/vnd.jupyter.widget-view+json": {
       "version_major": 2,
       "version_minor": 0,
       "model_id": "df8cbff2d4ea480196a3dd0d39278ee1"
      }
     },
     "metadata": {},
     "output_type": "display_data"
    },
    {
     "name": "stdout",
     "output_type": "stream",
     "text": [
      "2022-02-24T15:28:07+0100 - INFO - \t61 expectation(s) included in expectation_suite.\n"
     ]
    },
    {
     "data": {
      "text/plain": "Profiling:   0%|          | 0/15 [00:00<?, ?it/s, Column=age]",
      "application/vnd.jupyter.widget-view+json": {
       "version_major": 2,
       "version_minor": 0,
       "model_id": "5a9c6a747c12462a8102800593dba26e"
      }
     },
     "metadata": {},
     "output_type": "display_data"
    },
    {
     "data": {
      "text/plain": "Calculating Metrics:   0%|          | 0/4 [00:00<?, ?it/s]",
      "application/vnd.jupyter.widget-view+json": {
       "version_major": 2,
       "version_minor": 0,
       "model_id": "a5fe60cdf1164ee8a0c65b6170faa920"
      }
     },
     "metadata": {},
     "output_type": "display_data"
    },
    {
     "data": {
      "text/plain": "Calculating Metrics:   0%|          | 0/4 [00:00<?, ?it/s]",
      "application/vnd.jupyter.widget-view+json": {
       "version_major": 2,
       "version_minor": 0,
       "model_id": "1e649fdbf46045a6801000752b6debec"
      }
     },
     "metadata": {},
     "output_type": "display_data"
    },
    {
     "data": {
      "text/plain": "Calculating Metrics:   0%|          | 0/4 [00:00<?, ?it/s]",
      "application/vnd.jupyter.widget-view+json": {
       "version_major": 2,
       "version_minor": 0,
       "model_id": "7b93f605ef6d4bbba8932840299e2beb"
      }
     },
     "metadata": {},
     "output_type": "display_data"
    },
    {
     "data": {
      "text/plain": "Calculating Metrics:   0%|          | 0/4 [00:00<?, ?it/s]",
      "application/vnd.jupyter.widget-view+json": {
       "version_major": 2,
       "version_minor": 0,
       "model_id": "6e717e1f5aa041e5844f3d014d4bf3e5"
      }
     },
     "metadata": {},
     "output_type": "display_data"
    },
    {
     "data": {
      "text/plain": "Calculating Metrics:   0%|          | 0/4 [00:00<?, ?it/s]",
      "application/vnd.jupyter.widget-view+json": {
       "version_major": 2,
       "version_minor": 0,
       "model_id": "3d432d44b77f4084b6de070182a78a02"
      }
     },
     "metadata": {},
     "output_type": "display_data"
    },
    {
     "data": {
      "text/plain": "Calculating Metrics:   0%|          | 0/4 [00:00<?, ?it/s]",
      "application/vnd.jupyter.widget-view+json": {
       "version_major": 2,
       "version_minor": 0,
       "model_id": "3411f38667ed4219b8f08c130a90c718"
      }
     },
     "metadata": {},
     "output_type": "display_data"
    },
    {
     "data": {
      "text/plain": "Calculating Metrics:   0%|          | 0/4 [00:00<?, ?it/s]",
      "application/vnd.jupyter.widget-view+json": {
       "version_major": 2,
       "version_minor": 0,
       "model_id": "aaf2e2d6914046278ffac71c0a7fdadc"
      }
     },
     "metadata": {},
     "output_type": "display_data"
    },
    {
     "data": {
      "text/plain": "Calculating Metrics:   0%|          | 0/4 [00:00<?, ?it/s]",
      "application/vnd.jupyter.widget-view+json": {
       "version_major": 2,
       "version_minor": 0,
       "model_id": "9a616a7a10554929bbdc5ab83531464e"
      }
     },
     "metadata": {},
     "output_type": "display_data"
    },
    {
     "data": {
      "text/plain": "Calculating Metrics:   0%|          | 0/4 [00:00<?, ?it/s]",
      "application/vnd.jupyter.widget-view+json": {
       "version_major": 2,
       "version_minor": 0,
       "model_id": "89ebf1895772418a969a4b90166508fb"
      }
     },
     "metadata": {},
     "output_type": "display_data"
    },
    {
     "data": {
      "text/plain": "Calculating Metrics:   0%|          | 0/4 [00:00<?, ?it/s]",
      "application/vnd.jupyter.widget-view+json": {
       "version_major": 2,
       "version_minor": 0,
       "model_id": "bd60ac84588d4731a707a36da9fbadbe"
      }
     },
     "metadata": {},
     "output_type": "display_data"
    },
    {
     "data": {
      "text/plain": "Calculating Metrics:   0%|          | 0/4 [00:00<?, ?it/s]",
      "application/vnd.jupyter.widget-view+json": {
       "version_major": 2,
       "version_minor": 0,
       "model_id": "e5d5e1cb9d08412d8943eca961e4eedc"
      }
     },
     "metadata": {},
     "output_type": "display_data"
    },
    {
     "data": {
      "text/plain": "Calculating Metrics:   0%|          | 0/8 [00:00<?, ?it/s]",
      "application/vnd.jupyter.widget-view+json": {
       "version_major": 2,
       "version_minor": 0,
       "model_id": "558c8152df2e458f813bdbe1077bdb3e"
      }
     },
     "metadata": {},
     "output_type": "display_data"
    },
    {
     "data": {
      "text/plain": "Calculating Metrics:   0%|          | 0/6 [00:00<?, ?it/s]",
      "application/vnd.jupyter.widget-view+json": {
       "version_major": 2,
       "version_minor": 0,
       "model_id": "0b6d249cb4974c10a1fc6e7452f14096"
      }
     },
     "metadata": {},
     "output_type": "display_data"
    },
    {
     "data": {
      "text/plain": "Calculating Metrics:   0%|          | 0/6 [00:00<?, ?it/s]",
      "application/vnd.jupyter.widget-view+json": {
       "version_major": 2,
       "version_minor": 0,
       "model_id": "65ff570cbbea419f8bf0dc9667b3aa10"
      }
     },
     "metadata": {},
     "output_type": "display_data"
    },
    {
     "data": {
      "text/plain": "Calculating Metrics:   0%|          | 0/7 [00:00<?, ?it/s]",
      "application/vnd.jupyter.widget-view+json": {
       "version_major": 2,
       "version_minor": 0,
       "model_id": "c9df7ef795f14b55a7a5572001c65a7b"
      }
     },
     "metadata": {},
     "output_type": "display_data"
    },
    {
     "data": {
      "text/plain": "Calculating Metrics:   0%|          | 0/7 [00:00<?, ?it/s]",
      "application/vnd.jupyter.widget-view+json": {
       "version_major": 2,
       "version_minor": 0,
       "model_id": "2cd47035d6a14ca99efa28478a3d3f7f"
      }
     },
     "metadata": {},
     "output_type": "display_data"
    },
    {
     "data": {
      "text/plain": "Calculating Metrics:   0%|          | 0/4 [00:00<?, ?it/s]",
      "application/vnd.jupyter.widget-view+json": {
       "version_major": 2,
       "version_minor": 0,
       "model_id": "fa516c397a344646b519af378a3562e6"
      }
     },
     "metadata": {},
     "output_type": "display_data"
    },
    {
     "data": {
      "text/plain": "Calculating Metrics:   0%|          | 0/8 [00:00<?, ?it/s]",
      "application/vnd.jupyter.widget-view+json": {
       "version_major": 2,
       "version_minor": 0,
       "model_id": "62e8a8415c7045d888f1a42ae32b69af"
      }
     },
     "metadata": {},
     "output_type": "display_data"
    },
    {
     "data": {
      "text/plain": "Calculating Metrics:   0%|          | 0/6 [00:00<?, ?it/s]",
      "application/vnd.jupyter.widget-view+json": {
       "version_major": 2,
       "version_minor": 0,
       "model_id": "905d21f2ae0448d48d8bf68c1db13749"
      }
     },
     "metadata": {},
     "output_type": "display_data"
    },
    {
     "data": {
      "text/plain": "Calculating Metrics:   0%|          | 0/6 [00:00<?, ?it/s]",
      "application/vnd.jupyter.widget-view+json": {
       "version_major": 2,
       "version_minor": 0,
       "model_id": "af26f83d460543ae9d38a0b5d133dde6"
      }
     },
     "metadata": {},
     "output_type": "display_data"
    },
    {
     "data": {
      "text/plain": "Calculating Metrics:   0%|          | 0/7 [00:00<?, ?it/s]",
      "application/vnd.jupyter.widget-view+json": {
       "version_major": 2,
       "version_minor": 0,
       "model_id": "1face555f070402b86f65da3d4535176"
      }
     },
     "metadata": {},
     "output_type": "display_data"
    },
    {
     "data": {
      "text/plain": "Calculating Metrics:   0%|          | 0/7 [00:00<?, ?it/s]",
      "application/vnd.jupyter.widget-view+json": {
       "version_major": 2,
       "version_minor": 0,
       "model_id": "68aea1cb83ad4a14928f4a2b1b1e783b"
      }
     },
     "metadata": {},
     "output_type": "display_data"
    },
    {
     "data": {
      "text/plain": "Calculating Metrics:   0%|          | 0/8 [00:00<?, ?it/s]",
      "application/vnd.jupyter.widget-view+json": {
       "version_major": 2,
       "version_minor": 0,
       "model_id": "0b1ccbffe4c14242aa76d26f6d03c962"
      }
     },
     "metadata": {},
     "output_type": "display_data"
    },
    {
     "data": {
      "text/plain": "Calculating Metrics:   0%|          | 0/4 [00:00<?, ?it/s]",
      "application/vnd.jupyter.widget-view+json": {
       "version_major": 2,
       "version_minor": 0,
       "model_id": "8a96a28178544f86bd382210c8bd0e45"
      }
     },
     "metadata": {},
     "output_type": "display_data"
    },
    {
     "data": {
      "text/plain": "Calculating Metrics:   0%|          | 0/4 [00:00<?, ?it/s]",
      "application/vnd.jupyter.widget-view+json": {
       "version_major": 2,
       "version_minor": 0,
       "model_id": "9300793da6e44023a10542259920688b"
      }
     },
     "metadata": {},
     "output_type": "display_data"
    },
    {
     "data": {
      "text/plain": "Calculating Metrics:   0%|          | 0/4 [00:00<?, ?it/s]",
      "application/vnd.jupyter.widget-view+json": {
       "version_major": 2,
       "version_minor": 0,
       "model_id": "9fcf1919e22e4b1d809e23408b57368e"
      }
     },
     "metadata": {},
     "output_type": "display_data"
    },
    {
     "data": {
      "text/plain": "Calculating Metrics:   0%|          | 0/4 [00:00<?, ?it/s]",
      "application/vnd.jupyter.widget-view+json": {
       "version_major": 2,
       "version_minor": 0,
       "model_id": "23af9a6354284156886f52616579461d"
      }
     },
     "metadata": {},
     "output_type": "display_data"
    },
    {
     "data": {
      "text/plain": "Calculating Metrics:   0%|          | 0/4 [00:00<?, ?it/s]",
      "application/vnd.jupyter.widget-view+json": {
       "version_major": 2,
       "version_minor": 0,
       "model_id": "34c7d1aa07564efc8e0944d2703b2ad3"
      }
     },
     "metadata": {},
     "output_type": "display_data"
    },
    {
     "data": {
      "text/plain": "Calculating Metrics:   0%|          | 0/4 [00:00<?, ?it/s]",
      "application/vnd.jupyter.widget-view+json": {
       "version_major": 2,
       "version_minor": 0,
       "model_id": "5115faa412204241aeaf08d66ec3a200"
      }
     },
     "metadata": {},
     "output_type": "display_data"
    },
    {
     "data": {
      "text/plain": "Calculating Metrics:   0%|          | 0/4 [00:00<?, ?it/s]",
      "application/vnd.jupyter.widget-view+json": {
       "version_major": 2,
       "version_minor": 0,
       "model_id": "f86b1e584dc240109f35bf9857e22b38"
      }
     },
     "metadata": {},
     "output_type": "display_data"
    },
    {
     "data": {
      "text/plain": "Calculating Metrics:   0%|          | 0/4 [00:00<?, ?it/s]",
      "application/vnd.jupyter.widget-view+json": {
       "version_major": 2,
       "version_minor": 0,
       "model_id": "1baf376403aa416e8da4fe1f169c0752"
      }
     },
     "metadata": {},
     "output_type": "display_data"
    },
    {
     "data": {
      "text/plain": "Calculating Metrics:   0%|          | 0/4 [00:00<?, ?it/s]",
      "application/vnd.jupyter.widget-view+json": {
       "version_major": 2,
       "version_minor": 0,
       "model_id": "51a829609d3d4e2cb35e1ff5937e6fe2"
      }
     },
     "metadata": {},
     "output_type": "display_data"
    },
    {
     "data": {
      "text/plain": "Calculating Metrics:   0%|          | 0/4 [00:00<?, ?it/s]",
      "application/vnd.jupyter.widget-view+json": {
       "version_major": 2,
       "version_minor": 0,
       "model_id": "074434610c7f4264a59b87e07956c500"
      }
     },
     "metadata": {},
     "output_type": "display_data"
    },
    {
     "data": {
      "text/plain": "Calculating Metrics:   0%|          | 0/6 [00:00<?, ?it/s]",
      "application/vnd.jupyter.widget-view+json": {
       "version_major": 2,
       "version_minor": 0,
       "model_id": "5b129f5fc7f249e3bafaedcedc43bab5"
      }
     },
     "metadata": {},
     "output_type": "display_data"
    },
    {
     "data": {
      "text/plain": "Calculating Metrics:   0%|          | 0/7 [00:00<?, ?it/s]",
      "application/vnd.jupyter.widget-view+json": {
       "version_major": 2,
       "version_minor": 0,
       "model_id": "47028e0bd39a4157a5fb1bf25684d7f2"
      }
     },
     "metadata": {},
     "output_type": "display_data"
    },
    {
     "data": {
      "text/plain": "Calculating Metrics:   0%|          | 0/7 [00:00<?, ?it/s]",
      "application/vnd.jupyter.widget-view+json": {
       "version_major": 2,
       "version_minor": 0,
       "model_id": "233735eaf9e0438fa7bb226b7773edc8"
      }
     },
     "metadata": {},
     "output_type": "display_data"
    },
    {
     "data": {
      "text/plain": "Calculating Metrics:   0%|          | 0/4 [00:00<?, ?it/s]",
      "application/vnd.jupyter.widget-view+json": {
       "version_major": 2,
       "version_minor": 0,
       "model_id": "51bcf2fce8744da890cfe263ad8efd49"
      }
     },
     "metadata": {},
     "output_type": "display_data"
    },
    {
     "data": {
      "text/plain": "Calculating Metrics:   0%|          | 0/8 [00:00<?, ?it/s]",
      "application/vnd.jupyter.widget-view+json": {
       "version_major": 2,
       "version_minor": 0,
       "model_id": "a5558910ec824700a9fd5a7caf9e1773"
      }
     },
     "metadata": {},
     "output_type": "display_data"
    },
    {
     "data": {
      "text/plain": "Calculating Metrics:   0%|          | 0/6 [00:00<?, ?it/s]",
      "application/vnd.jupyter.widget-view+json": {
       "version_major": 2,
       "version_minor": 0,
       "model_id": "677828df7daf4f6d9dd744fd45f4c72a"
      }
     },
     "metadata": {},
     "output_type": "display_data"
    },
    {
     "data": {
      "text/plain": "Calculating Metrics:   0%|          | 0/7 [00:00<?, ?it/s]",
      "application/vnd.jupyter.widget-view+json": {
       "version_major": 2,
       "version_minor": 0,
       "model_id": "04aecffb57e04be385f1eb250ba6dbd2"
      }
     },
     "metadata": {},
     "output_type": "display_data"
    },
    {
     "data": {
      "text/plain": "Calculating Metrics:   0%|          | 0/7 [00:00<?, ?it/s]",
      "application/vnd.jupyter.widget-view+json": {
       "version_major": 2,
       "version_minor": 0,
       "model_id": "d6888756ae2c49f7838618c059cc7032"
      }
     },
     "metadata": {},
     "output_type": "display_data"
    },
    {
     "data": {
      "text/plain": "Calculating Metrics:   0%|          | 0/8 [00:00<?, ?it/s]",
      "application/vnd.jupyter.widget-view+json": {
       "version_major": 2,
       "version_minor": 0,
       "model_id": "4e29464c134d41ae86adfaee5b0e8cbc"
      }
     },
     "metadata": {},
     "output_type": "display_data"
    },
    {
     "data": {
      "text/plain": "Calculating Metrics:   0%|          | 0/4 [00:00<?, ?it/s]",
      "application/vnd.jupyter.widget-view+json": {
       "version_major": 2,
       "version_minor": 0,
       "model_id": "2774d0d182c04a55a82e4fb4dd5cc10f"
      }
     },
     "metadata": {},
     "output_type": "display_data"
    },
    {
     "data": {
      "text/plain": "Calculating Metrics:   0%|          | 0/4 [00:00<?, ?it/s]",
      "application/vnd.jupyter.widget-view+json": {
       "version_major": 2,
       "version_minor": 0,
       "model_id": "55669461729c4ef5b1d5fd540157bcd1"
      }
     },
     "metadata": {},
     "output_type": "display_data"
    },
    {
     "data": {
      "text/plain": "Calculating Metrics:   0%|          | 0/4 [00:00<?, ?it/s]",
      "application/vnd.jupyter.widget-view+json": {
       "version_major": 2,
       "version_minor": 0,
       "model_id": "7a4ba2bf42b44924ab38bacf277a87d0"
      }
     },
     "metadata": {},
     "output_type": "display_data"
    },
    {
     "data": {
      "text/plain": "Calculating Metrics:   0%|          | 0/4 [00:00<?, ?it/s]",
      "application/vnd.jupyter.widget-view+json": {
       "version_major": 2,
       "version_minor": 0,
       "model_id": "5780293f314d4aedaa595622dcb44b7b"
      }
     },
     "metadata": {},
     "output_type": "display_data"
    },
    {
     "data": {
      "text/plain": "Calculating Metrics:   0%|          | 0/4 [00:00<?, ?it/s]",
      "application/vnd.jupyter.widget-view+json": {
       "version_major": 2,
       "version_minor": 0,
       "model_id": "d4f2ad1796844c74a26278007b449018"
      }
     },
     "metadata": {},
     "output_type": "display_data"
    },
    {
     "data": {
      "text/plain": "Calculating Metrics:   0%|          | 0/4 [00:00<?, ?it/s]",
      "application/vnd.jupyter.widget-view+json": {
       "version_major": 2,
       "version_minor": 0,
       "model_id": "16b5a70a77a34d1db323d90003bb6902"
      }
     },
     "metadata": {},
     "output_type": "display_data"
    },
    {
     "data": {
      "text/plain": "Calculating Metrics:   0%|          | 0/4 [00:00<?, ?it/s]",
      "application/vnd.jupyter.widget-view+json": {
       "version_major": 2,
       "version_minor": 0,
       "model_id": "95815326841146fa9645bb5851ab6f91"
      }
     },
     "metadata": {},
     "output_type": "display_data"
    },
    {
     "data": {
      "text/plain": "Calculating Metrics:   0%|          | 0/4 [00:00<?, ?it/s]",
      "application/vnd.jupyter.widget-view+json": {
       "version_major": 2,
       "version_minor": 0,
       "model_id": "63fdea9e2780484c92e5c4c0a3029ee9"
      }
     },
     "metadata": {},
     "output_type": "display_data"
    },
    {
     "data": {
      "text/plain": "Calculating Metrics:   0%|          | 0/4 [00:00<?, ?it/s]",
      "application/vnd.jupyter.widget-view+json": {
       "version_major": 2,
       "version_minor": 0,
       "model_id": "5bbe5707fb5c424f9e66f2cdc0578a05"
      }
     },
     "metadata": {},
     "output_type": "display_data"
    },
    {
     "data": {
      "text/plain": "Calculating Metrics:   0%|          | 0/4 [00:00<?, ?it/s]",
      "application/vnd.jupyter.widget-view+json": {
       "version_major": 2,
       "version_minor": 0,
       "model_id": "2d44ca1973014db197c0aa12b8d504e8"
      }
     },
     "metadata": {},
     "output_type": "display_data"
    },
    {
     "data": {
      "text/plain": "Calculating Metrics:   0%|          | 0/4 [00:00<?, ?it/s]",
      "application/vnd.jupyter.widget-view+json": {
       "version_major": 2,
       "version_minor": 0,
       "model_id": "a98c539e41c2446e8dd2141318d1322e"
      }
     },
     "metadata": {},
     "output_type": "display_data"
    },
    {
     "data": {
      "text/plain": "Calculating Metrics:   0%|          | 0/8 [00:00<?, ?it/s]",
      "application/vnd.jupyter.widget-view+json": {
       "version_major": 2,
       "version_minor": 0,
       "model_id": "cd29c60e12f04022977dbea496e1cc16"
      }
     },
     "metadata": {},
     "output_type": "display_data"
    },
    {
     "data": {
      "text/plain": "Calculating Metrics:   0%|          | 0/6 [00:00<?, ?it/s]",
      "application/vnd.jupyter.widget-view+json": {
       "version_major": 2,
       "version_minor": 0,
       "model_id": "9b36c712ac3a4bee86115a3bd27bb9a8"
      }
     },
     "metadata": {},
     "output_type": "display_data"
    },
    {
     "data": {
      "text/plain": "Calculating Metrics:   0%|          | 0/7 [00:00<?, ?it/s]",
      "application/vnd.jupyter.widget-view+json": {
       "version_major": 2,
       "version_minor": 0,
       "model_id": "19aa03e6105e4bf490c72767716764e2"
      }
     },
     "metadata": {},
     "output_type": "display_data"
    },
    {
     "data": {
      "text/plain": "Calculating Metrics:   0%|          | 0/7 [00:00<?, ?it/s]",
      "application/vnd.jupyter.widget-view+json": {
       "version_major": 2,
       "version_minor": 0,
       "model_id": "acd574b70b1b4d40a431aa1cfabebc0f"
      }
     },
     "metadata": {},
     "output_type": "display_data"
    },
    {
     "data": {
      "text/plain": "Calculating Metrics:   0%|          | 0/4 [00:00<?, ?it/s]",
      "application/vnd.jupyter.widget-view+json": {
       "version_major": 2,
       "version_minor": 0,
       "model_id": "306468c7d9204a2bb8587907ea4c3531"
      }
     },
     "metadata": {},
     "output_type": "display_data"
    },
    {
     "data": {
      "text/plain": "Calculating Metrics:   0%|          | 0/8 [00:00<?, ?it/s]",
      "application/vnd.jupyter.widget-view+json": {
       "version_major": 2,
       "version_minor": 0,
       "model_id": "0202600ff176468e81a04784c17623ab"
      }
     },
     "metadata": {},
     "output_type": "display_data"
    },
    {
     "data": {
      "text/plain": "Calculating Metrics:   0%|          | 0/6 [00:00<?, ?it/s]",
      "application/vnd.jupyter.widget-view+json": {
       "version_major": 2,
       "version_minor": 0,
       "model_id": "0d03c34f73b343858baa6473bcb67f33"
      }
     },
     "metadata": {},
     "output_type": "display_data"
    },
    {
     "data": {
      "text/plain": "Calculating Metrics:   0%|          | 0/7 [00:00<?, ?it/s]",
      "application/vnd.jupyter.widget-view+json": {
       "version_major": 2,
       "version_minor": 0,
       "model_id": "9835c9b0ffeb4cf281f9ababf5cf8cfb"
      }
     },
     "metadata": {},
     "output_type": "display_data"
    },
    {
     "data": {
      "text/plain": "Calculating Metrics:   0%|          | 0/7 [00:00<?, ?it/s]",
      "application/vnd.jupyter.widget-view+json": {
       "version_major": 2,
       "version_minor": 0,
       "model_id": "c5350196452347bd91097a4d70f09db4"
      }
     },
     "metadata": {},
     "output_type": "display_data"
    },
    {
     "data": {
      "text/plain": "Calculating Metrics:   0%|          | 0/8 [00:00<?, ?it/s]",
      "application/vnd.jupyter.widget-view+json": {
       "version_major": 2,
       "version_minor": 0,
       "model_id": "488af4fb32fe44e0b5843a10399c646c"
      }
     },
     "metadata": {},
     "output_type": "display_data"
    },
    {
     "data": {
      "text/plain": "Calculating Metrics:   0%|          | 0/4 [00:00<?, ?it/s]",
      "application/vnd.jupyter.widget-view+json": {
       "version_major": 2,
       "version_minor": 0,
       "model_id": "16c2957885804db99e122f28ea0a1cfe"
      }
     },
     "metadata": {},
     "output_type": "display_data"
    },
    {
     "data": {
      "text/plain": "Calculating Metrics:   0%|          | 0/8 [00:00<?, ?it/s]",
      "application/vnd.jupyter.widget-view+json": {
       "version_major": 2,
       "version_minor": 0,
       "model_id": "12946512b27645baa269d71626405a04"
      }
     },
     "metadata": {},
     "output_type": "display_data"
    },
    {
     "data": {
      "text/plain": "Calculating Metrics:   0%|          | 0/6 [00:00<?, ?it/s]",
      "application/vnd.jupyter.widget-view+json": {
       "version_major": 2,
       "version_minor": 0,
       "model_id": "0aa43424e1404fcd8933dc11a5307436"
      }
     },
     "metadata": {},
     "output_type": "display_data"
    },
    {
     "data": {
      "text/plain": "Calculating Metrics:   0%|          | 0/6 [00:00<?, ?it/s]",
      "application/vnd.jupyter.widget-view+json": {
       "version_major": 2,
       "version_minor": 0,
       "model_id": "77512a5a2b7545f886973e99f6116dcd"
      }
     },
     "metadata": {},
     "output_type": "display_data"
    },
    {
     "data": {
      "text/plain": "Calculating Metrics:   0%|          | 0/7 [00:00<?, ?it/s]",
      "application/vnd.jupyter.widget-view+json": {
       "version_major": 2,
       "version_minor": 0,
       "model_id": "0f4d8cc6fd4b43359c7256d84e322006"
      }
     },
     "metadata": {},
     "output_type": "display_data"
    },
    {
     "data": {
      "text/plain": "Calculating Metrics:   0%|          | 0/7 [00:00<?, ?it/s]",
      "application/vnd.jupyter.widget-view+json": {
       "version_major": 2,
       "version_minor": 0,
       "model_id": "d385c11a14f643d9b8edc060874aa349"
      }
     },
     "metadata": {},
     "output_type": "display_data"
    },
    {
     "data": {
      "text/plain": "Calculating Metrics:   0%|          | 0/8 [00:00<?, ?it/s]",
      "application/vnd.jupyter.widget-view+json": {
       "version_major": 2,
       "version_minor": 0,
       "model_id": "a51e84b45d184d6fa05f31b94be09de1"
      }
     },
     "metadata": {},
     "output_type": "display_data"
    },
    {
     "data": {
      "text/plain": "Calculating Metrics:   0%|          | 0/4 [00:00<?, ?it/s]",
      "application/vnd.jupyter.widget-view+json": {
       "version_major": 2,
       "version_minor": 0,
       "model_id": "7117a15ca91344078787bb60ac7e9182"
      }
     },
     "metadata": {},
     "output_type": "display_data"
    },
    {
     "data": {
      "text/plain": "Calculating Metrics:   0%|          | 0/8 [00:00<?, ?it/s]",
      "application/vnd.jupyter.widget-view+json": {
       "version_major": 2,
       "version_minor": 0,
       "model_id": "e4b73a44bbf5433393822a8627c5ee42"
      }
     },
     "metadata": {},
     "output_type": "display_data"
    },
    {
     "data": {
      "text/plain": "Calculating Metrics:   0%|          | 0/6 [00:00<?, ?it/s]",
      "application/vnd.jupyter.widget-view+json": {
       "version_major": 2,
       "version_minor": 0,
       "model_id": "9a9c995f62dc4bcb9ac6b2c6ba5fdd29"
      }
     },
     "metadata": {},
     "output_type": "display_data"
    },
    {
     "data": {
      "text/plain": "Calculating Metrics:   0%|          | 0/7 [00:00<?, ?it/s]",
      "application/vnd.jupyter.widget-view+json": {
       "version_major": 2,
       "version_minor": 0,
       "model_id": "2de131eb1c4c4427a201b8a634853599"
      }
     },
     "metadata": {},
     "output_type": "display_data"
    },
    {
     "data": {
      "text/plain": "Calculating Metrics:   0%|          | 0/7 [00:00<?, ?it/s]",
      "application/vnd.jupyter.widget-view+json": {
       "version_major": 2,
       "version_minor": 0,
       "model_id": "7d10fe094f8a4d2abfe7540eb75d1947"
      }
     },
     "metadata": {},
     "output_type": "display_data"
    },
    {
     "data": {
      "text/plain": "Calculating Metrics:   0%|          | 0/8 [00:00<?, ?it/s]",
      "application/vnd.jupyter.widget-view+json": {
       "version_major": 2,
       "version_minor": 0,
       "model_id": "de7c04322258424babd40135e2a0cd0a"
      }
     },
     "metadata": {},
     "output_type": "display_data"
    },
    {
     "data": {
      "text/plain": "Calculating Metrics:   0%|          | 0/4 [00:00<?, ?it/s]",
      "application/vnd.jupyter.widget-view+json": {
       "version_major": 2,
       "version_minor": 0,
       "model_id": "888bd8db3d4d4b559ecff275c52b7e6a"
      }
     },
     "metadata": {},
     "output_type": "display_data"
    },
    {
     "data": {
      "text/plain": "Calculating Metrics:   0%|          | 0/8 [00:00<?, ?it/s]",
      "application/vnd.jupyter.widget-view+json": {
       "version_major": 2,
       "version_minor": 0,
       "model_id": "9898c34749724c54b5f6fc0ad635b1bc"
      }
     },
     "metadata": {},
     "output_type": "display_data"
    },
    {
     "data": {
      "text/plain": "Calculating Metrics:   0%|          | 0/6 [00:00<?, ?it/s]",
      "application/vnd.jupyter.widget-view+json": {
       "version_major": 2,
       "version_minor": 0,
       "model_id": "1dc5a818d21c4da18b7fc18bb0adcd33"
      }
     },
     "metadata": {},
     "output_type": "display_data"
    },
    {
     "data": {
      "text/plain": "Calculating Metrics:   0%|          | 0/7 [00:00<?, ?it/s]",
      "application/vnd.jupyter.widget-view+json": {
       "version_major": 2,
       "version_minor": 0,
       "model_id": "9d7efb9cb3b54faba02e86a1de965f42"
      }
     },
     "metadata": {},
     "output_type": "display_data"
    },
    {
     "data": {
      "text/plain": "Calculating Metrics:   0%|          | 0/7 [00:00<?, ?it/s]",
      "application/vnd.jupyter.widget-view+json": {
       "version_major": 2,
       "version_minor": 0,
       "model_id": "f8373980e795425fa7dfceb3431c2f4f"
      }
     },
     "metadata": {},
     "output_type": "display_data"
    },
    {
     "data": {
      "text/plain": "Calculating Metrics:   0%|          | 0/8 [00:00<?, ?it/s]",
      "application/vnd.jupyter.widget-view+json": {
       "version_major": 2,
       "version_minor": 0,
       "model_id": "ab91c14a5c9f4497b85bd132caef5701"
      }
     },
     "metadata": {},
     "output_type": "display_data"
    },
    {
     "data": {
      "text/plain": "Calculating Metrics:   0%|          | 0/4 [00:00<?, ?it/s]",
      "application/vnd.jupyter.widget-view+json": {
       "version_major": 2,
       "version_minor": 0,
       "model_id": "66499ad71bf14d7493d31bbecdfa9873"
      }
     },
     "metadata": {},
     "output_type": "display_data"
    },
    {
     "data": {
      "text/plain": "Calculating Metrics:   0%|          | 0/8 [00:00<?, ?it/s]",
      "application/vnd.jupyter.widget-view+json": {
       "version_major": 2,
       "version_minor": 0,
       "model_id": "467a582776934058a2d523c4a008164a"
      }
     },
     "metadata": {},
     "output_type": "display_data"
    },
    {
     "data": {
      "text/plain": "Calculating Metrics:   0%|          | 0/6 [00:00<?, ?it/s]",
      "application/vnd.jupyter.widget-view+json": {
       "version_major": 2,
       "version_minor": 0,
       "model_id": "531b54bff9d54accb0e852ea669ae83c"
      }
     },
     "metadata": {},
     "output_type": "display_data"
    },
    {
     "data": {
      "text/plain": "Calculating Metrics:   0%|          | 0/7 [00:00<?, ?it/s]",
      "application/vnd.jupyter.widget-view+json": {
       "version_major": 2,
       "version_minor": 0,
       "model_id": "5777097b366d413286e9e641e2ed762b"
      }
     },
     "metadata": {},
     "output_type": "display_data"
    },
    {
     "data": {
      "text/plain": "Calculating Metrics:   0%|          | 0/7 [00:00<?, ?it/s]",
      "application/vnd.jupyter.widget-view+json": {
       "version_major": 2,
       "version_minor": 0,
       "model_id": "f16559b414bd470299edcf5ef94c3299"
      }
     },
     "metadata": {},
     "output_type": "display_data"
    },
    {
     "data": {
      "text/plain": "Calculating Metrics:   0%|          | 0/8 [00:00<?, ?it/s]",
      "application/vnd.jupyter.widget-view+json": {
       "version_major": 2,
       "version_minor": 0,
       "model_id": "651b89862f4548829945fefa090db13f"
      }
     },
     "metadata": {},
     "output_type": "display_data"
    },
    {
     "data": {
      "text/plain": "Calculating Metrics:   0%|          | 0/4 [00:00<?, ?it/s]",
      "application/vnd.jupyter.widget-view+json": {
       "version_major": 2,
       "version_minor": 0,
       "model_id": "16c7273d30ec4c3cb845679a8ac39723"
      }
     },
     "metadata": {},
     "output_type": "display_data"
    },
    {
     "data": {
      "text/plain": "Calculating Metrics:   0%|          | 0/4 [00:00<?, ?it/s]",
      "application/vnd.jupyter.widget-view+json": {
       "version_major": 2,
       "version_minor": 0,
       "model_id": "f03486edde6e40d4bcd08b210b1d638f"
      }
     },
     "metadata": {},
     "output_type": "display_data"
    },
    {
     "data": {
      "text/plain": "Calculating Metrics:   0%|          | 0/4 [00:00<?, ?it/s]",
      "application/vnd.jupyter.widget-view+json": {
       "version_major": 2,
       "version_minor": 0,
       "model_id": "891653b2bb2d40f8b287281cd6fa34b9"
      }
     },
     "metadata": {},
     "output_type": "display_data"
    },
    {
     "data": {
      "text/plain": "Calculating Metrics:   0%|          | 0/4 [00:00<?, ?it/s]",
      "application/vnd.jupyter.widget-view+json": {
       "version_major": 2,
       "version_minor": 0,
       "model_id": "31516f34b0164569b4e1cb37420d07c7"
      }
     },
     "metadata": {},
     "output_type": "display_data"
    },
    {
     "data": {
      "text/plain": "Calculating Metrics:   0%|          | 0/4 [00:00<?, ?it/s]",
      "application/vnd.jupyter.widget-view+json": {
       "version_major": 2,
       "version_minor": 0,
       "model_id": "940d8fdf8153421b8c95d0cce42862e9"
      }
     },
     "metadata": {},
     "output_type": "display_data"
    },
    {
     "data": {
      "text/plain": "Calculating Metrics:   0%|          | 0/4 [00:00<?, ?it/s]",
      "application/vnd.jupyter.widget-view+json": {
       "version_major": 2,
       "version_minor": 0,
       "model_id": "80e71dc06cf74f4b97c7bd847a7fa4ad"
      }
     },
     "metadata": {},
     "output_type": "display_data"
    },
    {
     "data": {
      "text/plain": "Calculating Metrics:   0%|          | 0/4 [00:00<?, ?it/s]",
      "application/vnd.jupyter.widget-view+json": {
       "version_major": 2,
       "version_minor": 0,
       "model_id": "a5213111b5744bb8b1b7fb7290094589"
      }
     },
     "metadata": {},
     "output_type": "display_data"
    },
    {
     "data": {
      "text/plain": "Calculating Metrics:   0%|          | 0/4 [00:00<?, ?it/s]",
      "application/vnd.jupyter.widget-view+json": {
       "version_major": 2,
       "version_minor": 0,
       "model_id": "5cee0ac7ba0941dd9fd6e9c350bfaeac"
      }
     },
     "metadata": {},
     "output_type": "display_data"
    },
    {
     "data": {
      "text/plain": "Calculating Metrics:   0%|          | 0/4 [00:00<?, ?it/s]",
      "application/vnd.jupyter.widget-view+json": {
       "version_major": 2,
       "version_minor": 0,
       "model_id": "9fe5a4c5c3684891a7078136bc65b764"
      }
     },
     "metadata": {},
     "output_type": "display_data"
    },
    {
     "data": {
      "text/plain": "Calculating Metrics:   0%|          | 0/4 [00:00<?, ?it/s]",
      "application/vnd.jupyter.widget-view+json": {
       "version_major": 2,
       "version_minor": 0,
       "model_id": "eb87ef50dbe141919af9f738c21c09df"
      }
     },
     "metadata": {},
     "output_type": "display_data"
    },
    {
     "data": {
      "text/plain": "Calculating Metrics:   0%|          | 0/4 [00:00<?, ?it/s]",
      "application/vnd.jupyter.widget-view+json": {
       "version_major": 2,
       "version_minor": 0,
       "model_id": "608cd5d20d074e1b8dee80a4be186bf4"
      }
     },
     "metadata": {},
     "output_type": "display_data"
    },
    {
     "data": {
      "text/plain": "Calculating Metrics:   0%|          | 0/8 [00:00<?, ?it/s]",
      "application/vnd.jupyter.widget-view+json": {
       "version_major": 2,
       "version_minor": 0,
       "model_id": "33dcda6ce3df4779baaacc1435296aab"
      }
     },
     "metadata": {},
     "output_type": "display_data"
    },
    {
     "data": {
      "text/plain": "Calculating Metrics:   0%|          | 0/6 [00:00<?, ?it/s]",
      "application/vnd.jupyter.widget-view+json": {
       "version_major": 2,
       "version_minor": 0,
       "model_id": "cfd84579adef4ea48189130b24a1ef3b"
      }
     },
     "metadata": {},
     "output_type": "display_data"
    },
    {
     "data": {
      "text/plain": "Calculating Metrics:   0%|          | 0/7 [00:00<?, ?it/s]",
      "application/vnd.jupyter.widget-view+json": {
       "version_major": 2,
       "version_minor": 0,
       "model_id": "4cd39405a3b742cdab08811f0da6c089"
      }
     },
     "metadata": {},
     "output_type": "display_data"
    },
    {
     "data": {
      "text/plain": "Calculating Metrics:   0%|          | 0/7 [00:00<?, ?it/s]",
      "application/vnd.jupyter.widget-view+json": {
       "version_major": 2,
       "version_minor": 0,
       "model_id": "76bee1b62ecb4a9cafac12b581b7a70d"
      }
     },
     "metadata": {},
     "output_type": "display_data"
    },
    {
     "data": {
      "text/plain": "Calculating Metrics:   0%|          | 0/4 [00:00<?, ?it/s]",
      "application/vnd.jupyter.widget-view+json": {
       "version_major": 2,
       "version_minor": 0,
       "model_id": "b760669c5cb94db8bb5f2c8767f5f29f"
      }
     },
     "metadata": {},
     "output_type": "display_data"
    },
    {
     "data": {
      "text/plain": "Calculating Metrics:   0%|          | 0/4 [00:00<?, ?it/s]",
      "application/vnd.jupyter.widget-view+json": {
       "version_major": 2,
       "version_minor": 0,
       "model_id": "c7251a6eea14404da7c56a8a193643d4"
      }
     },
     "metadata": {},
     "output_type": "display_data"
    },
    {
     "data": {
      "text/plain": "Calculating Metrics:   0%|          | 0/4 [00:00<?, ?it/s]",
      "application/vnd.jupyter.widget-view+json": {
       "version_major": 2,
       "version_minor": 0,
       "model_id": "435a602ed0dd47f79e5562baec24819e"
      }
     },
     "metadata": {},
     "output_type": "display_data"
    },
    {
     "data": {
      "text/plain": "Calculating Metrics:   0%|          | 0/4 [00:00<?, ?it/s]",
      "application/vnd.jupyter.widget-view+json": {
       "version_major": 2,
       "version_minor": 0,
       "model_id": "704b115690be461bb7ecdcc0e4ad4e0f"
      }
     },
     "metadata": {},
     "output_type": "display_data"
    },
    {
     "data": {
      "text/plain": "Calculating Metrics:   0%|          | 0/4 [00:00<?, ?it/s]",
      "application/vnd.jupyter.widget-view+json": {
       "version_major": 2,
       "version_minor": 0,
       "model_id": "9c344a5d661f4c5f81e5b03d003bbd35"
      }
     },
     "metadata": {},
     "output_type": "display_data"
    },
    {
     "data": {
      "text/plain": "Calculating Metrics:   0%|          | 0/4 [00:00<?, ?it/s]",
      "application/vnd.jupyter.widget-view+json": {
       "version_major": 2,
       "version_minor": 0,
       "model_id": "1e08e41f28e54448889d64658d70dbc7"
      }
     },
     "metadata": {},
     "output_type": "display_data"
    },
    {
     "data": {
      "text/plain": "Calculating Metrics:   0%|          | 0/4 [00:00<?, ?it/s]",
      "application/vnd.jupyter.widget-view+json": {
       "version_major": 2,
       "version_minor": 0,
       "model_id": "83ca91504ca04909a54b9f0fa6e5ff74"
      }
     },
     "metadata": {},
     "output_type": "display_data"
    },
    {
     "data": {
      "text/plain": "Calculating Metrics:   0%|          | 0/4 [00:00<?, ?it/s]",
      "application/vnd.jupyter.widget-view+json": {
       "version_major": 2,
       "version_minor": 0,
       "model_id": "594ec6ab137c4cd68a9b8c933822ba19"
      }
     },
     "metadata": {},
     "output_type": "display_data"
    },
    {
     "data": {
      "text/plain": "Calculating Metrics:   0%|          | 0/4 [00:00<?, ?it/s]",
      "application/vnd.jupyter.widget-view+json": {
       "version_major": 2,
       "version_minor": 0,
       "model_id": "db1441072b364da3aff40cb4604f2149"
      }
     },
     "metadata": {},
     "output_type": "display_data"
    },
    {
     "data": {
      "text/plain": "Calculating Metrics:   0%|          | 0/4 [00:00<?, ?it/s]",
      "application/vnd.jupyter.widget-view+json": {
       "version_major": 2,
       "version_minor": 0,
       "model_id": "e599d820fc1a48789d86cf75de0664cd"
      }
     },
     "metadata": {},
     "output_type": "display_data"
    },
    {
     "data": {
      "text/plain": "Calculating Metrics:   0%|          | 0/4 [00:00<?, ?it/s]",
      "application/vnd.jupyter.widget-view+json": {
       "version_major": 2,
       "version_minor": 0,
       "model_id": "44d649f9d3004a21a0167f07f8413f67"
      }
     },
     "metadata": {},
     "output_type": "display_data"
    },
    {
     "data": {
      "text/plain": "Calculating Metrics:   0%|          | 0/8 [00:00<?, ?it/s]",
      "application/vnd.jupyter.widget-view+json": {
       "version_major": 2,
       "version_minor": 0,
       "model_id": "9b36676ee7a446cdbbb8165eb26be8e4"
      }
     },
     "metadata": {},
     "output_type": "display_data"
    },
    {
     "data": {
      "text/plain": "Calculating Metrics:   0%|          | 0/6 [00:00<?, ?it/s]",
      "application/vnd.jupyter.widget-view+json": {
       "version_major": 2,
       "version_minor": 0,
       "model_id": "1e8680db6b47461c8781ae8b5d17f774"
      }
     },
     "metadata": {},
     "output_type": "display_data"
    },
    {
     "data": {
      "text/plain": "Calculating Metrics:   0%|          | 0/7 [00:00<?, ?it/s]",
      "application/vnd.jupyter.widget-view+json": {
       "version_major": 2,
       "version_minor": 0,
       "model_id": "067131e38e334723b92cb7a213094176"
      }
     },
     "metadata": {},
     "output_type": "display_data"
    },
    {
     "data": {
      "text/plain": "Calculating Metrics:   0%|          | 0/7 [00:00<?, ?it/s]",
      "application/vnd.jupyter.widget-view+json": {
       "version_major": 2,
       "version_minor": 0,
       "model_id": "9f89b50c2734460b941fdc7bfd777090"
      }
     },
     "metadata": {},
     "output_type": "display_data"
    },
    {
     "data": {
      "text/plain": "Calculating Metrics:   0%|          | 0/4 [00:00<?, ?it/s]",
      "application/vnd.jupyter.widget-view+json": {
       "version_major": 2,
       "version_minor": 0,
       "model_id": "4e03de98fa654c94b06c87b66a7af58e"
      }
     },
     "metadata": {},
     "output_type": "display_data"
    },
    {
     "data": {
      "text/plain": "Calculating Metrics:   0%|          | 0/4 [00:00<?, ?it/s]",
      "application/vnd.jupyter.widget-view+json": {
       "version_major": 2,
       "version_minor": 0,
       "model_id": "f228c6bbee964b9a950dd976742bf30b"
      }
     },
     "metadata": {},
     "output_type": "display_data"
    },
    {
     "data": {
      "text/plain": "Calculating Metrics:   0%|          | 0/4 [00:00<?, ?it/s]",
      "application/vnd.jupyter.widget-view+json": {
       "version_major": 2,
       "version_minor": 0,
       "model_id": "818061a9041148c1897f781c41046d70"
      }
     },
     "metadata": {},
     "output_type": "display_data"
    },
    {
     "data": {
      "text/plain": "Calculating Metrics:   0%|          | 0/4 [00:00<?, ?it/s]",
      "application/vnd.jupyter.widget-view+json": {
       "version_major": 2,
       "version_minor": 0,
       "model_id": "6ff3f3473794408ab191e20e98b8a2ea"
      }
     },
     "metadata": {},
     "output_type": "display_data"
    },
    {
     "data": {
      "text/plain": "Calculating Metrics:   0%|          | 0/4 [00:00<?, ?it/s]",
      "application/vnd.jupyter.widget-view+json": {
       "version_major": 2,
       "version_minor": 0,
       "model_id": "f5620e2f07e14715a6e1555aa73f5858"
      }
     },
     "metadata": {},
     "output_type": "display_data"
    },
    {
     "data": {
      "text/plain": "Calculating Metrics:   0%|          | 0/4 [00:00<?, ?it/s]",
      "application/vnd.jupyter.widget-view+json": {
       "version_major": 2,
       "version_minor": 0,
       "model_id": "5963192ad85145d38d8f21ef64b5f7f1"
      }
     },
     "metadata": {},
     "output_type": "display_data"
    },
    {
     "data": {
      "text/plain": "Calculating Metrics:   0%|          | 0/4 [00:00<?, ?it/s]",
      "application/vnd.jupyter.widget-view+json": {
       "version_major": 2,
       "version_minor": 0,
       "model_id": "8089b53fda9a410387cde7ab976004ca"
      }
     },
     "metadata": {},
     "output_type": "display_data"
    },
    {
     "data": {
      "text/plain": "Calculating Metrics:   0%|          | 0/4 [00:00<?, ?it/s]",
      "application/vnd.jupyter.widget-view+json": {
       "version_major": 2,
       "version_minor": 0,
       "model_id": "cac9ad610ba342bf9b8f9b129aed69d9"
      }
     },
     "metadata": {},
     "output_type": "display_data"
    },
    {
     "data": {
      "text/plain": "Calculating Metrics:   0%|          | 0/4 [00:00<?, ?it/s]",
      "application/vnd.jupyter.widget-view+json": {
       "version_major": 2,
       "version_minor": 0,
       "model_id": "97b34810359a43e3920ee42dac82ac28"
      }
     },
     "metadata": {},
     "output_type": "display_data"
    },
    {
     "data": {
      "text/plain": "Calculating Metrics:   0%|          | 0/4 [00:00<?, ?it/s]",
      "application/vnd.jupyter.widget-view+json": {
       "version_major": 2,
       "version_minor": 0,
       "model_id": "feeaa533fd9e4075ac31184c627aebbd"
      }
     },
     "metadata": {},
     "output_type": "display_data"
    },
    {
     "data": {
      "text/plain": "Calculating Metrics:   0%|          | 0/4 [00:00<?, ?it/s]",
      "application/vnd.jupyter.widget-view+json": {
       "version_major": 2,
       "version_minor": 0,
       "model_id": "266292827a084bd6b74e14c65d72b0df"
      }
     },
     "metadata": {},
     "output_type": "display_data"
    },
    {
     "data": {
      "text/plain": "Calculating Metrics:   0%|          | 0/8 [00:00<?, ?it/s]",
      "application/vnd.jupyter.widget-view+json": {
       "version_major": 2,
       "version_minor": 0,
       "model_id": "41964c50c9fe44c3a9827bce889f1e79"
      }
     },
     "metadata": {},
     "output_type": "display_data"
    },
    {
     "data": {
      "text/plain": "Calculating Metrics:   0%|          | 0/6 [00:00<?, ?it/s]",
      "application/vnd.jupyter.widget-view+json": {
       "version_major": 2,
       "version_minor": 0,
       "model_id": "6ce5e08cd2244d1ba0c436b9ba36dc96"
      }
     },
     "metadata": {},
     "output_type": "display_data"
    },
    {
     "data": {
      "text/plain": "Calculating Metrics:   0%|          | 0/7 [00:00<?, ?it/s]",
      "application/vnd.jupyter.widget-view+json": {
       "version_major": 2,
       "version_minor": 0,
       "model_id": "e9f4aba91ca340f29aaeea9f98fda724"
      }
     },
     "metadata": {},
     "output_type": "display_data"
    },
    {
     "data": {
      "text/plain": "Calculating Metrics:   0%|          | 0/7 [00:00<?, ?it/s]",
      "application/vnd.jupyter.widget-view+json": {
       "version_major": 2,
       "version_minor": 0,
       "model_id": "f614a33a613b40a6803d3c93806f0a35"
      }
     },
     "metadata": {},
     "output_type": "display_data"
    },
    {
     "data": {
      "text/plain": "Calculating Metrics:   0%|          | 0/4 [00:00<?, ?it/s]",
      "application/vnd.jupyter.widget-view+json": {
       "version_major": 2,
       "version_minor": 0,
       "model_id": "dc099d1d4f0843bcae8488d0435bfee1"
      }
     },
     "metadata": {},
     "output_type": "display_data"
    },
    {
     "data": {
      "text/plain": "Calculating Metrics:   0%|          | 0/8 [00:00<?, ?it/s]",
      "application/vnd.jupyter.widget-view+json": {
       "version_major": 2,
       "version_minor": 0,
       "model_id": "2fced2526e8b47daa16487ad40e050cd"
      }
     },
     "metadata": {},
     "output_type": "display_data"
    },
    {
     "data": {
      "text/plain": "Calculating Metrics:   0%|          | 0/6 [00:00<?, ?it/s]",
      "application/vnd.jupyter.widget-view+json": {
       "version_major": 2,
       "version_minor": 0,
       "model_id": "c180e454bae14851ac10dd83b2df13ed"
      }
     },
     "metadata": {},
     "output_type": "display_data"
    },
    {
     "data": {
      "text/plain": "Calculating Metrics:   0%|          | 0/6 [00:00<?, ?it/s]",
      "application/vnd.jupyter.widget-view+json": {
       "version_major": 2,
       "version_minor": 0,
       "model_id": "cd571b8492544356adf82aadcf72fd20"
      }
     },
     "metadata": {},
     "output_type": "display_data"
    },
    {
     "data": {
      "text/plain": "Calculating Metrics:   0%|          | 0/7 [00:00<?, ?it/s]",
      "application/vnd.jupyter.widget-view+json": {
       "version_major": 2,
       "version_minor": 0,
       "model_id": "535c641758f644ccbc5da036a8659d8e"
      }
     },
     "metadata": {},
     "output_type": "display_data"
    },
    {
     "data": {
      "text/plain": "Calculating Metrics:   0%|          | 0/7 [00:00<?, ?it/s]",
      "application/vnd.jupyter.widget-view+json": {
       "version_major": 2,
       "version_minor": 0,
       "model_id": "88d7629a4fc54d06aea304e9f7322c33"
      }
     },
     "metadata": {},
     "output_type": "display_data"
    },
    {
     "data": {
      "text/plain": "Calculating Metrics:   0%|          | 0/8 [00:00<?, ?it/s]",
      "application/vnd.jupyter.widget-view+json": {
       "version_major": 2,
       "version_minor": 0,
       "model_id": "0dd207d7f51547e785c0005c822f45ac"
      }
     },
     "metadata": {},
     "output_type": "display_data"
    },
    {
     "data": {
      "text/plain": "Calculating Metrics:   0%|          | 0/4 [00:00<?, ?it/s]",
      "application/vnd.jupyter.widget-view+json": {
       "version_major": 2,
       "version_minor": 0,
       "model_id": "706fc834ef9a494693d4ee204548f938"
      }
     },
     "metadata": {},
     "output_type": "display_data"
    },
    {
     "data": {
      "text/plain": "Calculating Metrics:   0%|          | 0/8 [00:00<?, ?it/s]",
      "application/vnd.jupyter.widget-view+json": {
       "version_major": 2,
       "version_minor": 0,
       "model_id": "5175905d1ea244c794323ad66317d614"
      }
     },
     "metadata": {},
     "output_type": "display_data"
    },
    {
     "data": {
      "text/plain": "Calculating Metrics:   0%|          | 0/6 [00:00<?, ?it/s]",
      "application/vnd.jupyter.widget-view+json": {
       "version_major": 2,
       "version_minor": 0,
       "model_id": "77bc8bd9e00e49aeac58863c14b39cad"
      }
     },
     "metadata": {},
     "output_type": "display_data"
    },
    {
     "data": {
      "text/plain": "Calculating Metrics:   0%|          | 0/7 [00:00<?, ?it/s]",
      "application/vnd.jupyter.widget-view+json": {
       "version_major": 2,
       "version_minor": 0,
       "model_id": "8a33534c3ec1478e9e4afc5c463b7e5b"
      }
     },
     "metadata": {},
     "output_type": "display_data"
    },
    {
     "data": {
      "text/plain": "Calculating Metrics:   0%|          | 0/7 [00:00<?, ?it/s]",
      "application/vnd.jupyter.widget-view+json": {
       "version_major": 2,
       "version_minor": 0,
       "model_id": "c9d2065367ff4ef7b32db09aebacccfb"
      }
     },
     "metadata": {},
     "output_type": "display_data"
    },
    {
     "data": {
      "text/plain": "Calculating Metrics:   0%|          | 0/8 [00:00<?, ?it/s]",
      "application/vnd.jupyter.widget-view+json": {
       "version_major": 2,
       "version_minor": 0,
       "model_id": "17db6ca9c39547cbb6327e8947a0365b"
      }
     },
     "metadata": {},
     "output_type": "display_data"
    },
    {
     "name": "stdout",
     "output_type": "stream",
     "text": [
      "2022-02-24T15:28:16+0100 - INFO - \t91 expectation(s) included in expectation_suite.\n",
      "Creating an expectation suite with the following expectations:\n",
      "\n",
      "Table-Level Expectations\n",
      "expect_table_columns_to_match_ordered_list\n",
      "expect_table_row_count_to_be_between\n",
      "\n",
      "Expectations by Column\n",
      "Column Name: age | Column Data Type: FLOAT | Cardinality: MANY\n",
      "expect_column_max_to_be_between\n",
      "expect_column_mean_to_be_between\n",
      "expect_column_median_to_be_between\n",
      "expect_column_min_to_be_between\n",
      "expect_column_proportion_of_unique_values_to_be_between\n",
      "expect_column_quantile_values_to_be_between\n",
      "expect_column_values_to_be_in_set\n",
      "expect_column_values_to_be_in_type_list\n",
      "expect_column_values_to_not_be_null\n",
      "\n",
      "\n",
      "Column Name: capital-gain | Column Data Type: INT | Cardinality: MANY\n",
      "expect_column_max_to_be_between\n",
      "expect_column_mean_to_be_between\n",
      "expect_column_median_to_be_between\n",
      "expect_column_min_to_be_between\n",
      "expect_column_proportion_of_unique_values_to_be_between\n",
      "expect_column_quantile_values_to_be_between\n",
      "expect_column_values_to_be_in_set\n",
      "expect_column_values_to_be_in_type_list\n",
      "expect_column_values_to_not_be_null\n",
      "\n",
      "\n",
      "Column Name: capital-loss | Column Data Type: INT | Cardinality: MANY\n",
      "expect_column_max_to_be_between\n",
      "expect_column_mean_to_be_between\n",
      "expect_column_median_to_be_between\n",
      "expect_column_min_to_be_between\n",
      "expect_column_proportion_of_unique_values_to_be_between\n",
      "expect_column_quantile_values_to_be_between\n",
      "expect_column_values_to_be_in_set\n",
      "expect_column_values_to_be_in_type_list\n",
      "expect_column_values_to_not_be_null\n",
      "\n",
      "\n",
      "Column Name: education | Column Data Type: STRING | Cardinality: VERY_FEW\n",
      "expect_column_proportion_of_unique_values_to_be_between\n",
      "expect_column_values_to_be_in_set\n",
      "expect_column_values_to_be_in_type_list\n",
      "expect_column_values_to_not_be_null\n",
      "\n",
      "\n",
      "Column Name: education-num | Column Data Type: INT | Cardinality: VERY_FEW\n",
      "expect_column_max_to_be_between\n",
      "expect_column_mean_to_be_between\n",
      "expect_column_median_to_be_between\n",
      "expect_column_min_to_be_between\n",
      "expect_column_proportion_of_unique_values_to_be_between\n",
      "expect_column_quantile_values_to_be_between\n",
      "expect_column_values_to_be_in_set\n",
      "expect_column_values_to_be_in_type_list\n",
      "expect_column_values_to_not_be_null\n",
      "\n",
      "\n",
      "Column Name: fnlwgt | Column Data Type: INT | Cardinality: VERY_MANY\n",
      "expect_column_max_to_be_between\n",
      "expect_column_mean_to_be_between\n",
      "expect_column_median_to_be_between\n",
      "expect_column_min_to_be_between\n",
      "expect_column_proportion_of_unique_values_to_be_between\n",
      "expect_column_quantile_values_to_be_between\n",
      "expect_column_values_to_be_in_type_list\n",
      "expect_column_values_to_not_be_null\n",
      "\n",
      "\n",
      "Column Name: hours-per-week | Column Data Type: INT | Cardinality: MANY\n",
      "expect_column_max_to_be_between\n",
      "expect_column_mean_to_be_between\n",
      "expect_column_median_to_be_between\n",
      "expect_column_min_to_be_between\n",
      "expect_column_proportion_of_unique_values_to_be_between\n",
      "expect_column_quantile_values_to_be_between\n",
      "expect_column_values_to_be_in_set\n",
      "expect_column_values_to_be_in_type_list\n",
      "expect_column_values_to_not_be_null\n",
      "\n",
      "\n",
      "Column Name: income | Column Data Type: STRING | Cardinality: TWO\n",
      "expect_column_proportion_of_unique_values_to_be_between\n",
      "expect_column_values_to_be_in_set\n",
      "expect_column_values_to_be_in_type_list\n",
      "expect_column_values_to_not_be_null\n",
      "\n",
      "\n",
      "Column Name: marital-status | Column Data Type: STRING | Cardinality: VERY_FEW\n",
      "expect_column_proportion_of_unique_values_to_be_between\n",
      "expect_column_values_to_be_in_set\n",
      "expect_column_values_to_be_in_type_list\n",
      "expect_column_values_to_not_be_null\n",
      "\n",
      "\n",
      "Column Name: native-country | Column Data Type: STRING | Cardinality: FEW\n",
      "expect_column_proportion_of_unique_values_to_be_between\n",
      "expect_column_values_to_be_in_set\n",
      "expect_column_values_to_be_in_type_list\n",
      "expect_column_values_to_not_be_null\n",
      "\n",
      "\n",
      "Column Name: occupation | Column Data Type: STRING | Cardinality: VERY_FEW\n",
      "expect_column_proportion_of_unique_values_to_be_between\n",
      "expect_column_values_to_be_in_set\n",
      "expect_column_values_to_be_in_type_list\n",
      "expect_column_values_to_not_be_null\n",
      "\n",
      "\n",
      "Column Name: race | Column Data Type: STRING | Cardinality: VERY_FEW\n",
      "expect_column_proportion_of_unique_values_to_be_between\n",
      "expect_column_values_to_be_in_set\n",
      "expect_column_values_to_be_in_type_list\n",
      "expect_column_values_to_not_be_null\n",
      "\n",
      "\n",
      "Column Name: relationship | Column Data Type: STRING | Cardinality: VERY_FEW\n",
      "expect_column_proportion_of_unique_values_to_be_between\n",
      "expect_column_values_to_be_in_set\n",
      "expect_column_values_to_be_in_type_list\n",
      "expect_column_values_to_not_be_null\n",
      "\n",
      "\n",
      "Column Name: sex | Column Data Type: STRING | Cardinality: TWO\n",
      "expect_column_proportion_of_unique_values_to_be_between\n",
      "expect_column_values_to_be_in_set\n",
      "expect_column_values_to_be_in_type_list\n",
      "expect_column_values_to_not_be_null\n",
      "\n",
      "\n",
      "Column Name: workclass | Column Data Type: STRING | Cardinality: VERY_FEW\n",
      "expect_column_proportion_of_unique_values_to_be_between\n",
      "expect_column_values_to_be_in_set\n",
      "expect_column_values_to_be_in_type_list\n",
      "expect_column_values_to_not_be_null\n",
      "\n",
      "\n"
     ]
    }
   ],
   "source": [
    "# create a profile,\n",
    "profiler = UserConfigurableProfiler(\n",
    "    profile_dataset=validator,\n",
    "    excluded_expectations=None,\n",
    "    ignored_columns=ignored_columns,\n",
    "    not_null_only=False,\n",
    "    primary_or_compound_key=False,\n",
    "    semantic_types_dict=None,\n",
    "    table_expectations_only=False,\n",
    "    value_set_threshold=\"MANY\",\n",
    ")\n",
    "\n",
    "# use the profiler to generate a validation rule set\n",
    "suite = profiler.build_suite()"
   ],
   "metadata": {
    "collapsed": false,
    "pycharm": {
     "name": "#%%\n"
    }
   }
  },
  {
   "cell_type": "code",
   "execution_count": 3,
   "outputs": [
    {
     "name": "stdout",
     "output_type": "stream",
     "text": [
      "2022-02-24T15:32:25+0100 - INFO - \t91 expectation(s) included in expectation_suite.\n",
      "{\n",
      "  \"ge_cloud_id\": null,\n",
      "  \"meta\": {\n",
      "    \"great_expectations_version\": \"0.14.1\"\n",
      "  },\n",
      "  \"expectation_suite_name\": \"adult_with_duplicates.csv.warning\",\n",
      "  \"expectations\": [\n",
      "    {\n",
      "      \"kwargs\": {\n",
      "        \"column_list\": [\n",
      "          \"age\",\n",
      "          \"workclass\",\n",
      "          \"fnlwgt\",\n",
      "          \"education\",\n",
      "          \"education-num\",\n",
      "          \"marital-status\",\n",
      "          \"occupation\",\n",
      "          \"relationship\",\n",
      "          \"race\",\n",
      "          \"sex\",\n",
      "          \"capital-gain\",\n",
      "          \"capital-loss\",\n",
      "          \"hours-per-week\",\n",
      "          \"native-country\",\n",
      "          \"income\"\n",
      "        ]\n",
      "      },\n",
      "      \"expectation_type\": \"expect_table_columns_to_match_ordered_list\",\n",
      "      \"meta\": {}\n",
      "    },\n",
      "    {\n",
      "      \"kwargs\": {\n",
      "        \"max_value\": 32607,\n",
      "        \"min_value\": 32607\n",
      "      },\n",
      "      \"expectation_type\": \"expect_table_row_count_to_be_between\",\n",
      "      \"meta\": {}\n",
      "    },\n",
      "    {\n",
      "      \"kwargs\": {\n",
      "        \"column\": \"age\",\n",
      "        \"max_value\": -12.0,\n",
      "        \"min_value\": -12.0\n",
      "      },\n",
      "      \"expectation_type\": \"expect_column_min_to_be_between\",\n",
      "      \"meta\": {}\n",
      "    },\n",
      "    {\n",
      "      \"kwargs\": {\n",
      "        \"column\": \"age\",\n",
      "        \"max_value\": 154.0,\n",
      "        \"min_value\": 154.0\n",
      "      },\n",
      "      \"expectation_type\": \"expect_column_max_to_be_between\",\n",
      "      \"meta\": {}\n",
      "    },\n",
      "    {\n",
      "      \"kwargs\": {\n",
      "        \"column\": \"age\",\n",
      "        \"max_value\": 38.589416058394164,\n",
      "        \"min_value\": 38.589416058394164\n",
      "      },\n",
      "      \"expectation_type\": \"expect_column_mean_to_be_between\",\n",
      "      \"meta\": {}\n",
      "    },\n",
      "    {\n",
      "      \"kwargs\": {\n",
      "        \"column\": \"age\",\n",
      "        \"max_value\": 37.0,\n",
      "        \"min_value\": 37.0\n",
      "      },\n",
      "      \"expectation_type\": \"expect_column_median_to_be_between\",\n",
      "      \"meta\": {}\n",
      "    },\n",
      "    {\n",
      "      \"kwargs\": {\n",
      "        \"allow_relative_error\": \"lower\",\n",
      "        \"column\": \"age\",\n",
      "        \"quantile_ranges\": {\n",
      "          \"quantiles\": [\n",
      "            0.05,\n",
      "            0.25,\n",
      "            0.5,\n",
      "            0.75,\n",
      "            0.95\n",
      "          ],\n",
      "          \"value_ranges\": [\n",
      "            [\n",
      "              19.0,\n",
      "              19.0\n",
      "            ],\n",
      "            [\n",
      "              28.0,\n",
      "              28.0\n",
      "            ],\n",
      "            [\n",
      "              37.0,\n",
      "              37.0\n",
      "            ],\n",
      "            [\n",
      "              48.0,\n",
      "              48.0\n",
      "            ],\n",
      "            [\n",
      "              63.0,\n",
      "              63.0\n",
      "            ]\n",
      "          ]\n",
      "        }\n",
      "      },\n",
      "      \"expectation_type\": \"expect_column_quantile_values_to_be_between\",\n",
      "      \"meta\": {}\n",
      "    },\n",
      "    {\n",
      "      \"kwargs\": {\n",
      "        \"column\": \"age\",\n",
      "        \"value_set\": [\n",
      "          -12.0,\n",
      "          17.0,\n",
      "          18.0,\n",
      "          19.0,\n",
      "          20.0,\n",
      "          21.0,\n",
      "          22.0,\n",
      "          23.0,\n",
      "          24.0,\n",
      "          25.0,\n",
      "          26.0,\n",
      "          27.0,\n",
      "          28.0,\n",
      "          29.0,\n",
      "          30.0,\n",
      "          31.0,\n",
      "          32.0,\n",
      "          33.0,\n",
      "          34.0,\n",
      "          35.0,\n",
      "          36.0,\n",
      "          37.0,\n",
      "          38.0,\n",
      "          39.0,\n",
      "          39.5,\n",
      "          40.0,\n",
      "          41.0,\n",
      "          42.0,\n",
      "          43.0,\n",
      "          44.0,\n",
      "          45.0,\n",
      "          46.0,\n",
      "          47.0,\n",
      "          48.0,\n",
      "          49.0,\n",
      "          50.0,\n",
      "          51.0,\n",
      "          52.0,\n",
      "          53.0,\n",
      "          54.0,\n",
      "          55.0,\n",
      "          56.0,\n",
      "          57.0,\n",
      "          58.0,\n",
      "          59.0,\n",
      "          60.0,\n",
      "          61.0,\n",
      "          62.0,\n",
      "          63.0,\n",
      "          64.0,\n",
      "          65.0,\n",
      "          66.0,\n",
      "          67.0,\n",
      "          68.0,\n",
      "          69.0,\n",
      "          70.0,\n",
      "          71.0,\n",
      "          72.0,\n",
      "          73.0,\n",
      "          74.0,\n",
      "          75.0,\n",
      "          76.0,\n",
      "          77.0,\n",
      "          78.0,\n",
      "          79.0,\n",
      "          80.0,\n",
      "          81.0,\n",
      "          82.0,\n",
      "          83.0,\n",
      "          84.0,\n",
      "          85.0,\n",
      "          86.0,\n",
      "          87.0,\n",
      "          88.0,\n",
      "          90.0,\n",
      "          139.0,\n",
      "          152.0,\n",
      "          154.0\n",
      "        ]\n",
      "      },\n",
      "      \"expectation_type\": \"expect_column_values_to_be_in_set\",\n",
      "      \"meta\": {}\n",
      "    },\n",
      "    {\n",
      "      \"kwargs\": {\n",
      "        \"column\": \"age\",\n",
      "        \"mostly\": 0.99\n",
      "      },\n",
      "      \"expectation_type\": \"expect_column_values_to_not_be_null\",\n",
      "      \"meta\": {}\n",
      "    },\n",
      "    {\n",
      "      \"kwargs\": {\n",
      "        \"column\": \"age\",\n",
      "        \"max_value\": 0.0023921977550144147,\n",
      "        \"min_value\": 0.0023921977550144147\n",
      "      },\n",
      "      \"expectation_type\": \"expect_column_proportion_of_unique_values_to_be_between\",\n",
      "      \"meta\": {}\n",
      "    },\n",
      "    {\n",
      "      \"kwargs\": {\n",
      "        \"column\": \"age\",\n",
      "        \"type_list\": [\n",
      "          \"FLOAT\",\n",
      "          \"FLOAT4\",\n",
      "          \"FLOAT8\",\n",
      "          \"FLOAT64\",\n",
      "          \"DOUBLE\",\n",
      "          \"DOUBLE_PRECISION\",\n",
      "          \"NUMERIC\",\n",
      "          \"FloatType\",\n",
      "          \"DoubleType\",\n",
      "          \"float\",\n",
      "          \"float_\",\n",
      "          \"float16\",\n",
      "          \"float32\",\n",
      "          \"float64\",\n",
      "          \"number\",\n",
      "          \"DECIMAL\",\n",
      "          \"REAL\"\n",
      "        ]\n",
      "      },\n",
      "      \"expectation_type\": \"expect_column_values_to_be_in_type_list\",\n",
      "      \"meta\": {}\n",
      "    },\n",
      "    {\n",
      "      \"kwargs\": {\n",
      "        \"column\": \"workclass\",\n",
      "        \"value_set\": [\n",
      "          \"Federal-gov\",\n",
      "          \"Local-gov\",\n",
      "          \"Never-worked\",\n",
      "          \"Private\",\n",
      "          \"Self-emp-inc\",\n",
      "          \"Self-emp-not-inc\",\n",
      "          \"State-gov\",\n",
      "          \"Without-pay\",\n",
      "          \"emp-by-pengfei\"\n",
      "        ]\n",
      "      },\n",
      "      \"expectation_type\": \"expect_column_values_to_be_in_set\",\n",
      "      \"meta\": {}\n",
      "    },\n",
      "    {\n",
      "      \"kwargs\": {\n",
      "        \"column\": \"workclass\",\n",
      "        \"mostly\": 0.94\n",
      "      },\n",
      "      \"expectation_type\": \"expect_column_values_to_not_be_null\",\n",
      "      \"meta\": {}\n",
      "    },\n",
      "    {\n",
      "      \"kwargs\": {\n",
      "        \"column\": \"workclass\",\n",
      "        \"max_value\": 0.0002924831822170225,\n",
      "        \"min_value\": 0.0002924831822170225\n",
      "      },\n",
      "      \"expectation_type\": \"expect_column_proportion_of_unique_values_to_be_between\",\n",
      "      \"meta\": {}\n",
      "    },\n",
      "    {\n",
      "      \"kwargs\": {\n",
      "        \"column\": \"workclass\",\n",
      "        \"type_list\": [\n",
      "          \"CHAR\",\n",
      "          \"NCHAR\",\n",
      "          \"VARCHAR\",\n",
      "          \"NVARCHAR\",\n",
      "          \"TEXT\",\n",
      "          \"NTEXT\",\n",
      "          \"STRING\",\n",
      "          \"StringType\",\n",
      "          \"string\",\n",
      "          \"str\",\n",
      "          \"object\",\n",
      "          \"dtype('O')\"\n",
      "        ]\n",
      "      },\n",
      "      \"expectation_type\": \"expect_column_values_to_be_in_type_list\",\n",
      "      \"meta\": {}\n",
      "    },\n",
      "    {\n",
      "      \"kwargs\": {\n",
      "        \"column\": \"fnlwgt\",\n",
      "        \"max_value\": 12285,\n",
      "        \"min_value\": 12285\n",
      "      },\n",
      "      \"expectation_type\": \"expect_column_min_to_be_between\",\n",
      "      \"meta\": {}\n",
      "    },\n",
      "    {\n",
      "      \"kwargs\": {\n",
      "        \"column\": \"fnlwgt\",\n",
      "        \"max_value\": 1484705,\n",
      "        \"min_value\": 1484705\n",
      "      },\n",
      "      \"expectation_type\": \"expect_column_max_to_be_between\",\n",
      "      \"meta\": {}\n",
      "    },\n",
      "    {\n",
      "      \"kwargs\": {\n",
      "        \"column\": \"fnlwgt\",\n",
      "        \"max_value\": 189755.5231698715,\n",
      "        \"min_value\": 189755.5231698715\n",
      "      },\n",
      "      \"expectation_type\": \"expect_column_mean_to_be_between\",\n",
      "      \"meta\": {}\n",
      "    },\n",
      "    {\n",
      "      \"kwargs\": {\n",
      "        \"column\": \"fnlwgt\",\n",
      "        \"max_value\": 178353.0,\n",
      "        \"min_value\": 178353.0\n",
      "      },\n",
      "      \"expectation_type\": \"expect_column_median_to_be_between\",\n",
      "      \"meta\": {}\n",
      "    },\n",
      "    {\n",
      "      \"kwargs\": {\n",
      "        \"allow_relative_error\": \"lower\",\n",
      "        \"column\": \"fnlwgt\",\n",
      "        \"quantile_ranges\": {\n",
      "          \"quantiles\": [\n",
      "            0.05,\n",
      "            0.25,\n",
      "            0.5,\n",
      "            0.75,\n",
      "            0.95\n",
      "          ],\n",
      "          \"value_ranges\": [\n",
      "            [\n",
      "              39477,\n",
      "              39477\n",
      "            ],\n",
      "            [\n",
      "              117814,\n",
      "              117814\n",
      "            ],\n",
      "            [\n",
      "              178353,\n",
      "              178353\n",
      "            ],\n",
      "            [\n",
      "              236993,\n",
      "              236993\n",
      "            ],\n",
      "            [\n",
      "              379485,\n",
      "              379485\n",
      "            ]\n",
      "          ]\n",
      "        }\n",
      "      },\n",
      "      \"expectation_type\": \"expect_column_quantile_values_to_be_between\",\n",
      "      \"meta\": {}\n",
      "    },\n",
      "    {\n",
      "      \"kwargs\": {\n",
      "        \"column\": \"fnlwgt\"\n",
      "      },\n",
      "      \"expectation_type\": \"expect_column_values_to_not_be_null\",\n",
      "      \"meta\": {}\n",
      "    },\n",
      "    {\n",
      "      \"kwargs\": {\n",
      "        \"column\": \"fnlwgt\",\n",
      "        \"max_value\": 0.6639065231392033,\n",
      "        \"min_value\": 0.6639065231392033\n",
      "      },\n",
      "      \"expectation_type\": \"expect_column_proportion_of_unique_values_to_be_between\",\n",
      "      \"meta\": {}\n",
      "    },\n",
      "    {\n",
      "      \"kwargs\": {\n",
      "        \"column\": \"fnlwgt\",\n",
      "        \"type_list\": [\n",
      "          \"INTEGER\",\n",
      "          \"integer\",\n",
      "          \"int\",\n",
      "          \"int_\",\n",
      "          \"int8\",\n",
      "          \"int16\",\n",
      "          \"int32\",\n",
      "          \"int64\",\n",
      "          \"uint8\",\n",
      "          \"uint16\",\n",
      "          \"uint32\",\n",
      "          \"uint64\",\n",
      "          \"INT\",\n",
      "          \"INTEGER\",\n",
      "          \"INT64\",\n",
      "          \"TINYINT\",\n",
      "          \"BYTEINT\",\n",
      "          \"SMALLINT\",\n",
      "          \"BIGINT\",\n",
      "          \"IntegerType\",\n",
      "          \"LongType\"\n",
      "        ]\n",
      "      },\n",
      "      \"expectation_type\": \"expect_column_values_to_be_in_type_list\",\n",
      "      \"meta\": {}\n",
      "    },\n",
      "    {\n",
      "      \"kwargs\": {\n",
      "        \"column\": \"education\",\n",
      "        \"value_set\": [\n",
      "          \"10th\",\n",
      "          \"11th\",\n",
      "          \"12th\",\n",
      "          \"1st-4th\",\n",
      "          \"5th-6th\",\n",
      "          \"7th-8th\",\n",
      "          \"9th\",\n",
      "          \"Assoc-acdm\",\n",
      "          \"Assoc-voc\",\n",
      "          \"Bachelors\",\n",
      "          \"Doctorate\",\n",
      "          \"HS-grad\",\n",
      "          \"Masters\",\n",
      "          \"Preschool\",\n",
      "          \"Prof-school\",\n",
      "          \"Some-college\"\n",
      "        ]\n",
      "      },\n",
      "      \"expectation_type\": \"expect_column_values_to_be_in_set\",\n",
      "      \"meta\": {}\n",
      "    },\n",
      "    {\n",
      "      \"kwargs\": {\n",
      "        \"column\": \"education\"\n",
      "      },\n",
      "      \"expectation_type\": \"expect_column_values_to_not_be_null\",\n",
      "      \"meta\": {}\n",
      "    },\n",
      "    {\n",
      "      \"kwargs\": {\n",
      "        \"column\": \"education\",\n",
      "        \"max_value\": 0.000490692182660165,\n",
      "        \"min_value\": 0.000490692182660165\n",
      "      },\n",
      "      \"expectation_type\": \"expect_column_proportion_of_unique_values_to_be_between\",\n",
      "      \"meta\": {}\n",
      "    },\n",
      "    {\n",
      "      \"kwargs\": {\n",
      "        \"column\": \"education\",\n",
      "        \"type_list\": [\n",
      "          \"CHAR\",\n",
      "          \"NCHAR\",\n",
      "          \"VARCHAR\",\n",
      "          \"NVARCHAR\",\n",
      "          \"TEXT\",\n",
      "          \"NTEXT\",\n",
      "          \"STRING\",\n",
      "          \"StringType\",\n",
      "          \"string\",\n",
      "          \"str\",\n",
      "          \"object\",\n",
      "          \"dtype('O')\"\n",
      "        ]\n",
      "      },\n",
      "      \"expectation_type\": \"expect_column_values_to_be_in_type_list\",\n",
      "      \"meta\": {}\n",
      "    },\n",
      "    {\n",
      "      \"kwargs\": {\n",
      "        \"column\": \"education-num\",\n",
      "        \"max_value\": 1,\n",
      "        \"min_value\": 1\n",
      "      },\n",
      "      \"expectation_type\": \"expect_column_min_to_be_between\",\n",
      "      \"meta\": {}\n",
      "    },\n",
      "    {\n",
      "      \"kwargs\": {\n",
      "        \"column\": \"education-num\",\n",
      "        \"max_value\": 16,\n",
      "        \"min_value\": 16\n",
      "      },\n",
      "      \"expectation_type\": \"expect_column_max_to_be_between\",\n",
      "      \"meta\": {}\n",
      "    },\n",
      "    {\n",
      "      \"kwargs\": {\n",
      "        \"column\": \"education-num\",\n",
      "        \"max_value\": 10.08258962799399,\n",
      "        \"min_value\": 10.08258962799399\n",
      "      },\n",
      "      \"expectation_type\": \"expect_column_mean_to_be_between\",\n",
      "      \"meta\": {}\n",
      "    },\n",
      "    {\n",
      "      \"kwargs\": {\n",
      "        \"column\": \"education-num\",\n",
      "        \"max_value\": 10.0,\n",
      "        \"min_value\": 10.0\n",
      "      },\n",
      "      \"expectation_type\": \"expect_column_median_to_be_between\",\n",
      "      \"meta\": {}\n",
      "    },\n",
      "    {\n",
      "      \"kwargs\": {\n",
      "        \"allow_relative_error\": \"lower\",\n",
      "        \"column\": \"education-num\",\n",
      "        \"quantile_ranges\": {\n",
      "          \"quantiles\": [\n",
      "            0.05,\n",
      "            0.25,\n",
      "            0.5,\n",
      "            0.75,\n",
      "            0.95\n",
      "          ],\n",
      "          \"value_ranges\": [\n",
      "            [\n",
      "              5,\n",
      "              5\n",
      "            ],\n",
      "            [\n",
      "              9,\n",
      "              9\n",
      "            ],\n",
      "            [\n",
      "              10,\n",
      "              10\n",
      "            ],\n",
      "            [\n",
      "              12,\n",
      "              12\n",
      "            ],\n",
      "            [\n",
      "              14,\n",
      "              14\n",
      "            ]\n",
      "          ]\n",
      "        }\n",
      "      },\n",
      "      \"expectation_type\": \"expect_column_quantile_values_to_be_between\",\n",
      "      \"meta\": {}\n",
      "    },\n",
      "    {\n",
      "      \"kwargs\": {\n",
      "        \"column\": \"education-num\",\n",
      "        \"value_set\": [\n",
      "          1,\n",
      "          2,\n",
      "          3,\n",
      "          4,\n",
      "          5,\n",
      "          6,\n",
      "          7,\n",
      "          8,\n",
      "          9,\n",
      "          10,\n",
      "          11,\n",
      "          12,\n",
      "          13,\n",
      "          14,\n",
      "          15,\n",
      "          16\n",
      "        ]\n",
      "      },\n",
      "      \"expectation_type\": \"expect_column_values_to_be_in_set\",\n",
      "      \"meta\": {}\n",
      "    },\n",
      "    {\n",
      "      \"kwargs\": {\n",
      "        \"column\": \"education-num\"\n",
      "      },\n",
      "      \"expectation_type\": \"expect_column_values_to_not_be_null\",\n",
      "      \"meta\": {}\n",
      "    },\n",
      "    {\n",
      "      \"kwargs\": {\n",
      "        \"column\": \"education-num\",\n",
      "        \"max_value\": 0.000490692182660165,\n",
      "        \"min_value\": 0.000490692182660165\n",
      "      },\n",
      "      \"expectation_type\": \"expect_column_proportion_of_unique_values_to_be_between\",\n",
      "      \"meta\": {}\n",
      "    },\n",
      "    {\n",
      "      \"kwargs\": {\n",
      "        \"column\": \"education-num\",\n",
      "        \"type_list\": [\n",
      "          \"INTEGER\",\n",
      "          \"integer\",\n",
      "          \"int\",\n",
      "          \"int_\",\n",
      "          \"int8\",\n",
      "          \"int16\",\n",
      "          \"int32\",\n",
      "          \"int64\",\n",
      "          \"uint8\",\n",
      "          \"uint16\",\n",
      "          \"uint32\",\n",
      "          \"uint64\",\n",
      "          \"INT\",\n",
      "          \"INTEGER\",\n",
      "          \"INT64\",\n",
      "          \"TINYINT\",\n",
      "          \"BYTEINT\",\n",
      "          \"SMALLINT\",\n",
      "          \"BIGINT\",\n",
      "          \"IntegerType\",\n",
      "          \"LongType\"\n",
      "        ]\n",
      "      },\n",
      "      \"expectation_type\": \"expect_column_values_to_be_in_type_list\",\n",
      "      \"meta\": {}\n",
      "    },\n",
      "    {\n",
      "      \"kwargs\": {\n",
      "        \"column\": \"marital-status\",\n",
      "        \"value_set\": [\n",
      "          \"Divorced\",\n",
      "          \"Married-AF-spouse\",\n",
      "          \"Married-civ-spouse\",\n",
      "          \"Married-spouse-absent\",\n",
      "          \"Never-married\",\n",
      "          \"Separated\",\n",
      "          \"Widowed\"\n",
      "        ]\n",
      "      },\n",
      "      \"expectation_type\": \"expect_column_values_to_be_in_set\",\n",
      "      \"meta\": {}\n",
      "    },\n",
      "    {\n",
      "      \"kwargs\": {\n",
      "        \"column\": \"marital-status\"\n",
      "      },\n",
      "      \"expectation_type\": \"expect_column_values_to_not_be_null\",\n",
      "      \"meta\": {}\n",
      "    },\n",
      "    {\n",
      "      \"kwargs\": {\n",
      "        \"column\": \"marital-status\",\n",
      "        \"max_value\": 0.00021467782991382219,\n",
      "        \"min_value\": 0.00021467782991382219\n",
      "      },\n",
      "      \"expectation_type\": \"expect_column_proportion_of_unique_values_to_be_between\",\n",
      "      \"meta\": {}\n",
      "    },\n",
      "    {\n",
      "      \"kwargs\": {\n",
      "        \"column\": \"marital-status\",\n",
      "        \"type_list\": [\n",
      "          \"CHAR\",\n",
      "          \"NCHAR\",\n",
      "          \"VARCHAR\",\n",
      "          \"NVARCHAR\",\n",
      "          \"TEXT\",\n",
      "          \"NTEXT\",\n",
      "          \"STRING\",\n",
      "          \"StringType\",\n",
      "          \"string\",\n",
      "          \"str\",\n",
      "          \"object\",\n",
      "          \"dtype('O')\"\n",
      "        ]\n",
      "      },\n",
      "      \"expectation_type\": \"expect_column_values_to_be_in_type_list\",\n",
      "      \"meta\": {}\n",
      "    },\n",
      "    {\n",
      "      \"kwargs\": {\n",
      "        \"column\": \"occupation\",\n",
      "        \"value_set\": [\n",
      "          \"Adm-clerical\",\n",
      "          \"Armed-Forces\",\n",
      "          \"Craft-repair\",\n",
      "          \"Exec-managerial\",\n",
      "          \"Farming-fishing\",\n",
      "          \"Handlers-cleaners\",\n",
      "          \"Machine-op-inspct\",\n",
      "          \"Other-service\",\n",
      "          \"Priv-house-serv\",\n",
      "          \"Prof-specialty\",\n",
      "          \"Protective-serv\",\n",
      "          \"Sales\",\n",
      "          \"Tech-support\",\n",
      "          \"Transport-moving\"\n",
      "        ]\n",
      "      },\n",
      "      \"expectation_type\": \"expect_column_values_to_be_in_set\",\n",
      "      \"meta\": {}\n",
      "    },\n",
      "    {\n",
      "      \"kwargs\": {\n",
      "        \"column\": \"occupation\",\n",
      "        \"mostly\": 0.94\n",
      "      },\n",
      "      \"expectation_type\": \"expect_column_values_to_not_be_null\",\n",
      "      \"meta\": {}\n",
      "    },\n",
      "    {\n",
      "      \"kwargs\": {\n",
      "        \"column\": \"occupation\",\n",
      "        \"max_value\": 0.0004550773631517358,\n",
      "        \"min_value\": 0.0004550773631517358\n",
      "      },\n",
      "      \"expectation_type\": \"expect_column_proportion_of_unique_values_to_be_between\",\n",
      "      \"meta\": {}\n",
      "    },\n",
      "    {\n",
      "      \"kwargs\": {\n",
      "        \"column\": \"occupation\",\n",
      "        \"type_list\": [\n",
      "          \"CHAR\",\n",
      "          \"NCHAR\",\n",
      "          \"VARCHAR\",\n",
      "          \"NVARCHAR\",\n",
      "          \"TEXT\",\n",
      "          \"NTEXT\",\n",
      "          \"STRING\",\n",
      "          \"StringType\",\n",
      "          \"string\",\n",
      "          \"str\",\n",
      "          \"object\",\n",
      "          \"dtype('O')\"\n",
      "        ]\n",
      "      },\n",
      "      \"expectation_type\": \"expect_column_values_to_be_in_type_list\",\n",
      "      \"meta\": {}\n",
      "    },\n",
      "    {\n",
      "      \"kwargs\": {\n",
      "        \"column\": \"relationship\",\n",
      "        \"value_set\": [\n",
      "          \"Husband\",\n",
      "          \"Not-in-family\",\n",
      "          \"Other-relative\",\n",
      "          \"Own-child\",\n",
      "          \"Unmarried\",\n",
      "          \"Wife\"\n",
      "        ]\n",
      "      },\n",
      "      \"expectation_type\": \"expect_column_values_to_be_in_set\",\n",
      "      \"meta\": {}\n",
      "    },\n",
      "    {\n",
      "      \"kwargs\": {\n",
      "        \"column\": \"relationship\"\n",
      "      },\n",
      "      \"expectation_type\": \"expect_column_values_to_not_be_null\",\n",
      "      \"meta\": {}\n",
      "    },\n",
      "    {\n",
      "      \"kwargs\": {\n",
      "        \"column\": \"relationship\",\n",
      "        \"max_value\": 0.00018400956849756188,\n",
      "        \"min_value\": 0.00018400956849756188\n",
      "      },\n",
      "      \"expectation_type\": \"expect_column_proportion_of_unique_values_to_be_between\",\n",
      "      \"meta\": {}\n",
      "    },\n",
      "    {\n",
      "      \"kwargs\": {\n",
      "        \"column\": \"relationship\",\n",
      "        \"type_list\": [\n",
      "          \"CHAR\",\n",
      "          \"NCHAR\",\n",
      "          \"VARCHAR\",\n",
      "          \"NVARCHAR\",\n",
      "          \"TEXT\",\n",
      "          \"NTEXT\",\n",
      "          \"STRING\",\n",
      "          \"StringType\",\n",
      "          \"string\",\n",
      "          \"str\",\n",
      "          \"object\",\n",
      "          \"dtype('O')\"\n",
      "        ]\n",
      "      },\n",
      "      \"expectation_type\": \"expect_column_values_to_be_in_type_list\",\n",
      "      \"meta\": {}\n",
      "    },\n",
      "    {\n",
      "      \"kwargs\": {\n",
      "        \"column\": \"race\",\n",
      "        \"value_set\": [\n",
      "          \"Amer-Indian-Eskimo\",\n",
      "          \"Asian-Pac-Islander\",\n",
      "          \"Black\",\n",
      "          \"Other\",\n",
      "          \"White\"\n",
      "        ]\n",
      "      },\n",
      "      \"expectation_type\": \"expect_column_values_to_be_in_set\",\n",
      "      \"meta\": {}\n",
      "    },\n",
      "    {\n",
      "      \"kwargs\": {\n",
      "        \"column\": \"race\"\n",
      "      },\n",
      "      \"expectation_type\": \"expect_column_values_to_not_be_null\",\n",
      "      \"meta\": {}\n",
      "    },\n",
      "    {\n",
      "      \"kwargs\": {\n",
      "        \"column\": \"race\",\n",
      "        \"max_value\": 0.00015334130708130156,\n",
      "        \"min_value\": 0.00015334130708130156\n",
      "      },\n",
      "      \"expectation_type\": \"expect_column_proportion_of_unique_values_to_be_between\",\n",
      "      \"meta\": {}\n",
      "    },\n",
      "    {\n",
      "      \"kwargs\": {\n",
      "        \"column\": \"race\",\n",
      "        \"type_list\": [\n",
      "          \"CHAR\",\n",
      "          \"NCHAR\",\n",
      "          \"VARCHAR\",\n",
      "          \"NVARCHAR\",\n",
      "          \"TEXT\",\n",
      "          \"NTEXT\",\n",
      "          \"STRING\",\n",
      "          \"StringType\",\n",
      "          \"string\",\n",
      "          \"str\",\n",
      "          \"object\",\n",
      "          \"dtype('O')\"\n",
      "        ]\n",
      "      },\n",
      "      \"expectation_type\": \"expect_column_values_to_be_in_type_list\",\n",
      "      \"meta\": {}\n",
      "    },\n",
      "    {\n",
      "      \"kwargs\": {\n",
      "        \"column\": \"sex\",\n",
      "        \"value_set\": [\n",
      "          \"Female\",\n",
      "          \"Male\"\n",
      "        ]\n",
      "      },\n",
      "      \"expectation_type\": \"expect_column_values_to_be_in_set\",\n",
      "      \"meta\": {}\n",
      "    },\n",
      "    {\n",
      "      \"kwargs\": {\n",
      "        \"column\": \"sex\"\n",
      "      },\n",
      "      \"expectation_type\": \"expect_column_values_to_not_be_null\",\n",
      "      \"meta\": {}\n",
      "    },\n",
      "    {\n",
      "      \"kwargs\": {\n",
      "        \"column\": \"sex\",\n",
      "        \"max_value\": 6.133652283252063e-05,\n",
      "        \"min_value\": 6.133652283252063e-05\n",
      "      },\n",
      "      \"expectation_type\": \"expect_column_proportion_of_unique_values_to_be_between\",\n",
      "      \"meta\": {}\n",
      "    },\n",
      "    {\n",
      "      \"kwargs\": {\n",
      "        \"column\": \"sex\",\n",
      "        \"type_list\": [\n",
      "          \"CHAR\",\n",
      "          \"NCHAR\",\n",
      "          \"VARCHAR\",\n",
      "          \"NVARCHAR\",\n",
      "          \"TEXT\",\n",
      "          \"NTEXT\",\n",
      "          \"STRING\",\n",
      "          \"StringType\",\n",
      "          \"string\",\n",
      "          \"str\",\n",
      "          \"object\",\n",
      "          \"dtype('O')\"\n",
      "        ]\n",
      "      },\n",
      "      \"expectation_type\": \"expect_column_values_to_be_in_type_list\",\n",
      "      \"meta\": {}\n",
      "    },\n",
      "    {\n",
      "      \"kwargs\": {\n",
      "        \"column\": \"capital-gain\",\n",
      "        \"max_value\": 0,\n",
      "        \"min_value\": 0\n",
      "      },\n",
      "      \"expectation_type\": \"expect_column_min_to_be_between\",\n",
      "      \"meta\": {}\n",
      "    },\n",
      "    {\n",
      "      \"kwargs\": {\n",
      "        \"column\": \"capital-gain\",\n",
      "        \"max_value\": 99999,\n",
      "        \"min_value\": 99999\n",
      "      },\n",
      "      \"expectation_type\": \"expect_column_max_to_be_between\",\n",
      "      \"meta\": {}\n",
      "    },\n",
      "    {\n",
      "      \"kwargs\": {\n",
      "        \"column\": \"capital-gain\",\n",
      "        \"max_value\": 1078.3674671082897,\n",
      "        \"min_value\": 1078.3674671082897\n",
      "      },\n",
      "      \"expectation_type\": \"expect_column_mean_to_be_between\",\n",
      "      \"meta\": {}\n",
      "    },\n",
      "    {\n",
      "      \"kwargs\": {\n",
      "        \"column\": \"capital-gain\",\n",
      "        \"max_value\": 0.0,\n",
      "        \"min_value\": 0.0\n",
      "      },\n",
      "      \"expectation_type\": \"expect_column_median_to_be_between\",\n",
      "      \"meta\": {}\n",
      "    },\n",
      "    {\n",
      "      \"kwargs\": {\n",
      "        \"allow_relative_error\": \"lower\",\n",
      "        \"column\": \"capital-gain\",\n",
      "        \"quantile_ranges\": {\n",
      "          \"quantiles\": [\n",
      "            0.05,\n",
      "            0.25,\n",
      "            0.5,\n",
      "            0.75,\n",
      "            0.95\n",
      "          ],\n",
      "          \"value_ranges\": [\n",
      "            [\n",
      "              0,\n",
      "              0\n",
      "            ],\n",
      "            [\n",
      "              0,\n",
      "              0\n",
      "            ],\n",
      "            [\n",
      "              0,\n",
      "              0\n",
      "            ],\n",
      "            [\n",
      "              0,\n",
      "              0\n",
      "            ],\n",
      "            [\n",
      "              5013,\n",
      "              5013\n",
      "            ]\n",
      "          ]\n",
      "        }\n",
      "      },\n",
      "      \"expectation_type\": \"expect_column_quantile_values_to_be_between\",\n",
      "      \"meta\": {}\n",
      "    },\n",
      "    {\n",
      "      \"kwargs\": {\n",
      "        \"column\": \"capital-gain\",\n",
      "        \"value_set\": [\n",
      "          0,\n",
      "          114,\n",
      "          401,\n",
      "          594,\n",
      "          914,\n",
      "          991,\n",
      "          1055,\n",
      "          1086,\n",
      "          1111,\n",
      "          1151,\n",
      "          1173,\n",
      "          1409,\n",
      "          1424,\n",
      "          1455,\n",
      "          1471,\n",
      "          1506,\n",
      "          1639,\n",
      "          1797,\n",
      "          1831,\n",
      "          1848,\n",
      "          2009,\n",
      "          2036,\n",
      "          2050,\n",
      "          2062,\n",
      "          2105,\n",
      "          2174,\n",
      "          2176,\n",
      "          2202,\n",
      "          2228,\n",
      "          2290,\n",
      "          2329,\n",
      "          2346,\n",
      "          2354,\n",
      "          2387,\n",
      "          2407,\n",
      "          2414,\n",
      "          2463,\n",
      "          2538,\n",
      "          2580,\n",
      "          2597,\n",
      "          2635,\n",
      "          2653,\n",
      "          2829,\n",
      "          2885,\n",
      "          2907,\n",
      "          2936,\n",
      "          2961,\n",
      "          2964,\n",
      "          2977,\n",
      "          2993,\n",
      "          3103,\n",
      "          3137,\n",
      "          3273,\n",
      "          3325,\n",
      "          3411,\n",
      "          3418,\n",
      "          3432,\n",
      "          3456,\n",
      "          3464,\n",
      "          3471,\n",
      "          3674,\n",
      "          3781,\n",
      "          3818,\n",
      "          3887,\n",
      "          3908,\n",
      "          3942,\n",
      "          4064,\n",
      "          4101,\n",
      "          4386,\n",
      "          4416,\n",
      "          4508,\n",
      "          4650,\n",
      "          4687,\n",
      "          4787,\n",
      "          4865,\n",
      "          4931,\n",
      "          4934,\n",
      "          5013,\n",
      "          5060,\n",
      "          5178,\n",
      "          5455,\n",
      "          5556,\n",
      "          5721,\n",
      "          6097,\n",
      "          6360,\n",
      "          6418,\n",
      "          6497,\n",
      "          6514,\n",
      "          6723,\n",
      "          6767,\n",
      "          6849,\n",
      "          7298,\n",
      "          7430,\n",
      "          7443,\n",
      "          7688,\n",
      "          7896,\n",
      "          7978,\n",
      "          8614,\n",
      "          9386,\n",
      "          9562,\n",
      "          10520,\n",
      "          10566,\n",
      "          10605,\n",
      "          11678,\n",
      "          13550,\n",
      "          14084,\n",
      "          14344,\n",
      "          15020,\n",
      "          15024,\n",
      "          15831,\n",
      "          18481,\n",
      "          20051,\n",
      "          22040,\n",
      "          25124,\n",
      "          25236,\n",
      "          27828,\n",
      "          34095,\n",
      "          41310,\n",
      "          99999\n",
      "        ]\n",
      "      },\n",
      "      \"expectation_type\": \"expect_column_values_to_be_in_set\",\n",
      "      \"meta\": {}\n",
      "    },\n",
      "    {\n",
      "      \"kwargs\": {\n",
      "        \"column\": \"capital-gain\"\n",
      "      },\n",
      "      \"expectation_type\": \"expect_column_values_to_not_be_null\",\n",
      "      \"meta\": {}\n",
      "    },\n",
      "    {\n",
      "      \"kwargs\": {\n",
      "        \"column\": \"capital-gain\",\n",
      "        \"max_value\": 0.003649523108534977,\n",
      "        \"min_value\": 0.003649523108534977\n",
      "      },\n",
      "      \"expectation_type\": \"expect_column_proportion_of_unique_values_to_be_between\",\n",
      "      \"meta\": {}\n",
      "    },\n",
      "    {\n",
      "      \"kwargs\": {\n",
      "        \"column\": \"capital-gain\",\n",
      "        \"type_list\": [\n",
      "          \"INTEGER\",\n",
      "          \"integer\",\n",
      "          \"int\",\n",
      "          \"int_\",\n",
      "          \"int8\",\n",
      "          \"int16\",\n",
      "          \"int32\",\n",
      "          \"int64\",\n",
      "          \"uint8\",\n",
      "          \"uint16\",\n",
      "          \"uint32\",\n",
      "          \"uint64\",\n",
      "          \"INT\",\n",
      "          \"INTEGER\",\n",
      "          \"INT64\",\n",
      "          \"TINYINT\",\n",
      "          \"BYTEINT\",\n",
      "          \"SMALLINT\",\n",
      "          \"BIGINT\",\n",
      "          \"IntegerType\",\n",
      "          \"LongType\"\n",
      "        ]\n",
      "      },\n",
      "      \"expectation_type\": \"expect_column_values_to_be_in_type_list\",\n",
      "      \"meta\": {}\n",
      "    },\n",
      "    {\n",
      "      \"kwargs\": {\n",
      "        \"column\": \"capital-loss\",\n",
      "        \"max_value\": 0,\n",
      "        \"min_value\": 0\n",
      "      },\n",
      "      \"expectation_type\": \"expect_column_min_to_be_between\",\n",
      "      \"meta\": {}\n",
      "    },\n",
      "    {\n",
      "      \"kwargs\": {\n",
      "        \"column\": \"capital-loss\",\n",
      "        \"max_value\": 4356,\n",
      "        \"min_value\": 4356\n",
      "      },\n",
      "      \"expectation_type\": \"expect_column_max_to_be_between\",\n",
      "      \"meta\": {}\n",
      "    },\n",
      "    {\n",
      "      \"kwargs\": {\n",
      "        \"column\": \"capital-loss\",\n",
      "        \"max_value\": 87.18066672800319,\n",
      "        \"min_value\": 87.18066672800319\n",
      "      },\n",
      "      \"expectation_type\": \"expect_column_mean_to_be_between\",\n",
      "      \"meta\": {}\n",
      "    },\n",
      "    {\n",
      "      \"kwargs\": {\n",
      "        \"column\": \"capital-loss\",\n",
      "        \"max_value\": 0.0,\n",
      "        \"min_value\": 0.0\n",
      "      },\n",
      "      \"expectation_type\": \"expect_column_median_to_be_between\",\n",
      "      \"meta\": {}\n",
      "    },\n",
      "    {\n",
      "      \"kwargs\": {\n",
      "        \"allow_relative_error\": \"lower\",\n",
      "        \"column\": \"capital-loss\",\n",
      "        \"quantile_ranges\": {\n",
      "          \"quantiles\": [\n",
      "            0.05,\n",
      "            0.25,\n",
      "            0.5,\n",
      "            0.75,\n",
      "            0.95\n",
      "          ],\n",
      "          \"value_ranges\": [\n",
      "            [\n",
      "              0,\n",
      "              0\n",
      "            ],\n",
      "            [\n",
      "              0,\n",
      "              0\n",
      "            ],\n",
      "            [\n",
      "              0,\n",
      "              0\n",
      "            ],\n",
      "            [\n",
      "              0,\n",
      "              0\n",
      "            ],\n",
      "            [\n",
      "              0,\n",
      "              0\n",
      "            ]\n",
      "          ]\n",
      "        }\n",
      "      },\n",
      "      \"expectation_type\": \"expect_column_quantile_values_to_be_between\",\n",
      "      \"meta\": {}\n",
      "    },\n",
      "    {\n",
      "      \"kwargs\": {\n",
      "        \"column\": \"capital-loss\",\n",
      "        \"value_set\": [\n",
      "          0,\n",
      "          155,\n",
      "          213,\n",
      "          323,\n",
      "          419,\n",
      "          625,\n",
      "          653,\n",
      "          810,\n",
      "          880,\n",
      "          974,\n",
      "          1092,\n",
      "          1138,\n",
      "          1258,\n",
      "          1340,\n",
      "          1380,\n",
      "          1408,\n",
      "          1411,\n",
      "          1485,\n",
      "          1504,\n",
      "          1539,\n",
      "          1564,\n",
      "          1573,\n",
      "          1579,\n",
      "          1590,\n",
      "          1594,\n",
      "          1602,\n",
      "          1617,\n",
      "          1628,\n",
      "          1648,\n",
      "          1651,\n",
      "          1668,\n",
      "          1669,\n",
      "          1672,\n",
      "          1719,\n",
      "          1721,\n",
      "          1726,\n",
      "          1735,\n",
      "          1740,\n",
      "          1741,\n",
      "          1755,\n",
      "          1762,\n",
      "          1816,\n",
      "          1825,\n",
      "          1844,\n",
      "          1848,\n",
      "          1876,\n",
      "          1887,\n",
      "          1902,\n",
      "          1944,\n",
      "          1974,\n",
      "          1977,\n",
      "          1980,\n",
      "          2001,\n",
      "          2002,\n",
      "          2042,\n",
      "          2051,\n",
      "          2057,\n",
      "          2080,\n",
      "          2129,\n",
      "          2149,\n",
      "          2163,\n",
      "          2174,\n",
      "          2179,\n",
      "          2201,\n",
      "          2205,\n",
      "          2206,\n",
      "          2231,\n",
      "          2238,\n",
      "          2246,\n",
      "          2258,\n",
      "          2267,\n",
      "          2282,\n",
      "          2339,\n",
      "          2352,\n",
      "          2377,\n",
      "          2392,\n",
      "          2415,\n",
      "          2444,\n",
      "          2457,\n",
      "          2467,\n",
      "          2472,\n",
      "          2489,\n",
      "          2547,\n",
      "          2559,\n",
      "          2603,\n",
      "          2754,\n",
      "          2824,\n",
      "          3004,\n",
      "          3683,\n",
      "          3770,\n",
      "          3900,\n",
      "          4356\n",
      "        ]\n",
      "      },\n",
      "      \"expectation_type\": \"expect_column_values_to_be_in_set\",\n",
      "      \"meta\": {}\n",
      "    },\n",
      "    {\n",
      "      \"kwargs\": {\n",
      "        \"column\": \"capital-loss\"\n",
      "      },\n",
      "      \"expectation_type\": \"expect_column_values_to_not_be_null\",\n",
      "      \"meta\": {}\n",
      "    },\n",
      "    {\n",
      "      \"kwargs\": {\n",
      "        \"column\": \"capital-loss\",\n",
      "        \"max_value\": 0.0028214800502959487,\n",
      "        \"min_value\": 0.0028214800502959487\n",
      "      },\n",
      "      \"expectation_type\": \"expect_column_proportion_of_unique_values_to_be_between\",\n",
      "      \"meta\": {}\n",
      "    },\n",
      "    {\n",
      "      \"kwargs\": {\n",
      "        \"column\": \"capital-loss\",\n",
      "        \"type_list\": [\n",
      "          \"INTEGER\",\n",
      "          \"integer\",\n",
      "          \"int\",\n",
      "          \"int_\",\n",
      "          \"int8\",\n",
      "          \"int16\",\n",
      "          \"int32\",\n",
      "          \"int64\",\n",
      "          \"uint8\",\n",
      "          \"uint16\",\n",
      "          \"uint32\",\n",
      "          \"uint64\",\n",
      "          \"INT\",\n",
      "          \"INTEGER\",\n",
      "          \"INT64\",\n",
      "          \"TINYINT\",\n",
      "          \"BYTEINT\",\n",
      "          \"SMALLINT\",\n",
      "          \"BIGINT\",\n",
      "          \"IntegerType\",\n",
      "          \"LongType\"\n",
      "        ]\n",
      "      },\n",
      "      \"expectation_type\": \"expect_column_values_to_be_in_type_list\",\n",
      "      \"meta\": {}\n",
      "    },\n",
      "    {\n",
      "      \"kwargs\": {\n",
      "        \"column\": \"hours-per-week\",\n",
      "        \"max_value\": 1,\n",
      "        \"min_value\": 1\n",
      "      },\n",
      "      \"expectation_type\": \"expect_column_min_to_be_between\",\n",
      "      \"meta\": {}\n",
      "    },\n",
      "    {\n",
      "      \"kwargs\": {\n",
      "        \"column\": \"hours-per-week\",\n",
      "        \"max_value\": 99,\n",
      "        \"min_value\": 99\n",
      "      },\n",
      "      \"expectation_type\": \"expect_column_max_to_be_between\",\n",
      "      \"meta\": {}\n",
      "    },\n",
      "    {\n",
      "      \"kwargs\": {\n",
      "        \"column\": \"hours-per-week\",\n",
      "        \"max_value\": 40.437206734750205,\n",
      "        \"min_value\": 40.437206734750205\n",
      "      },\n",
      "      \"expectation_type\": \"expect_column_mean_to_be_between\",\n",
      "      \"meta\": {}\n",
      "    },\n",
      "    {\n",
      "      \"kwargs\": {\n",
      "        \"column\": \"hours-per-week\",\n",
      "        \"max_value\": 40.0,\n",
      "        \"min_value\": 40.0\n",
      "      },\n",
      "      \"expectation_type\": \"expect_column_median_to_be_between\",\n",
      "      \"meta\": {}\n",
      "    },\n",
      "    {\n",
      "      \"kwargs\": {\n",
      "        \"allow_relative_error\": \"lower\",\n",
      "        \"column\": \"hours-per-week\",\n",
      "        \"quantile_ranges\": {\n",
      "          \"quantiles\": [\n",
      "            0.05,\n",
      "            0.25,\n",
      "            0.5,\n",
      "            0.75,\n",
      "            0.95\n",
      "          ],\n",
      "          \"value_ranges\": [\n",
      "            [\n",
      "              18,\n",
      "              18\n",
      "            ],\n",
      "            [\n",
      "              40,\n",
      "              40\n",
      "            ],\n",
      "            [\n",
      "              40,\n",
      "              40\n",
      "            ],\n",
      "            [\n",
      "              45,\n",
      "              45\n",
      "            ],\n",
      "            [\n",
      "              60,\n",
      "              60\n",
      "            ]\n",
      "          ]\n",
      "        }\n",
      "      },\n",
      "      \"expectation_type\": \"expect_column_quantile_values_to_be_between\",\n",
      "      \"meta\": {}\n",
      "    },\n",
      "    {\n",
      "      \"kwargs\": {\n",
      "        \"column\": \"hours-per-week\",\n",
      "        \"value_set\": [\n",
      "          1,\n",
      "          2,\n",
      "          3,\n",
      "          4,\n",
      "          5,\n",
      "          6,\n",
      "          7,\n",
      "          8,\n",
      "          9,\n",
      "          10,\n",
      "          11,\n",
      "          12,\n",
      "          13,\n",
      "          14,\n",
      "          15,\n",
      "          16,\n",
      "          17,\n",
      "          18,\n",
      "          19,\n",
      "          20,\n",
      "          21,\n",
      "          22,\n",
      "          23,\n",
      "          24,\n",
      "          25,\n",
      "          26,\n",
      "          27,\n",
      "          28,\n",
      "          29,\n",
      "          30,\n",
      "          31,\n",
      "          32,\n",
      "          33,\n",
      "          34,\n",
      "          35,\n",
      "          36,\n",
      "          37,\n",
      "          38,\n",
      "          39,\n",
      "          40,\n",
      "          41,\n",
      "          42,\n",
      "          43,\n",
      "          44,\n",
      "          45,\n",
      "          46,\n",
      "          47,\n",
      "          48,\n",
      "          49,\n",
      "          50,\n",
      "          51,\n",
      "          52,\n",
      "          53,\n",
      "          54,\n",
      "          55,\n",
      "          56,\n",
      "          57,\n",
      "          58,\n",
      "          59,\n",
      "          60,\n",
      "          61,\n",
      "          62,\n",
      "          63,\n",
      "          64,\n",
      "          65,\n",
      "          66,\n",
      "          67,\n",
      "          68,\n",
      "          70,\n",
      "          72,\n",
      "          73,\n",
      "          74,\n",
      "          75,\n",
      "          76,\n",
      "          77,\n",
      "          78,\n",
      "          80,\n",
      "          81,\n",
      "          82,\n",
      "          84,\n",
      "          85,\n",
      "          86,\n",
      "          87,\n",
      "          88,\n",
      "          89,\n",
      "          90,\n",
      "          91,\n",
      "          92,\n",
      "          94,\n",
      "          95,\n",
      "          96,\n",
      "          97,\n",
      "          98,\n",
      "          99\n",
      "        ]\n",
      "      },\n",
      "      \"expectation_type\": \"expect_column_values_to_be_in_set\",\n",
      "      \"meta\": {}\n",
      "    },\n",
      "    {\n",
      "      \"kwargs\": {\n",
      "        \"column\": \"hours-per-week\"\n",
      "      },\n",
      "      \"expectation_type\": \"expect_column_values_to_not_be_null\",\n",
      "      \"meta\": {}\n",
      "    },\n",
      "    {\n",
      "      \"kwargs\": {\n",
      "        \"column\": \"hours-per-week\",\n",
      "        \"max_value\": 0.0028828165731284694,\n",
      "        \"min_value\": 0.0028828165731284694\n",
      "      },\n",
      "      \"expectation_type\": \"expect_column_proportion_of_unique_values_to_be_between\",\n",
      "      \"meta\": {}\n",
      "    },\n",
      "    {\n",
      "      \"kwargs\": {\n",
      "        \"column\": \"hours-per-week\",\n",
      "        \"type_list\": [\n",
      "          \"INTEGER\",\n",
      "          \"integer\",\n",
      "          \"int\",\n",
      "          \"int_\",\n",
      "          \"int8\",\n",
      "          \"int16\",\n",
      "          \"int32\",\n",
      "          \"int64\",\n",
      "          \"uint8\",\n",
      "          \"uint16\",\n",
      "          \"uint32\",\n",
      "          \"uint64\",\n",
      "          \"INT\",\n",
      "          \"INTEGER\",\n",
      "          \"INT64\",\n",
      "          \"TINYINT\",\n",
      "          \"BYTEINT\",\n",
      "          \"SMALLINT\",\n",
      "          \"BIGINT\",\n",
      "          \"IntegerType\",\n",
      "          \"LongType\"\n",
      "        ]\n",
      "      },\n",
      "      \"expectation_type\": \"expect_column_values_to_be_in_type_list\",\n",
      "      \"meta\": {}\n",
      "    },\n",
      "    {\n",
      "      \"kwargs\": {\n",
      "        \"column\": \"native-country\",\n",
      "        \"value_set\": [\n",
      "          \"Cambodia\",\n",
      "          \"Canada\",\n",
      "          \"China\",\n",
      "          \"Columbia\",\n",
      "          \"Cuba\",\n",
      "          \"Dominican-Republic\",\n",
      "          \"Ecuador\",\n",
      "          \"El-Salvador\",\n",
      "          \"England\",\n",
      "          \"France\",\n",
      "          \"Germany\",\n",
      "          \"Greece\",\n",
      "          \"Guatemala\",\n",
      "          \"Haiti\",\n",
      "          \"Holand-Netherlands\",\n",
      "          \"Honduras\",\n",
      "          \"Hong\",\n",
      "          \"Hungary\",\n",
      "          \"India\",\n",
      "          \"Iran\",\n",
      "          \"Ireland\",\n",
      "          \"Italy\",\n",
      "          \"Jamaica\",\n",
      "          \"Japan\",\n",
      "          \"Laos\",\n",
      "          \"Mexico\",\n",
      "          \"Nicaragua\",\n",
      "          \"Outlying-US(Guam-USVI-etc)\",\n",
      "          \"Peru\",\n",
      "          \"Philippines\",\n",
      "          \"Poland\",\n",
      "          \"Portugal\",\n",
      "          \"Puerto-Rico\",\n",
      "          \"Scotland\",\n",
      "          \"South\",\n",
      "          \"Taiwan\",\n",
      "          \"Thailand\",\n",
      "          \"Trinadad&Tobago\",\n",
      "          \"United-States\",\n",
      "          \"Vietnam\",\n",
      "          \"Yugoslavia\"\n",
      "        ]\n",
      "      },\n",
      "      \"expectation_type\": \"expect_column_values_to_be_in_set\",\n",
      "      \"meta\": {}\n",
      "    },\n",
      "    {\n",
      "      \"kwargs\": {\n",
      "        \"column\": \"native-country\",\n",
      "        \"mostly\": 0.98\n",
      "      },\n",
      "      \"expectation_type\": \"expect_column_values_to_not_be_null\",\n",
      "      \"meta\": {}\n",
      "    },\n",
      "    {\n",
      "      \"kwargs\": {\n",
      "        \"column\": \"native-country\",\n",
      "        \"max_value\": 0.0012802897826630028,\n",
      "        \"min_value\": 0.0012802897826630028\n",
      "      },\n",
      "      \"expectation_type\": \"expect_column_proportion_of_unique_values_to_be_between\",\n",
      "      \"meta\": {}\n",
      "    },\n",
      "    {\n",
      "      \"kwargs\": {\n",
      "        \"column\": \"native-country\",\n",
      "        \"type_list\": [\n",
      "          \"CHAR\",\n",
      "          \"NCHAR\",\n",
      "          \"VARCHAR\",\n",
      "          \"NVARCHAR\",\n",
      "          \"TEXT\",\n",
      "          \"NTEXT\",\n",
      "          \"STRING\",\n",
      "          \"StringType\",\n",
      "          \"string\",\n",
      "          \"str\",\n",
      "          \"object\",\n",
      "          \"dtype('O')\"\n",
      "        ]\n",
      "      },\n",
      "      \"expectation_type\": \"expect_column_values_to_be_in_type_list\",\n",
      "      \"meta\": {}\n",
      "    },\n",
      "    {\n",
      "      \"kwargs\": {\n",
      "        \"column\": \"income\",\n",
      "        \"value_set\": [\n",
      "          \"<=50K\",\n",
      "          \">50K\"\n",
      "        ]\n",
      "      },\n",
      "      \"expectation_type\": \"expect_column_values_to_be_in_set\",\n",
      "      \"meta\": {}\n",
      "    },\n",
      "    {\n",
      "      \"kwargs\": {\n",
      "        \"column\": \"income\"\n",
      "      },\n",
      "      \"expectation_type\": \"expect_column_values_to_not_be_null\",\n",
      "      \"meta\": {}\n",
      "    },\n",
      "    {\n",
      "      \"kwargs\": {\n",
      "        \"column\": \"income\",\n",
      "        \"max_value\": 6.133652283252063e-05,\n",
      "        \"min_value\": 6.133652283252063e-05\n",
      "      },\n",
      "      \"expectation_type\": \"expect_column_proportion_of_unique_values_to_be_between\",\n",
      "      \"meta\": {}\n",
      "    },\n",
      "    {\n",
      "      \"kwargs\": {\n",
      "        \"column\": \"income\",\n",
      "        \"type_list\": [\n",
      "          \"CHAR\",\n",
      "          \"NCHAR\",\n",
      "          \"VARCHAR\",\n",
      "          \"NVARCHAR\",\n",
      "          \"TEXT\",\n",
      "          \"NTEXT\",\n",
      "          \"STRING\",\n",
      "          \"StringType\",\n",
      "          \"string\",\n",
      "          \"str\",\n",
      "          \"object\",\n",
      "          \"dtype('O')\"\n",
      "        ]\n",
      "      },\n",
      "      \"expectation_type\": \"expect_column_values_to_be_in_type_list\",\n",
      "      \"meta\": {}\n",
      "    }\n",
      "  ],\n",
      "  \"data_asset_type\": null\n",
      "}\n",
      "2022-02-24T15:32:25+0100 - INFO - \t91 expectation(s) included in expectation_suite.\n",
      "{\n",
      "  \"name\": \"profiler_generated_cp\",\n",
      "  \"config_version\": 1.0,\n",
      "  \"template_name\": null,\n",
      "  \"module_name\": \"great_expectations.checkpoint\",\n",
      "  \"class_name\": \"SimpleCheckpoint\",\n",
      "  \"run_name_template\": null,\n",
      "  \"expectation_suite_name\": null,\n",
      "  \"batch_request\": null,\n",
      "  \"action_list\": [\n",
      "    {\n",
      "      \"name\": \"store_validation_result\",\n",
      "      \"action\": {\n",
      "        \"class_name\": \"StoreValidationResultAction\"\n",
      "      }\n",
      "    },\n",
      "    {\n",
      "      \"name\": \"store_evaluation_params\",\n",
      "      \"action\": {\n",
      "        \"class_name\": \"StoreEvaluationParametersAction\"\n",
      "      }\n",
      "    },\n",
      "    {\n",
      "      \"name\": \"update_data_docs\",\n",
      "      \"action\": {\n",
      "        \"class_name\": \"UpdateDataDocsAction\",\n",
      "        \"site_names\": []\n",
      "      }\n",
      "    }\n",
      "  ],\n",
      "  \"evaluation_parameters\": {},\n",
      "  \"runtime_configuration\": {},\n",
      "  \"validations\": [\n",
      "    {\n",
      "      \"batch_request\": {\n",
      "        \"datasource_name\": \"census_income_validation\",\n",
      "        \"data_connector_name\": \"default_inferred_data_connector_name\",\n",
      "        \"data_asset_name\": \"adult_with_duplicates.csv\",\n",
      "        \"limit\": 1000\n",
      "      },\n",
      "      \"expectation_suite_name\": \"adult_with_duplicates.csv.warning\"\n",
      "    }\n",
      "  ],\n",
      "  \"profilers\": [],\n",
      "  \"ge_cloud_id\": null,\n",
      "  \"expectation_suite_ge_cloud_id\": null\n",
      "}\n"
     ]
    }
   ],
   "source": [
    "print(validator.get_expectation_suite(discard_failed_expectations=False))\n",
    "\n",
    "# save the validation rule set to project context\n",
    "validator.save_expectation_suite(discard_failed_expectations=False)\n",
    "\n",
    "\n",
    "# create a check point\n",
    "checkpoint_name=\"profiler_generated_cp\"\n",
    "\n",
    "checkpoint_config = {\n",
    "    \"class_name\": \"SimpleCheckpoint\",\n",
    "    \"validations\": [\n",
    "        {\n",
    "            \"batch_request\": batch_request,\n",
    "            \"expectation_suite_name\": expectation_suite_name,\n",
    "        }\n",
    "    ],\n",
    "}\n",
    "checkpoint = SimpleCheckpoint(f\"{checkpoint_name}\", context, **checkpoint_config)\n",
    "\n"
   ],
   "metadata": {
    "collapsed": false,
    "pycharm": {
     "name": "#%%\n"
    }
   }
  },
  {
   "cell_type": "code",
   "execution_count": 4,
   "outputs": [
    {
     "name": "stdout",
     "output_type": "stream",
     "text": [
      "{\n",
      "  \"name\": \"profiler_generated_cp\",\n",
      "  \"config_version\": 1.0,\n",
      "  \"template_name\": null,\n",
      "  \"module_name\": \"great_expectations.checkpoint\",\n",
      "  \"class_name\": \"Checkpoint\",\n",
      "  \"run_name_template\": null,\n",
      "  \"expectation_suite_name\": null,\n",
      "  \"batch_request\": null,\n",
      "  \"action_list\": [\n",
      "    {\n",
      "      \"name\": \"store_validation_result\",\n",
      "      \"action\": {\n",
      "        \"class_name\": \"StoreValidationResultAction\"\n",
      "      }\n",
      "    },\n",
      "    {\n",
      "      \"name\": \"store_evaluation_params\",\n",
      "      \"action\": {\n",
      "        \"class_name\": \"StoreEvaluationParametersAction\"\n",
      "      }\n",
      "    },\n",
      "    {\n",
      "      \"name\": \"update_data_docs\",\n",
      "      \"action\": {\n",
      "        \"class_name\": \"UpdateDataDocsAction\",\n",
      "        \"site_names\": []\n",
      "      }\n",
      "    }\n",
      "  ],\n",
      "  \"evaluation_parameters\": {},\n",
      "  \"runtime_configuration\": {},\n",
      "  \"validations\": [],\n",
      "  \"profilers\": [],\n",
      "  \"ge_cloud_id\": null,\n",
      "  \"expectation_suite_ge_cloud_id\": null\n",
      "}\n",
      "2022-02-24T15:32:30+0100 - INFO - \t91 expectation(s) included in expectation_suite.\n"
     ]
    },
    {
     "data": {
      "text/plain": "Calculating Metrics:   0%|          | 0/177 [00:00<?, ?it/s]",
      "application/vnd.jupyter.widget-view+json": {
       "version_major": 2,
       "version_minor": 0,
       "model_id": "9181e3946dac48aba97fde1c6eb41bea"
      }
     },
     "metadata": {},
     "output_type": "display_data"
    },
    {
     "name": "stderr",
     "output_type": "stream",
     "text": [
      "/home/pliu/.cache/pypoetry/virtualenvs/dataqualityandvalidation-6LYnP9NJ-py3.8/lib/python3.8/site-packages/jinja2/environment.py:1088: DeprecationWarning: 'soft_unicode' has been renamed to 'soft_str'. The old name will be removed in MarkupSafe 2.1.\n",
      "  return concat(self.root_render_func(self.new_context(vars)))\n"
     ]
    }
   ],
   "source": [
    "# run check point\n",
    "checkpoint_result = checkpoint.run()\n",
    "\n",
    "# generate report\n",
    "context.build_data_docs()\n",
    "\n",
    "# open report\n",
    "validation_result_identifier = checkpoint_result.list_validation_result_identifiers()[0]\n",
    "context.open_data_docs(resource_identifier=validation_result_identifier)"
   ],
   "metadata": {
    "collapsed": false,
    "pycharm": {
     "name": "#%%\n"
    }
   }
  },
  {
   "cell_type": "code",
   "execution_count": null,
   "outputs": [],
   "source": [],
   "metadata": {
    "collapsed": false,
    "pycharm": {
     "name": "#%%\n"
    }
   }
  }
 ],
 "metadata": {
  "kernelspec": {
   "display_name": "Python 3",
   "language": "python",
   "name": "python3"
  },
  "language_info": {
   "codemirror_mode": {
    "name": "ipython",
    "version": 2
   },
   "file_extension": ".py",
   "mimetype": "text/x-python",
   "name": "python",
   "nbconvert_exporter": "python",
   "pygments_lexer": "ipython2",
   "version": "2.7.6"
  }
 },
 "nbformat": 4,
 "nbformat_minor": 0
}