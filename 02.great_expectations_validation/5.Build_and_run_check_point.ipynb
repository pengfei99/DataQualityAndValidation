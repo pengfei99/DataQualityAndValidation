{
 "cells": [
  {
   "cell_type": "code",
   "execution_count": 3,
   "metadata": {
    "collapsed": true
   },
   "outputs": [],
   "source": [
    "import great_expectations as ge\n",
    "from ruamel.yaml import YAML\n",
    "\n",
    "context = ge.get_context()\n",
    "yaml=YAML()"
   ]
  },
  {
   "cell_type": "markdown",
   "source": [
    "# Create checkpoint\n",
    "\n",
    "We can create checkpoint with below syntax\n",
    "\n",
    "The check point config is a yaml file. Below we just edit the yaml string then save it in the project checkpoint folder.\n",
    "\n",
    "Three points you need to pay attention:\n",
    "- the checkpoint name must be unique\n",
    "- in **validations**, we specify the data source\n",
    "- in **expectation_suite_name**, we specify the name of existing expectation_suite"
   ],
   "metadata": {
    "collapsed": false,
    "pycharm": {
     "name": "#%% md\n"
    }
   }
  },
  {
   "cell_type": "code",
   "execution_count": 4,
   "outputs": [
    {
     "name": "stdout",
     "output_type": "stream",
     "text": [
      "\n",
      "name: pengfei_hard_checkpoint\n",
      "config_version: 1.0\n",
      "class_name: SimpleCheckpoint\n",
      "run_name_template: \"%Y%m%d-%H%M%S-my-run-name-template\"\n",
      "validations:\n",
      "  - batch_request:\n",
      "      datasource_name: pengfei_test\n",
      "      data_connector_name: default_inferred_data_connector_name\n",
      "      data_asset_name: adult_with_duplicates.csv\n",
      "      data_connector_query:\n",
      "        index: -1\n",
      "    expectation_suite_name: census_income_expectation_suite.test1\n",
      "\n",
      "Attempting to instantiate class from config...\n",
      "\tInstantiating as a SimpleCheckpoint, since class_name is SimpleCheckpoint\n",
      "{\n",
      "  \"name\": \"pengfei_hard_checkpoint\",\n",
      "  \"config_version\": 1.0,\n",
      "  \"template_name\": null,\n",
      "  \"module_name\": \"great_expectations.checkpoint\",\n",
      "  \"class_name\": \"SimpleCheckpoint\",\n",
      "  \"run_name_template\": \"%Y%m%d-%H%M%S-my-run-name-template\",\n",
      "  \"expectation_suite_name\": null,\n",
      "  \"batch_request\": null,\n",
      "  \"action_list\": [\n",
      "    {\n",
      "      \"name\": \"store_validation_result\",\n",
      "      \"action\": {\n",
      "        \"class_name\": \"StoreValidationResultAction\"\n",
      "      }\n",
      "    },\n",
      "    {\n",
      "      \"name\": \"store_evaluation_params\",\n",
      "      \"action\": {\n",
      "        \"class_name\": \"StoreEvaluationParametersAction\"\n",
      "      }\n",
      "    },\n",
      "    {\n",
      "      \"name\": \"update_data_docs\",\n",
      "      \"action\": {\n",
      "        \"class_name\": \"UpdateDataDocsAction\",\n",
      "        \"site_names\": []\n",
      "      }\n",
      "    }\n",
      "  ],\n",
      "  \"evaluation_parameters\": {},\n",
      "  \"runtime_configuration\": {},\n",
      "  \"validations\": [\n",
      "    {\n",
      "      \"batch_request\": {\n",
      "        \"datasource_name\": \"pengfei_test\",\n",
      "        \"data_connector_name\": \"default_inferred_data_connector_name\",\n",
      "        \"data_asset_name\": \"adult_with_duplicates.csv\",\n",
      "        \"data_connector_query\": {\n",
      "          \"index\": -1\n",
      "        }\n",
      "      },\n",
      "      \"expectation_suite_name\": \"census_income_expectation_suite.test1\"\n",
      "    }\n",
      "  ],\n",
      "  \"profilers\": [],\n",
      "  \"ge_cloud_id\": null,\n",
      "  \"expectation_suite_ge_cloud_id\": null\n",
      "}\n",
      "\tSuccessfully instantiated SimpleCheckpoint\n",
      "\n",
      "\n",
      "Checkpoint class name: SimpleCheckpoint\n",
      "{\n",
      "  \"name\": \"pengfei_hard_checkpoint\",\n",
      "  \"config_version\": 1.0,\n",
      "  \"template_name\": null,\n",
      "  \"module_name\": \"great_expectations.checkpoint\",\n",
      "  \"class_name\": \"Checkpoint\",\n",
      "  \"run_name_template\": \"%Y%m%d-%H%M%S-my-run-name-template\",\n",
      "  \"expectation_suite_name\": null,\n",
      "  \"batch_request\": null,\n",
      "  \"action_list\": [\n",
      "    {\n",
      "      \"name\": \"store_validation_result\",\n",
      "      \"action\": {\n",
      "        \"class_name\": \"StoreValidationResultAction\"\n",
      "      }\n",
      "    },\n",
      "    {\n",
      "      \"name\": \"store_evaluation_params\",\n",
      "      \"action\": {\n",
      "        \"class_name\": \"StoreEvaluationParametersAction\"\n",
      "      }\n",
      "    },\n",
      "    {\n",
      "      \"name\": \"update_data_docs\",\n",
      "      \"action\": {\n",
      "        \"class_name\": \"UpdateDataDocsAction\",\n",
      "        \"site_names\": []\n",
      "      }\n",
      "    }\n",
      "  ],\n",
      "  \"evaluation_parameters\": {},\n",
      "  \"runtime_configuration\": {},\n",
      "  \"validations\": [\n",
      "    {\n",
      "      \"batch_request\": {\n",
      "        \"datasource_name\": \"pengfei_test\",\n",
      "        \"data_connector_name\": \"default_inferred_data_connector_name\",\n",
      "        \"data_asset_name\": \"adult_with_duplicates.csv\",\n",
      "        \"data_connector_query\": {\n",
      "          \"index\": -1\n",
      "        }\n",
      "      },\n",
      "      \"expectation_suite_name\": \"census_income_expectation_suite.test1\"\n",
      "    }\n",
      "  ],\n",
      "  \"profilers\": [],\n",
      "  \"ge_cloud_id\": null,\n",
      "  \"expectation_suite_ge_cloud_id\": null\n",
      "}\n"
     ]
    },
    {
     "data": {
      "text/plain": "<great_expectations.checkpoint.checkpoint.SimpleCheckpoint at 0x7f15b2eec580>"
     },
     "execution_count": 4,
     "metadata": {},
     "output_type": "execute_result"
    }
   ],
   "source": [
    "# Use yaml to configure a checkpoint\n",
    "my_2nd_ck_name = \"pengfei_hard_checkpoint\"\n",
    "\n",
    "ck_config1 = f\"\"\"\n",
    "name: {my_2nd_ck_name}\n",
    "config_version: 1.0\n",
    "class_name: SimpleCheckpoint\n",
    "run_name_template: \"%Y%m%d-%H%M%S-my-run-name-template\"\n",
    "validations:\n",
    "  - batch_request:\n",
    "      datasource_name: pengfei_test\n",
    "      data_connector_name: default_inferred_data_connector_name\n",
    "      data_asset_name: adult_with_duplicates.csv\n",
    "      data_connector_query:\n",
    "        index: -1\n",
    "    expectation_suite_name: census_income_expectation_suite.test1\n",
    "\"\"\"\n",
    "\n",
    "# preview the checkpoint config\n",
    "print(ck_config1)\n",
    "\n",
    "# test the checkpoint validity\n",
    "checkpoint1 = context.test_yaml_config(yaml_config=ck_config1)\n",
    "\n",
    "# save the checkpoint to the\n",
    "context.add_checkpoint(**yaml.load(ck_config1))"
   ],
   "metadata": {
    "collapsed": false,
    "pycharm": {
     "name": "#%%\n"
    }
   }
  },
  {
   "cell_type": "markdown",
   "source": [
    "# create a checkpoint for auto generate expectations suits"
   ],
   "metadata": {
    "collapsed": false,
    "pycharm": {
     "name": "#%% md\n"
    }
   }
  },
  {
   "cell_type": "code",
   "execution_count": null,
   "outputs": [],
   "source": [
    "# Use yaml to configure a checkpoint\n",
    "auto_gen_ck_name = \"auto_gen_checkpoint\"\n",
    "\n",
    "ck_config2 = f\"\"\"\n",
    "name: {auto_gen_ck_name}\n",
    "config_version: 1.0\n",
    "class_name: SimpleCheckpoint\n",
    "run_name_template: \"%Y%m%d-%H%M%S-my-run-name-template\"\n",
    "validations:\n",
    "  - batch_request:\n",
    "      datasource_name: pengfei_test\n",
    "      data_connector_name: default_inferred_data_connector_name\n",
    "      data_asset_name: adult_with_duplicates.csv\n",
    "      data_connector_query:\n",
    "        index: -1\n",
    "    expectation_suite_name: adult_with_duplicates.csv.warning\n",
    "\"\"\"\n",
    "\n",
    "# preview the checkpoint config\n",
    "print(ck_config2)\n",
    "\n",
    "#\n",
    "checkpoint2 = context.test_yaml_config(yaml_config=ck_config2)\n",
    "\n",
    "context.add_checkpoint(**yaml.load(ck_config2))"
   ],
   "metadata": {
    "collapsed": false,
    "pycharm": {
     "name": "#%%\n"
    }
   }
  },
  {
   "cell_type": "markdown",
   "source": [
    "# Run the checkpoint\n",
    "\n",
    "To run the checkpoint, you only need to know the name of the checkpoint, and call the function run_checkpoint()"
   ],
   "metadata": {
    "collapsed": false,
    "pycharm": {
     "name": "#%% md\n"
    }
   }
  },
  {
   "cell_type": "code",
   "execution_count": 5,
   "outputs": [
    {
     "data": {
      "text/plain": "Calculating Metrics:   0%|          | 0/12 [00:00<?, ?it/s]",
      "application/vnd.jupyter.widget-view+json": {
       "version_major": 2,
       "version_minor": 0,
       "model_id": "e4fd25f9c2fa43f5b7d135dc054c6601"
      }
     },
     "metadata": {},
     "output_type": "display_data"
    },
    {
     "name": "stderr",
     "output_type": "stream",
     "text": [
      "/home/pliu/.cache/pypoetry/virtualenvs/dataqualityandvalidation-6LYnP9NJ-py3.8/lib/python3.8/site-packages/jinja2/environment.py:1088: DeprecationWarning: 'soft_unicode' has been renamed to 'soft_str'. The old name will be removed in MarkupSafe 2.1.\n",
      "  return concat(self.root_render_func(self.new_context(vars)))\n"
     ]
    }
   ],
   "source": [
    "checkpoint1 = \"pengfei_simple_checkpoint\"\n",
    "checkpoint2 = \"pengfei_hard_checkpoint\"\n",
    "checkpoint3 = \"auto_gen_checkpoint\"\n",
    "\n",
    "context.run_checkpoint(checkpoint_name=checkpoint2)\n",
    "context.open_data_docs()"
   ],
   "metadata": {
    "collapsed": false,
    "pycharm": {
     "name": "#%%\n"
    }
   }
  },
  {
   "cell_type": "code",
   "execution_count": null,
   "outputs": [],
   "source": [],
   "metadata": {
    "collapsed": false,
    "pycharm": {
     "name": "#%%\n"
    }
   }
  }
 ],
 "metadata": {
  "kernelspec": {
   "display_name": "Python 3",
   "language": "python",
   "name": "python3"
  },
  "language_info": {
   "codemirror_mode": {
    "name": "ipython",
    "version": 2
   },
   "file_extension": ".py",
   "mimetype": "text/x-python",
   "name": "python",
   "nbconvert_exporter": "python",
   "pygments_lexer": "ipython2",
   "version": "2.7.6"
  }
 },
 "nbformat": 4,
 "nbformat_minor": 0
}