{
 "cells": [
  {
   "cell_type": "markdown",
   "metadata": {
    "collapsed": true,
    "pycharm": {
     "name": "#%% md\n"
    }
   },
   "source": [
    "# Use TDDA to validate data\n"
   ]
  },
  {
   "cell_type": "code",
   "execution_count": 1,
   "outputs": [],
   "source": [
    "from tdda.constraints import discover_df, verify_df\n",
    "import pandas as pd\n",
    "import os"
   ],
   "metadata": {
    "collapsed": false,
    "pycharm": {
     "name": "#%%\n"
    }
   }
  },
  {
   "cell_type": "markdown",
   "source": [
    "# Step1: Read data"
   ],
   "metadata": {
    "collapsed": false,
    "pycharm": {
     "name": "#%% md\n"
    }
   }
  },
  {
   "cell_type": "code",
   "execution_count": 2,
   "outputs": [
    {
     "data": {
      "text/plain": "           age       workclass  fnlwgt  education  education-num  \\\n0          age       workclass  fnlwgt  education  education-num   \n1          139       State-gov   77516  Bachelors             13   \n2  fourty five       State-gov   77516  Bachelors             13   \n3          -12       State-gov   77516  Bachelors             13   \n4          NaN  emp-by-pengfei   77516  Bachelors             13   \n\n   marital-status    occupation   relationship   race   sex  capital-gain  \\\n0  marital-status    occupation   relationship   race   sex  capital-gain   \n1   Never-married  Adm-clerical  Not-in-family  White  Male          2174   \n2   Never-married  Adm-clerical  Not-in-family  White  Male          2174   \n3   Never-married  Adm-clerical  Not-in-family  White  Male          2174   \n4   Never-married  Adm-clerical  Not-in-family  White  Male          2174   \n\n   capital-loss  hours-per-week  native-country  income  \n0  capital-loss  hours-per-week  native-country  income  \n1             0              40   United-States   <=50K  \n2             0              40   United-States   <=50K  \n3             0              40   United-States   <=50K  \n4             0              40   United-States   <=50K  ",
      "text/html": "<div>\n<style scoped>\n    .dataframe tbody tr th:only-of-type {\n        vertical-align: middle;\n    }\n\n    .dataframe tbody tr th {\n        vertical-align: top;\n    }\n\n    .dataframe thead th {\n        text-align: right;\n    }\n</style>\n<table border=\"1\" class=\"dataframe\">\n  <thead>\n    <tr style=\"text-align: right;\">\n      <th></th>\n      <th>age</th>\n      <th>workclass</th>\n      <th>fnlwgt</th>\n      <th>education</th>\n      <th>education-num</th>\n      <th>marital-status</th>\n      <th>occupation</th>\n      <th>relationship</th>\n      <th>race</th>\n      <th>sex</th>\n      <th>capital-gain</th>\n      <th>capital-loss</th>\n      <th>hours-per-week</th>\n      <th>native-country</th>\n      <th>income</th>\n    </tr>\n  </thead>\n  <tbody>\n    <tr>\n      <th>0</th>\n      <td>age</td>\n      <td>workclass</td>\n      <td>fnlwgt</td>\n      <td>education</td>\n      <td>education-num</td>\n      <td>marital-status</td>\n      <td>occupation</td>\n      <td>relationship</td>\n      <td>race</td>\n      <td>sex</td>\n      <td>capital-gain</td>\n      <td>capital-loss</td>\n      <td>hours-per-week</td>\n      <td>native-country</td>\n      <td>income</td>\n    </tr>\n    <tr>\n      <th>1</th>\n      <td>139</td>\n      <td>State-gov</td>\n      <td>77516</td>\n      <td>Bachelors</td>\n      <td>13</td>\n      <td>Never-married</td>\n      <td>Adm-clerical</td>\n      <td>Not-in-family</td>\n      <td>White</td>\n      <td>Male</td>\n      <td>2174</td>\n      <td>0</td>\n      <td>40</td>\n      <td>United-States</td>\n      <td>&lt;=50K</td>\n    </tr>\n    <tr>\n      <th>2</th>\n      <td>fourty five</td>\n      <td>State-gov</td>\n      <td>77516</td>\n      <td>Bachelors</td>\n      <td>13</td>\n      <td>Never-married</td>\n      <td>Adm-clerical</td>\n      <td>Not-in-family</td>\n      <td>White</td>\n      <td>Male</td>\n      <td>2174</td>\n      <td>0</td>\n      <td>40</td>\n      <td>United-States</td>\n      <td>&lt;=50K</td>\n    </tr>\n    <tr>\n      <th>3</th>\n      <td>-12</td>\n      <td>State-gov</td>\n      <td>77516</td>\n      <td>Bachelors</td>\n      <td>13</td>\n      <td>Never-married</td>\n      <td>Adm-clerical</td>\n      <td>Not-in-family</td>\n      <td>White</td>\n      <td>Male</td>\n      <td>2174</td>\n      <td>0</td>\n      <td>40</td>\n      <td>United-States</td>\n      <td>&lt;=50K</td>\n    </tr>\n    <tr>\n      <th>4</th>\n      <td>NaN</td>\n      <td>emp-by-pengfei</td>\n      <td>77516</td>\n      <td>Bachelors</td>\n      <td>13</td>\n      <td>Never-married</td>\n      <td>Adm-clerical</td>\n      <td>Not-in-family</td>\n      <td>White</td>\n      <td>Male</td>\n      <td>2174</td>\n      <td>0</td>\n      <td>40</td>\n      <td>United-States</td>\n      <td>&lt;=50K</td>\n    </tr>\n  </tbody>\n</table>\n</div>"
     },
     "execution_count": 2,
     "metadata": {},
     "output_type": "execute_result"
    }
   ],
   "source": [
    "file_path = \"../../data/adult_with_duplicates.csv\"\n",
    "columns = [\"age\", \"workclass\", \"fnlwgt\", \"education\", \"education-num\", \"marital-status\", \"occupation\", \"relationship\",\n",
    "           \"race\", \"sex\", \"capital-gain\", \"capital-loss\", \"hours-per-week\", \"native-country\", \"income\"]\n",
    "df_base = pd.read_csv(file_path, names=columns, header=None, sep=',', na_values=[\"null\"])\n",
    "df_base.head()"
   ],
   "metadata": {
    "collapsed": false,
    "pycharm": {
     "name": "#%%\n"
    }
   }
  },
  {
   "cell_type": "code",
   "execution_count": 3,
   "outputs": [],
   "source": [
    "root_dir = './tdda_refs'\n",
    "my_rule_path = 'my_constraints.tdda'"
   ],
   "metadata": {
    "collapsed": false,
    "pycharm": {
     "name": "#%%\n"
    }
   }
  },
  {
   "cell_type": "markdown",
   "source": [
    "# Step 2. Load validation rule and validate data\n",
    "\n",
    "# Validation rules\n",
    "\n",
    "Table level validation rule:\n",
    "1. Table must have 32603 rows and 15 columns\n",
    "2. Table can't have duplicate rows\n",
    "\n",
    "Column level validation rule:\n",
    "1. Column Age must be a number\n",
    "2. Column Age can't have null\n",
    "3. Column Age must have value between 0 and 120\n",
    "\n",
    "TDDA cant specify table level rules. So we can only apply column level rules"
   ],
   "metadata": {
    "collapsed": false,
    "pycharm": {
     "name": "#%% md\n"
    }
   }
  },
  {
   "cell_type": "code",
   "execution_count": 10,
   "outputs": [],
   "source": [
    "# load the custom validation rule\n",
    "validation_rule_path = f'{root_dir}/{my_rule_path}'"
   ],
   "metadata": {
    "collapsed": false,
    "pycharm": {
     "name": "#%%\n"
    }
   }
  },
  {
   "cell_type": "code",
   "execution_count": 11,
   "outputs": [
    {
     "name": "stdout",
     "output_type": "stream",
     "text": [
      "FIELDS:\n",
      "\n",
      "age: 3 failures  1 pass  type ✗  min ✗  max ✗  max_nulls ✓\n",
      "\n",
      "SUMMARY:\n",
      "\n",
      "Constraints passing: 1\n",
      "Constraints failing: 3\n"
     ]
    }
   ],
   "source": [
    "# apply validation rules on data.\n",
    "result = verify_df(df_base, validation_rule_path, type_checking='strict', epsilon=0)\n",
    "print(str(result))"
   ],
   "metadata": {
    "collapsed": false,
    "pycharm": {
     "name": "#%%\n"
    }
   }
  },
  {
   "cell_type": "markdown",
   "source": [
    "Now try to change validation rules (e.g. max_nulls=1), and rerun above code."
   ],
   "metadata": {
    "collapsed": false,
    "pycharm": {
     "name": "#%% md\n"
    }
   }
  },
  {
   "cell_type": "markdown",
   "source": [
    "# Step 3. Auto generate rules"
   ],
   "metadata": {
    "collapsed": false,
    "pycharm": {
     "name": "#%% md\n"
    }
   }
  },
  {
   "cell_type": "code",
   "execution_count": 12,
   "outputs": [
    {
     "name": "stdout",
     "output_type": "stream",
     "text": [
      "FIELDS:\n",
      "\n",
      "Field age:\n",
      "           type: TypeConstraint(value='string')\n",
      "     min_length: MinLengthConstraint(value=2)\n",
      "     max_length: MaxLengthConstraint(value=11)\n",
      "      max_nulls: MaxNullsConstraint(value=1)\n",
      "\n",
      "Field workclass:\n",
      "           type: TypeConstraint(value='string')\n",
      "     min_length: MinLengthConstraint(value=7)\n",
      "     max_length: MaxLengthConstraint(value=16)\n",
      "  allowed_values: AllowedValuesConstraint(value=['Federal-gov', 'Local-gov', 'Never-worked', 'Private', 'Self-emp-inc', 'Self-emp-not-inc', 'State-gov', 'Without-pay', 'emp-by-pengfei', 'workclass'])\n",
      "\n",
      "Field fnlwgt:\n",
      "           type: TypeConstraint(value='string')\n",
      "     min_length: MinLengthConstraint(value=5)\n",
      "     max_length: MaxLengthConstraint(value=7)\n",
      "      max_nulls: MaxNullsConstraint(value=0)\n",
      "\n",
      "Field education:\n",
      "           type: TypeConstraint(value='string')\n",
      "     min_length: MinLengthConstraint(value=3)\n",
      "     max_length: MaxLengthConstraint(value=12)\n",
      "      max_nulls: MaxNullsConstraint(value=0)\n",
      "  allowed_values: AllowedValuesConstraint(value=['10th', '11th', '12th', '1st-4th', '5th-6th', '7th-8th', '9th', 'Assoc-acdm', 'Assoc-voc', 'Bachelors', 'Doctorate', 'HS-grad', 'Masters', 'Preschool', 'Prof-school', 'Some-college', 'education'])\n",
      "\n",
      "Field education-num:\n",
      "           type: TypeConstraint(value='string')\n",
      "     min_length: MinLengthConstraint(value=1)\n",
      "     max_length: MaxLengthConstraint(value=13)\n",
      "      max_nulls: MaxNullsConstraint(value=0)\n",
      "  allowed_values: AllowedValuesConstraint(value=['1', '10', '11', '12', '13', '14', '15', '16', '2', '3', '4', '5', '6', '7', '8', '9', 'education-num'])\n",
      "\n",
      "Field marital-status:\n",
      "           type: TypeConstraint(value='string')\n",
      "     min_length: MinLengthConstraint(value=7)\n",
      "     max_length: MaxLengthConstraint(value=21)\n",
      "      max_nulls: MaxNullsConstraint(value=0)\n",
      "  allowed_values: AllowedValuesConstraint(value=['Divorced', 'Married-AF-spouse', 'Married-civ-spouse', 'Married-spouse-absent', 'Never-married', 'Separated', 'Widowed', 'marital-status'])\n",
      "\n",
      "Field occupation:\n",
      "           type: TypeConstraint(value='string')\n",
      "     min_length: MinLengthConstraint(value=5)\n",
      "     max_length: MaxLengthConstraint(value=17)\n",
      "  allowed_values: AllowedValuesConstraint(value=['Adm-clerical', 'Armed-Forces', 'Craft-repair', 'Exec-managerial', 'Farming-fishing', 'Handlers-cleaners', 'Machine-op-inspct', 'Other-service', 'Priv-house-serv', 'Prof-specialty', 'Protective-serv', 'Sales', 'Tech-support', 'Transport-moving', 'occupation'])\n",
      "\n",
      "Field relationship:\n",
      "           type: TypeConstraint(value='string')\n",
      "     min_length: MinLengthConstraint(value=4)\n",
      "     max_length: MaxLengthConstraint(value=14)\n",
      "      max_nulls: MaxNullsConstraint(value=0)\n",
      "  allowed_values: AllowedValuesConstraint(value=['Husband', 'Not-in-family', 'Other-relative', 'Own-child', 'Unmarried', 'Wife', 'relationship'])\n",
      "\n",
      "Field race:\n",
      "           type: TypeConstraint(value='string')\n",
      "     min_length: MinLengthConstraint(value=4)\n",
      "     max_length: MaxLengthConstraint(value=18)\n",
      "      max_nulls: MaxNullsConstraint(value=0)\n",
      "  allowed_values: AllowedValuesConstraint(value=['Amer-Indian-Eskimo', 'Asian-Pac-Islander', 'Black', 'Other', 'White', 'race'])\n",
      "\n",
      "Field sex:\n",
      "           type: TypeConstraint(value='string')\n",
      "     min_length: MinLengthConstraint(value=3)\n",
      "     max_length: MaxLengthConstraint(value=6)\n",
      "      max_nulls: MaxNullsConstraint(value=0)\n",
      "  allowed_values: AllowedValuesConstraint(value=['Female', 'Male', 'sex'])\n",
      "\n",
      "Field capital-gain:\n",
      "           type: TypeConstraint(value='string')\n",
      "     min_length: MinLengthConstraint(value=1)\n",
      "     max_length: MaxLengthConstraint(value=12)\n",
      "      max_nulls: MaxNullsConstraint(value=0)\n",
      "\n",
      "Field capital-loss:\n",
      "           type: TypeConstraint(value='string')\n",
      "     min_length: MinLengthConstraint(value=1)\n",
      "     max_length: MaxLengthConstraint(value=12)\n",
      "      max_nulls: MaxNullsConstraint(value=0)\n",
      "\n",
      "Field hours-per-week:\n",
      "           type: TypeConstraint(value='string')\n",
      "     min_length: MinLengthConstraint(value=1)\n",
      "     max_length: MaxLengthConstraint(value=14)\n",
      "      max_nulls: MaxNullsConstraint(value=0)\n",
      "\n",
      "Field native-country:\n",
      "           type: TypeConstraint(value='string')\n",
      "     min_length: MinLengthConstraint(value=4)\n",
      "     max_length: MaxLengthConstraint(value=26)\n",
      "\n",
      "Field income:\n",
      "           type: TypeConstraint(value='string')\n",
      "     min_length: MinLengthConstraint(value=4)\n",
      "     max_length: MaxLengthConstraint(value=6)\n",
      "      max_nulls: MaxNullsConstraint(value=0)\n",
      "  allowed_values: AllowedValuesConstraint(value=['<=50K', '>50K', 'income'])\n"
     ]
    }
   ],
   "source": [
    "# generate the constraint\n",
    "constraints = discover_df(df_base)\n",
    "\n",
    "# Show the generated constraints\n",
    "print(str(constraints))\n"
   ],
   "metadata": {
    "collapsed": false,
    "pycharm": {
     "name": "#%%\n"
    }
   }
  },
  {
   "cell_type": "markdown",
   "source": [
    "## Step 4 save the generated validation rules\n"
   ],
   "metadata": {
    "collapsed": false,
    "pycharm": {
     "name": "#%% md\n"
    }
   }
  },
  {
   "cell_type": "code",
   "execution_count": 13,
   "outputs": [],
   "source": [
    "def write_constrain(constrains, constrain_root_dir: str, constrain_file_name: str):\n",
    "    \"\"\"\n",
    "    This function takes a tdda constrain object, root directory and file name to store the tdda constrains in json format\n",
    "\n",
    "    :param constrains: tdda constrain object\n",
    "    :param constrain_root_dir: root directory to store the tdda constrains\n",
    "    :param constrain_file_name: file name to store the constrain\n",
    "    :return:\n",
    "    \"\"\"\n",
    "    if not os.path.exists(constrain_root_dir):\n",
    "        os.mkdir(constrain_root_dir)\n",
    "    constraints_path = f'{constrain_root_dir}/{constrain_file_name}'\n",
    "    print(f\"write constrain to path {constraints_path}\")\n",
    "    with open(constraints_path, 'w') as f:\n",
    "        f.write(constraints.to_json())"
   ],
   "metadata": {
    "collapsed": false,
    "pycharm": {
     "name": "#%%\n"
    }
   }
  },
  {
   "cell_type": "code",
   "execution_count": 16,
   "outputs": [
    {
     "name": "stdout",
     "output_type": "stream",
     "text": [
      "write constrain to path ./tdda_refs/generated_constraints.tdda\n"
     ]
    }
   ],
   "source": [
    "# write constrain to local file system\n",
    "generated_rule_file_name=\"generated_constraints.tdda\"\n",
    "write_constrain(constraints,root_dir,generated_rule_file_name)"
   ],
   "metadata": {
    "collapsed": false,
    "pycharm": {
     "name": "#%%\n"
    }
   }
  },
  {
   "cell_type": "markdown",
   "source": [
    "## Step 5 Validate data with generated rules\n",
    "\n",
    "Now we can use the generated constraints to validate some data."
   ],
   "metadata": {
    "collapsed": false,
    "pycharm": {
     "name": "#%% md\n"
    }
   }
  },
  {
   "cell_type": "code",
   "execution_count": 17,
   "outputs": [
    {
     "name": "stdout",
     "output_type": "stream",
     "text": [
      "FIELDS:\n",
      "\n",
      "age: 0 failures  4 passes  type ✓  min_length ✓  max_length ✓  max_nulls ✓\n",
      "\n",
      "workclass: 0 failures  4 passes  type ✓  min_length ✓  max_length ✓  allowed_values ✓\n",
      "\n",
      "fnlwgt: 0 failures  4 passes  type ✓  min_length ✓  max_length ✓  max_nulls ✓\n",
      "\n",
      "education: 0 failures  5 passes  type ✓  min_length ✓  max_length ✓  max_nulls ✓  allowed_values ✓\n",
      "\n",
      "education-num: 0 failures  5 passes  type ✓  min_length ✓  max_length ✓  max_nulls ✓  allowed_values ✓\n",
      "\n",
      "marital-status: 0 failures  5 passes  type ✓  min_length ✓  max_length ✓  max_nulls ✓  allowed_values ✓\n",
      "\n",
      "occupation: 0 failures  4 passes  type ✓  min_length ✓  max_length ✓  allowed_values ✓\n",
      "\n",
      "relationship: 0 failures  5 passes  type ✓  min_length ✓  max_length ✓  max_nulls ✓  allowed_values ✓\n",
      "\n",
      "race: 0 failures  5 passes  type ✓  min_length ✓  max_length ✓  max_nulls ✓  allowed_values ✓\n",
      "\n",
      "sex: 0 failures  5 passes  type ✓  min_length ✓  max_length ✓  max_nulls ✓  allowed_values ✓\n",
      "\n",
      "capital-gain: 0 failures  4 passes  type ✓  min_length ✓  max_length ✓  max_nulls ✓\n",
      "\n",
      "capital-loss: 0 failures  4 passes  type ✓  min_length ✓  max_length ✓  max_nulls ✓\n",
      "\n",
      "hours-per-week: 0 failures  4 passes  type ✓  min_length ✓  max_length ✓  max_nulls ✓\n",
      "\n",
      "native-country: 0 failures  3 passes  type ✓  min_length ✓  max_length ✓\n",
      "\n",
      "income: 0 failures  5 passes  type ✓  min_length ✓  max_length ✓  max_nulls ✓  allowed_values ✓\n",
      "\n",
      "SUMMARY:\n",
      "\n",
      "Constraints passing: 66\n",
      "Constraints failing: 0\n"
     ]
    }
   ],
   "source": [
    "\n",
    "generated_constraints_path = f'{root_dir}/{generated_rule_file_name}'\n",
    "valid_result = verify_df(df_base, generated_constraints_path, type_checking='strict', epsilon=0)\n",
    "print(str(valid_result))"
   ],
   "metadata": {
    "collapsed": false,
    "pycharm": {
     "name": "#%%\n"
    }
   }
  },
  {
   "cell_type": "markdown",
   "source": [],
   "metadata": {
    "collapsed": false,
    "pycharm": {
     "name": "#%% md\n"
    }
   }
  }
 ],
 "metadata": {
  "kernelspec": {
   "display_name": "Python 3",
   "language": "python",
   "name": "python3"
  },
  "language_info": {
   "codemirror_mode": {
    "name": "ipython",
    "version": 2
   },
   "file_extension": ".py",
   "mimetype": "text/x-python",
   "name": "python",
   "nbconvert_exporter": "python",
   "pygments_lexer": "ipython2",
   "version": "2.7.6"
  }
 },
 "nbformat": 4,
 "nbformat_minor": 0
}