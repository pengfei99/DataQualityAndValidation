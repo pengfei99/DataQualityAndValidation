{
 "cells": [
  {
   "cell_type": "markdown",
   "metadata": {
    "collapsed": true,
    "pycharm": {
     "name": "#%% md\n"
    }
   },
   "source": [
    "# Use TDDA to validate data\n"
   ]
  },
  {
   "cell_type": "code",
   "execution_count": 4,
   "outputs": [],
   "source": [
    "from tdda.constraints import discover_df, verify_df\n",
    "import pandas as pd\n",
    "import os"
   ],
   "metadata": {
    "collapsed": false,
    "pycharm": {
     "name": "#%%\n"
    }
   }
  },
  {
   "cell_type": "markdown",
   "source": [
    "# Step1: Read data"
   ],
   "metadata": {
    "collapsed": false,
    "pycharm": {
     "name": "#%% md\n"
    }
   }
  },
  {
   "cell_type": "code",
   "execution_count": 5,
   "outputs": [
    {
     "data": {
      "text/plain": "           age       workclass  fnlwgt  education  education-num  \\\n0          age       workclass  fnlwgt  education  education-num   \n1          139       State-gov   77516  Bachelors             13   \n2  fourty five       State-gov   77516  Bachelors             13   \n3          -12       State-gov   77516  Bachelors             13   \n4          NaN  emp-by-pengfei   77516  Bachelors             13   \n\n   marital-status    occupation   relationship   race   sex  capital-gain  \\\n0  marital-status    occupation   relationship   race   sex  capital-gain   \n1   Never-married  Adm-clerical  Not-in-family  White  Male          2174   \n2   Never-married  Adm-clerical  Not-in-family  White  Male          2174   \n3   Never-married  Adm-clerical  Not-in-family  White  Male          2174   \n4   Never-married  Adm-clerical  Not-in-family  White  Male          2174   \n\n   capital-loss  hours-per-week  native-country  income  \n0  capital-loss  hours-per-week  native-country  income  \n1             0              40   United-States   <=50K  \n2             0              40   United-States   <=50K  \n3             0              40   United-States   <=50K  \n4             0              40   United-States   <=50K  ",
      "text/html": "<div>\n<style scoped>\n    .dataframe tbody tr th:only-of-type {\n        vertical-align: middle;\n    }\n\n    .dataframe tbody tr th {\n        vertical-align: top;\n    }\n\n    .dataframe thead th {\n        text-align: right;\n    }\n</style>\n<table border=\"1\" class=\"dataframe\">\n  <thead>\n    <tr style=\"text-align: right;\">\n      <th></th>\n      <th>age</th>\n      <th>workclass</th>\n      <th>fnlwgt</th>\n      <th>education</th>\n      <th>education-num</th>\n      <th>marital-status</th>\n      <th>occupation</th>\n      <th>relationship</th>\n      <th>race</th>\n      <th>sex</th>\n      <th>capital-gain</th>\n      <th>capital-loss</th>\n      <th>hours-per-week</th>\n      <th>native-country</th>\n      <th>income</th>\n    </tr>\n  </thead>\n  <tbody>\n    <tr>\n      <th>0</th>\n      <td>age</td>\n      <td>workclass</td>\n      <td>fnlwgt</td>\n      <td>education</td>\n      <td>education-num</td>\n      <td>marital-status</td>\n      <td>occupation</td>\n      <td>relationship</td>\n      <td>race</td>\n      <td>sex</td>\n      <td>capital-gain</td>\n      <td>capital-loss</td>\n      <td>hours-per-week</td>\n      <td>native-country</td>\n      <td>income</td>\n    </tr>\n    <tr>\n      <th>1</th>\n      <td>139</td>\n      <td>State-gov</td>\n      <td>77516</td>\n      <td>Bachelors</td>\n      <td>13</td>\n      <td>Never-married</td>\n      <td>Adm-clerical</td>\n      <td>Not-in-family</td>\n      <td>White</td>\n      <td>Male</td>\n      <td>2174</td>\n      <td>0</td>\n      <td>40</td>\n      <td>United-States</td>\n      <td>&lt;=50K</td>\n    </tr>\n    <tr>\n      <th>2</th>\n      <td>fourty five</td>\n      <td>State-gov</td>\n      <td>77516</td>\n      <td>Bachelors</td>\n      <td>13</td>\n      <td>Never-married</td>\n      <td>Adm-clerical</td>\n      <td>Not-in-family</td>\n      <td>White</td>\n      <td>Male</td>\n      <td>2174</td>\n      <td>0</td>\n      <td>40</td>\n      <td>United-States</td>\n      <td>&lt;=50K</td>\n    </tr>\n    <tr>\n      <th>3</th>\n      <td>-12</td>\n      <td>State-gov</td>\n      <td>77516</td>\n      <td>Bachelors</td>\n      <td>13</td>\n      <td>Never-married</td>\n      <td>Adm-clerical</td>\n      <td>Not-in-family</td>\n      <td>White</td>\n      <td>Male</td>\n      <td>2174</td>\n      <td>0</td>\n      <td>40</td>\n      <td>United-States</td>\n      <td>&lt;=50K</td>\n    </tr>\n    <tr>\n      <th>4</th>\n      <td>NaN</td>\n      <td>emp-by-pengfei</td>\n      <td>77516</td>\n      <td>Bachelors</td>\n      <td>13</td>\n      <td>Never-married</td>\n      <td>Adm-clerical</td>\n      <td>Not-in-family</td>\n      <td>White</td>\n      <td>Male</td>\n      <td>2174</td>\n      <td>0</td>\n      <td>40</td>\n      <td>United-States</td>\n      <td>&lt;=50K</td>\n    </tr>\n  </tbody>\n</table>\n</div>"
     },
     "execution_count": 5,
     "metadata": {},
     "output_type": "execute_result"
    }
   ],
   "source": [
    "file_path = \"../../data/adult_with_duplicates.csv\"\n",
    "columns = [\"age\", \"workclass\", \"fnlwgt\", \"education\", \"education-num\", \"marital-status\", \"occupation\", \"relationship\",\n",
    "           \"race\", \"sex\", \"capital-gain\", \"capital-loss\", \"hours-per-week\", \"native-country\", \"income\"]\n",
    "df_base = pd.read_csv(file_path, names=columns, header=None, sep=',', na_values=[\"null\"])\n",
    "df_base.head()"
   ],
   "metadata": {
    "collapsed": false,
    "pycharm": {
     "name": "#%%\n"
    }
   }
  },
  {
   "cell_type": "code",
   "execution_count": 16,
   "outputs": [],
   "source": [
    "root_dir = './tdda_refs'\n",
    "my_rule_path = 'my_constraints.tdda'"
   ],
   "metadata": {
    "collapsed": false,
    "pycharm": {
     "name": "#%%\n"
    }
   }
  },
  {
   "cell_type": "code",
   "execution_count": 19,
   "outputs": [
    {
     "name": "stdout",
     "output_type": "stream",
     "text": [
      "/home/pliu/git/DataQualityAndValidation/demo/02.tdda/tdda_refs\n"
     ]
    }
   ],
   "source": [
    "# Test\n",
    "validation_rule_path = f'{root_dir}/{my_rule_path}'\n",
    "dir_path=os.path.dirname(validation_rule_path)\n",
    "print(dir_path)"
   ],
   "metadata": {
    "collapsed": false,
    "pycharm": {
     "name": "#%%\n"
    }
   }
  },
  {
   "cell_type": "code",
   "execution_count": 22,
   "outputs": [
    {
     "name": "stdout",
     "output_type": "stream",
     "text": [
      "FIELDS:\n",
      "\n",
      "age: 4 failures  1 pass  type ✗  min ✗  max ✗  sign ✗  max_nulls ✓\n",
      "\n",
      "SUMMARY:\n",
      "\n",
      "Constraints passing: 1\n",
      "Constraints failing: 4\n"
     ]
    }
   ],
   "source": [
    "\n",
    "result = verify_df(df_base, validation_rule_path, type_checking='strict', epsilon=0)\n",
    "print(str(result))"
   ],
   "metadata": {
    "collapsed": false,
    "pycharm": {
     "name": "#%%\n"
    }
   }
  },
  {
   "cell_type": "code",
   "execution_count": 4,
   "outputs": [
    {
     "name": "stdout",
     "output_type": "stream",
     "text": [
      "FIELDS:\n",
      "\n",
      "Field age:\n",
      "           type: TypeConstraint(value='string')\n",
      "     min_length: MinLengthConstraint(value=2)\n",
      "     max_length: MaxLengthConstraint(value=11)\n",
      "      max_nulls: MaxNullsConstraint(value=1)\n",
      "\n",
      "Field workclass:\n",
      "           type: TypeConstraint(value='string')\n",
      "     min_length: MinLengthConstraint(value=7)\n",
      "     max_length: MaxLengthConstraint(value=16)\n",
      "  allowed_values: AllowedValuesConstraint(value=['Federal-gov', 'Local-gov', 'Never-worked', 'Private', 'Self-emp-inc', 'Self-emp-not-inc', 'State-gov', 'Without-pay', 'emp-by-pengfei', 'workclass'])\n",
      "\n",
      "Field fnlwgt:\n",
      "           type: TypeConstraint(value='string')\n",
      "     min_length: MinLengthConstraint(value=5)\n",
      "     max_length: MaxLengthConstraint(value=7)\n",
      "      max_nulls: MaxNullsConstraint(value=0)\n",
      "\n",
      "Field education:\n",
      "           type: TypeConstraint(value='string')\n",
      "     min_length: MinLengthConstraint(value=3)\n",
      "     max_length: MaxLengthConstraint(value=12)\n",
      "      max_nulls: MaxNullsConstraint(value=0)\n",
      "  allowed_values: AllowedValuesConstraint(value=['10th', '11th', '12th', '1st-4th', '5th-6th', '7th-8th', '9th', 'Assoc-acdm', 'Assoc-voc', 'Bachelors', 'Doctorate', 'HS-grad', 'Masters', 'Preschool', 'Prof-school', 'Some-college', 'education'])\n",
      "\n",
      "Field education-num:\n",
      "           type: TypeConstraint(value='string')\n",
      "     min_length: MinLengthConstraint(value=1)\n",
      "     max_length: MaxLengthConstraint(value=13)\n",
      "      max_nulls: MaxNullsConstraint(value=0)\n",
      "  allowed_values: AllowedValuesConstraint(value=['1', '10', '11', '12', '13', '14', '15', '16', '2', '3', '4', '5', '6', '7', '8', '9', 'education-num'])\n",
      "\n",
      "Field marital-status:\n",
      "           type: TypeConstraint(value='string')\n",
      "     min_length: MinLengthConstraint(value=7)\n",
      "     max_length: MaxLengthConstraint(value=21)\n",
      "      max_nulls: MaxNullsConstraint(value=0)\n",
      "  allowed_values: AllowedValuesConstraint(value=['Divorced', 'Married-AF-spouse', 'Married-civ-spouse', 'Married-spouse-absent', 'Never-married', 'Separated', 'Widowed', 'marital-status'])\n",
      "\n",
      "Field occupation:\n",
      "           type: TypeConstraint(value='string')\n",
      "     min_length: MinLengthConstraint(value=5)\n",
      "     max_length: MaxLengthConstraint(value=17)\n",
      "  allowed_values: AllowedValuesConstraint(value=['Adm-clerical', 'Armed-Forces', 'Craft-repair', 'Exec-managerial', 'Farming-fishing', 'Handlers-cleaners', 'Machine-op-inspct', 'Other-service', 'Priv-house-serv', 'Prof-specialty', 'Protective-serv', 'Sales', 'Tech-support', 'Transport-moving', 'occupation'])\n",
      "\n",
      "Field relationship:\n",
      "           type: TypeConstraint(value='string')\n",
      "     min_length: MinLengthConstraint(value=4)\n",
      "     max_length: MaxLengthConstraint(value=14)\n",
      "      max_nulls: MaxNullsConstraint(value=0)\n",
      "  allowed_values: AllowedValuesConstraint(value=['Husband', 'Not-in-family', 'Other-relative', 'Own-child', 'Unmarried', 'Wife', 'relationship'])\n",
      "\n",
      "Field race:\n",
      "           type: TypeConstraint(value='string')\n",
      "     min_length: MinLengthConstraint(value=4)\n",
      "     max_length: MaxLengthConstraint(value=18)\n",
      "      max_nulls: MaxNullsConstraint(value=0)\n",
      "  allowed_values: AllowedValuesConstraint(value=['Amer-Indian-Eskimo', 'Asian-Pac-Islander', 'Black', 'Other', 'White', 'race'])\n",
      "\n",
      "Field sex:\n",
      "           type: TypeConstraint(value='string')\n",
      "     min_length: MinLengthConstraint(value=3)\n",
      "     max_length: MaxLengthConstraint(value=6)\n",
      "      max_nulls: MaxNullsConstraint(value=0)\n",
      "  allowed_values: AllowedValuesConstraint(value=['Female', 'Male', 'sex'])\n",
      "\n",
      "Field capital-gain:\n",
      "           type: TypeConstraint(value='string')\n",
      "     min_length: MinLengthConstraint(value=1)\n",
      "     max_length: MaxLengthConstraint(value=12)\n",
      "      max_nulls: MaxNullsConstraint(value=0)\n",
      "\n",
      "Field capital-loss:\n",
      "           type: TypeConstraint(value='string')\n",
      "     min_length: MinLengthConstraint(value=1)\n",
      "     max_length: MaxLengthConstraint(value=12)\n",
      "      max_nulls: MaxNullsConstraint(value=0)\n",
      "\n",
      "Field hours-per-week:\n",
      "           type: TypeConstraint(value='string')\n",
      "     min_length: MinLengthConstraint(value=1)\n",
      "     max_length: MaxLengthConstraint(value=14)\n",
      "      max_nulls: MaxNullsConstraint(value=0)\n",
      "\n",
      "Field native-country:\n",
      "           type: TypeConstraint(value='string')\n",
      "     min_length: MinLengthConstraint(value=4)\n",
      "     max_length: MaxLengthConstraint(value=26)\n",
      "\n",
      "Field income:\n",
      "           type: TypeConstraint(value='string')\n",
      "     min_length: MinLengthConstraint(value=4)\n",
      "     max_length: MaxLengthConstraint(value=6)\n",
      "      max_nulls: MaxNullsConstraint(value=0)\n",
      "  allowed_values: AllowedValuesConstraint(value=['<=50K', '>50K', 'income'])\n"
     ]
    }
   ],
   "source": [
    "# generate the constraint\n",
    "constraints = discover_df(df_base)\n",
    "\n",
    "# Show the generated constraints\n",
    "print(str(constraints))\n"
   ],
   "metadata": {
    "collapsed": false,
    "pycharm": {
     "name": "#%%\n"
    }
   }
  },
  {
   "cell_type": "markdown",
   "source": [
    "## Step 2 save the constraint for validation\n",
    "\n",
    "You can notice we save the generated constrain in json format. Tdda group the validation rule by column. For example, for column 'age' (numeric column), we have the following rules:\n",
    "\n",
    "```json\n",
    "{\n",
    "\"age\": {\n",
    "            \"type\": \"int\",\n",
    "            \"min\": 17,\n",
    "            \"max\": 90,\n",
    "            \"sign\": \"positive\",\n",
    "            \"max_nulls\": 0\n",
    "        }\n",
    "}\n",
    "```\n",
    "\n",
    "- \"type\" : \"int\" means the value in this column must have integer type\n",
    "- \"min\" : 17 means the min value of this column is 17. (Note the min, max value you often need to modify, because it's generated by using the base validation data, it may not cover all the possibilities. )\n",
    "- \"max\": 90 means the max value of this column is 90\n",
    "- \"sign\": \"positive\" means all the value of this column must be positive\n",
    "- \"max_nulls\": 0 means you can not have null value in this column\n",
    "\n",
    "For column workclass(string/categorical column), we have the following rule:\n",
    "```json\n",
    "{\n",
    "\"workclass\": {\n",
    "            \"type\": \"string\",\n",
    "            \"min_length\": 7,\n",
    "            \"max_length\": 16,\n",
    "            \"allowed_values\": [\n",
    "                \"Federal-gov\",\n",
    "                \"Local-gov\",\n",
    "                \"Never-worked\",\n",
    "                \"Private\",\n",
    "                \"Self-emp-inc\",\n",
    "                \"Self-emp-not-inc\",\n",
    "                \"State-gov\",\n",
    "                \"Without-pay\"\n",
    "            ]\n",
    "        }\n",
    "}\n",
    "```\n",
    "\n",
    "- \"type\": \"string\" means the value in this column must have string type\n",
    "- \"min_length\": 7 means the min length of the string must be 7\n",
    "- \"max_length\": 16 means the max length of the string must be 7\n",
    "- \"allowed_values\": means all values in this column must in the list.\n",
    "\n",
    "Note, we don't see rule \"max_nulls\": 0, that's because this column contains many null value. We will use the generated rule to validate data first, then we will add new rules to redo the validation"
   ],
   "metadata": {
    "collapsed": false,
    "pycharm": {
     "name": "#%% md\n"
    }
   }
  },
  {
   "cell_type": "code",
   "execution_count": 8,
   "outputs": [],
   "source": [
    "def write_constrain(constrains, constrain_root_dir: str, constrain_file_name: str):\n",
    "    \"\"\"\n",
    "    This function takes a tdda constrain object, root directory and file name to store the tdda constrains in json format\n",
    "\n",
    "    :param constrains: tdda constrain object\n",
    "    :param constrain_root_dir: root directory to store the tdda constrains\n",
    "    :param constrain_file_name: file name to store the constrain\n",
    "    :return:\n",
    "    \"\"\"\n",
    "    if not os.path.exists(constrain_root_dir):\n",
    "        os.mkdir(constrain_root_dir)\n",
    "    constraints_path = f'{constrain_root_dir}/{constrain_file_name}'\n",
    "    print(f\"write constrain to path {constraints_path}\")\n",
    "    with open(constraints_path, 'w') as f:\n",
    "        f.write(constraints.to_json())"
   ],
   "metadata": {
    "collapsed": false,
    "pycharm": {
     "name": "#%%\n"
    }
   }
  },
  {
   "cell_type": "code",
   "execution_count": 9,
   "outputs": [
    {
     "name": "stdout",
     "output_type": "stream",
     "text": [
      "write constrain to path tdda_refs/generated_constraints.tdda\n"
     ]
    }
   ],
   "source": [
    "# write constrain to local file system\n",
    "\n",
    "write_constrain(constraints,root_dir,file_name)"
   ],
   "metadata": {
    "collapsed": false,
    "pycharm": {
     "name": "#%%\n"
    }
   }
  },
  {
   "cell_type": "markdown",
   "source": [
    "Now we can use the generated constraints to validate some data. Let's start with the valid data and see the outputs"
   ],
   "metadata": {
    "collapsed": false,
    "pycharm": {
     "name": "#%% md\n"
    }
   }
  },
  {
   "cell_type": "code",
   "execution_count": 10,
   "outputs": [
    {
     "name": "stdout",
     "output_type": "stream",
     "text": [
      "FIELDS:\n",
      "\n",
      "age: 0 failures  4 passes  type ✓  min_length ✓  max_length ✓  max_nulls ✓\n",
      "\n",
      "workclass: 0 failures  4 passes  type ✓  min_length ✓  max_length ✓  allowed_values ✓\n",
      "\n",
      "fnlwgt: 0 failures  4 passes  type ✓  min_length ✓  max_length ✓  max_nulls ✓\n",
      "\n",
      "education: 0 failures  5 passes  type ✓  min_length ✓  max_length ✓  max_nulls ✓  allowed_values ✓\n",
      "\n",
      "education-num: 0 failures  5 passes  type ✓  min_length ✓  max_length ✓  max_nulls ✓  allowed_values ✓\n",
      "\n",
      "marital-status: 0 failures  5 passes  type ✓  min_length ✓  max_length ✓  max_nulls ✓  allowed_values ✓\n",
      "\n",
      "occupation: 0 failures  4 passes  type ✓  min_length ✓  max_length ✓  allowed_values ✓\n",
      "\n",
      "relationship: 0 failures  5 passes  type ✓  min_length ✓  max_length ✓  max_nulls ✓  allowed_values ✓\n",
      "\n",
      "race: 0 failures  5 passes  type ✓  min_length ✓  max_length ✓  max_nulls ✓  allowed_values ✓\n",
      "\n",
      "sex: 0 failures  5 passes  type ✓  min_length ✓  max_length ✓  max_nulls ✓  allowed_values ✓\n",
      "\n",
      "capital-gain: 0 failures  4 passes  type ✓  min_length ✓  max_length ✓  max_nulls ✓\n",
      "\n",
      "capital-loss: 0 failures  4 passes  type ✓  min_length ✓  max_length ✓  max_nulls ✓\n",
      "\n",
      "hours-per-week: 0 failures  4 passes  type ✓  min_length ✓  max_length ✓  max_nulls ✓\n",
      "\n",
      "native-country: 0 failures  3 passes  type ✓  min_length ✓  max_length ✓\n",
      "\n",
      "income: 0 failures  5 passes  type ✓  min_length ✓  max_length ✓  max_nulls ✓  allowed_values ✓\n",
      "\n",
      "SUMMARY:\n",
      "\n",
      "Constraints passing: 66\n",
      "Constraints failing: 0\n"
     ]
    }
   ],
   "source": [],
   "metadata": {
    "collapsed": false,
    "pycharm": {
     "name": "#%%\n"
    }
   }
  },
  {
   "cell_type": "markdown",
   "source": [
    "You can notice all validation rules has passed the test. Now let's add some new rules.\n",
    "\n",
    "For this purpose, I created a new constraint json file called \"my_constraints.tdda\". You can notice in the below code snippet, that I added a new rule\n",
    "max null value in column workclass is 10.\n",
    "\n",
    "```json\n",
    "{\n",
    "\"workclass\": {\n",
    "            \"type\": \"string\",\n",
    "            \"min_length\": 7,\n",
    "            \"max_length\": 16,\n",
    "            \"allowed_values\": [\n",
    "                \"Federal-gov\",\n",
    "                \"Local-gov\",\n",
    "                \"Never-worked\",\n",
    "                \"Private\",\n",
    "                \"Self-emp-inc\",\n",
    "                \"Self-emp-not-inc\",\n",
    "                \"State-gov\",\n",
    "                \"Without-pay\"\n",
    "            ],\n",
    "             \"max_nulls\": 10\n",
    "        }\n",
    "}\n",
    "```"
   ],
   "metadata": {
    "collapsed": false,
    "pycharm": {
     "name": "#%% md\n"
    }
   }
  },
  {
   "cell_type": "code",
   "execution_count": 13,
   "outputs": [
    {
     "name": "stdout",
     "output_type": "stream",
     "text": [
      "FIELDS:\n",
      "\n",
      "age: 5 failures  0 passes  type ✗  min ✗  max ✗  sign ✗  max_nulls ✗\n",
      "\n",
      "workclass: 0 failures  4 passes  type ✓  min_length ✓  max_length ✓  allowed_values ✓\n",
      "\n",
      "fnlwgt: 0 failures  4 passes  type ✓  min_length ✓  max_length ✓  max_nulls ✓\n",
      "\n",
      "education: 0 failures  5 passes  type ✓  min_length ✓  max_length ✓  max_nulls ✓  allowed_values ✓\n",
      "\n",
      "education-num: 0 failures  5 passes  type ✓  min_length ✓  max_length ✓  max_nulls ✓  allowed_values ✓\n",
      "\n",
      "marital-status: 0 failures  5 passes  type ✓  min_length ✓  max_length ✓  max_nulls ✓  allowed_values ✓\n",
      "\n",
      "occupation: 0 failures  4 passes  type ✓  min_length ✓  max_length ✓  allowed_values ✓\n",
      "\n",
      "relationship: 0 failures  5 passes  type ✓  min_length ✓  max_length ✓  max_nulls ✓  allowed_values ✓\n",
      "\n",
      "race: 0 failures  5 passes  type ✓  min_length ✓  max_length ✓  max_nulls ✓  allowed_values ✓\n",
      "\n",
      "sex: 0 failures  5 passes  type ✓  min_length ✓  max_length ✓  max_nulls ✓  allowed_values ✓\n",
      "\n",
      "capital-gain: 0 failures  4 passes  type ✓  min_length ✓  max_length ✓  max_nulls ✓\n",
      "\n",
      "capital-loss: 0 failures  4 passes  type ✓  min_length ✓  max_length ✓  max_nulls ✓\n",
      "\n",
      "hours-per-week: 0 failures  4 passes  type ✓  min_length ✓  max_length ✓  max_nulls ✓\n",
      "\n",
      "native-country: 0 failures  3 passes  type ✓  min_length ✓  max_length ✓\n",
      "\n",
      "income: 0 failures  5 passes  type ✓  min_length ✓  max_length ✓  max_nulls ✓  allowed_values ✓\n",
      "\n",
      "SUMMARY:\n",
      "\n",
      "Constraints passing: 62\n",
      "Constraints failing: 5\n"
     ]
    }
   ],
   "source": [
    "my_constrains=\"my_constraints.tdda\"\n",
    "constraints_path = f'{root_dir}/{my_constrains}'\n",
    "valid_result = verify_df(df_base, constraints_path, type_checking='strict', epsilon=0)\n",
    "print(str(valid_result))"
   ],
   "metadata": {
    "collapsed": false,
    "pycharm": {
     "name": "#%%\n"
    }
   }
  },
  {
   "cell_type": "markdown",
   "source": [
    "You can notice in the result now we have one validation rule (max_nulls) does not pass the test.\n",
    "\n",
    "Now lets try the constraint on some sample data that contains many errors"
   ],
   "metadata": {
    "collapsed": false,
    "pycharm": {
     "name": "#%% md\n"
    }
   }
  },
  {
   "cell_type": "code",
   "execution_count": 17,
   "outputs": [
    {
     "name": "stdout",
     "output_type": "stream",
     "text": [
      "FIELDS:\n",
      "\n",
      "age: 5 failures  0 passes  type ✗  min ✗  max ✗  sign ✗  max_nulls ✗\n",
      "\n",
      "workclass: 2 failures  3 passes  type ✓  min_length ✓  max_length ✓  max_nulls ✗  allowed_values ✗\n",
      "\n",
      "fnlwgt: 4 failures  1 pass  type ✗  min ✗  max ✗  sign ✗  max_nulls ✓\n",
      "\n",
      "education: 1 failure  4 passes  type ✓  min_length ✓  max_length ✓  max_nulls ✓  allowed_values ✗\n",
      "\n",
      "education-num: 4 failures  1 pass  type ✗  min ✗  max ✗  sign ✗  max_nulls ✓\n",
      "\n",
      "marital-status: 1 failure  4 passes  type ✓  min_length ✓  max_length ✓  max_nulls ✓  allowed_values ✗\n",
      "\n",
      "occupation: 1 failure  3 passes  type ✓  min_length ✓  max_length ✓  allowed_values ✗\n",
      "\n",
      "relationship: 1 failure  4 passes  type ✓  min_length ✓  max_length ✓  max_nulls ✓  allowed_values ✗\n",
      "\n",
      "race: 2 failures  3 passes  type ✓  min_length ✗  max_length ✓  max_nulls ✓  allowed_values ✗\n",
      "\n",
      "sex: 2 failures  3 passes  type ✓  min_length ✗  max_length ✓  max_nulls ✓  allowed_values ✗\n",
      "\n",
      "capital-gain: 4 failures  1 pass  type ✗  min ✗  max ✗  sign ✗  max_nulls ✓\n",
      "\n",
      "capital-loss: 4 failures  1 pass  type ✗  min ✗  max ✗  sign ✗  max_nulls ✓\n",
      "\n",
      "hours-per-week: 4 failures  1 pass  type ✗  min ✗  max ✗  sign ✗  max_nulls ✓\n",
      "\n",
      "native-country: 0 failures  3 passes  type ✓  min_length ✓  max_length ✓\n",
      "\n",
      "income: 2 failures  3 passes  type ✓  min_length ✓  max_length ✗  max_nulls ✓  allowed_values ✗\n",
      "\n",
      "SUMMARY:\n",
      "\n",
      "Constraints passing: 35\n",
      "Constraints failing: 37\n"
     ]
    }
   ],
   "source": [
    "test_file_path=\"../data/adult_with_duplicates.csv\"\n",
    "df_test=pd.read_csv(test_file_path,header=None, names=columns,sep=',', na_values=[\"null\"])\n",
    "\n",
    "test_result = verify_df(df_test, constraints_path, type_checking='strict', epsilon=0)\n",
    "print(str(test_result))"
   ],
   "metadata": {
    "collapsed": false,
    "pycharm": {
     "name": "#%%\n"
    }
   }
  },
  {
   "cell_type": "markdown",
   "source": [
    "Now, you can notice that we have many validation rules that failed. For example, the validation rules of age column are all failed.  "
   ],
   "metadata": {
    "collapsed": false,
    "pycharm": {
     "name": "#%% md\n"
    }
   }
  }
 ],
 "metadata": {
  "kernelspec": {
   "display_name": "Python 3",
   "language": "python",
   "name": "python3"
  },
  "language_info": {
   "codemirror_mode": {
    "name": "ipython",
    "version": 2
   },
   "file_extension": ".py",
   "mimetype": "text/x-python",
   "name": "python",
   "nbconvert_exporter": "python",
   "pygments_lexer": "ipython2",
   "version": "2.7.6"
  }
 },
 "nbformat": 4,
 "nbformat_minor": 0
}