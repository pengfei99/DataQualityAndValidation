{
 "cells": [
  {
   "cell_type": "code",
   "execution_count": 1,
   "metadata": {
    "collapsed": true
   },
   "outputs": [],
   "source": [
    "import os\n",
    "\n",
    "from pyspark.sql import DataFrame\n",
    "from pyspark.sql import SparkSession\n",
    "from pyspark.sql.functions import col, count\n",
    "from pyspark.sql.types import StringType,IntegerType,StructType,StructField\n"
   ]
  },
  {
   "cell_type": "code",
   "execution_count": 2,
   "outputs": [
    {
     "name": "stderr",
     "output_type": "stream",
     "text": [
      "22/05/03 14:59:51 WARN Utils: Your hostname, ubuntu resolves to a loopback address: 127.0.1.1; using 192.168.184.146 instead (on interface ens33)\n",
      "22/05/03 14:59:51 WARN Utils: Set SPARK_LOCAL_IP if you need to bind to another address\n",
      "WARNING: An illegal reflective access operation has occurred\n",
      "WARNING: Illegal reflective access by org.apache.spark.unsafe.Platform (file:/opt/spark/spark-3.1.2/jars/spark-unsafe_2.12-3.1.2.jar) to constructor java.nio.DirectByteBuffer(long,int)\n",
      "WARNING: Please consider reporting this to the maintainers of org.apache.spark.unsafe.Platform\n",
      "WARNING: Use --illegal-access=warn to enable warnings of further illegal reflective access operations\n",
      "WARNING: All illegal access operations will be denied in a future release\n",
      "22/05/03 14:59:52 WARN NativeCodeLoader: Unable to load native-hadoop library for your platform... using builtin-java classes where applicable\n",
      "Using Spark's default log4j profile: org/apache/spark/log4j-defaults.properties\n",
      "Setting default log level to \"WARN\".\n",
      "To adjust logging level use sc.setLogLevel(newLevel). For SparkR, use setLogLevel(newLevel).\n"
     ]
    }
   ],
   "source": [
    "local = True\n",
    "\n",
    "if local:\n",
    "    spark = SparkSession.builder \\\n",
    "        .master(\"local[4]\") \\\n",
    "        .appName(\"manual_data_validation_example\") \\\n",
    "        .getOrCreate()\n",
    "else:\n",
    "    spark = SparkSession.builder \\\n",
    "        .master(\"k8s://https://kubernetes.default.svc:443\") \\\n",
    "        .appName(\"manual_data_validation_example\") \\\n",
    "        .config(\"spark.kubernetes.container.image\", os.getenv(\"IMAGE_NAME\")) \\\n",
    "        .config(\"spark.kubernetes.authenticate.driver.serviceAccountName\", os.environ['KUBERNETES_SERVICE_ACCOUNT']) \\\n",
    "        .config(\"spark.executor.instances\", \"4\") \\\n",
    "        .config(\"spark.executor.memory\", \"8g\") \\\n",
    "        .config(\"spark.kubernetes.namespace\", os.environ['KUBERNETES_NAMESPACE']) \\\n",
    "        .getOrCreate()"
   ],
   "metadata": {
    "collapsed": false,
    "pycharm": {
     "name": "#%%\n"
    }
   }
  },
  {
   "cell_type": "code",
   "execution_count": 3,
   "outputs": [],
   "source": [
    "data_file_path = \"../../data/adult_with_duplicates.csv\"\n",
    "# data_file_path = \"../../data/adult_cleaned.csv\""
   ],
   "metadata": {
    "collapsed": false,
    "pycharm": {
     "name": "#%%\n"
    }
   }
  },
  {
   "cell_type": "code",
   "execution_count": 4,
   "outputs": [],
   "source": [
    "schema=StructType([\n",
    "    StructField(\"age\", StringType(), nullable = True),\n",
    "    StructField(\"workclass\", StringType(), nullable = True),\n",
    "    StructField(\"fnlwgt\", IntegerType(), nullable = True),\n",
    "    StructField(\"education\", StringType(), nullable = True),\n",
    "    StructField(\"education-num\", IntegerType(), nullable = True),\n",
    "    StructField(\"marital-status\", StringType(), nullable = True),\n",
    "    StructField(\"occupation\", StringType(), nullable = True),\n",
    "    StructField(\"relationship\", StringType(), nullable = True),\n",
    "    StructField(\"race\", StringType(), nullable = True),\n",
    "    StructField(\"sex\", StringType(), nullable = True),\n",
    "    StructField(\"capital-gain\", IntegerType(), nullable = True),\n",
    "    StructField(\"capital-loss\", IntegerType(), nullable = True),\n",
    "    StructField(\"hours-per-week\", IntegerType(), nullable = True),\n",
    "    StructField(\"native-country\", StringType(), nullable = True),\n",
    "    StructField(\"income\", StringType(), nullable = True)\n",
    "])"
   ],
   "metadata": {
    "collapsed": false,
    "pycharm": {
     "name": "#%%\n"
    }
   }
  },
  {
   "cell_type": "code",
   "execution_count": 5,
   "outputs": [],
   "source": [
    "df_raw = spark.read.csv(data_file_path, header=True, schema=schema)"
   ],
   "metadata": {
    "collapsed": false,
    "pycharm": {
     "name": "#%%\n"
    }
   }
  },
  {
   "cell_type": "code",
   "execution_count": 6,
   "outputs": [
    {
     "name": "stdout",
     "output_type": "stream",
     "text": [
      "+-----+--------------+------+---------+-------------+--------------+------------+-------------+-----+----+------------+------------+--------------+--------------+------+\n",
      "|age  |workclass     |fnlwgt|education|education-num|marital-status|occupation  |relationship |race |sex |capital-gain|capital-loss|hours-per-week|native-country|income|\n",
      "+-----+--------------+------+---------+-------------+--------------+------------+-------------+-----+----+------------+------------+--------------+--------------+------+\n",
      "|139  |State-gov     |77516 |Bachelors|13           |Never-married |Adm-clerical|Not-in-family|White|Male|2174        |0           |40            |United-States |<=50K |\n",
      "|34.56|State-gov     |77516 |Bachelors|13           |Never-married |Adm-clerical|Not-in-family|White|Male|2174        |0           |40            |United-States |<=50K |\n",
      "|-12  |State-gov     |77516 |Bachelors|13           |Never-married |Adm-clerical|Not-in-family|White|Male|2174        |0           |40            |United-States |<=50K |\n",
      "|null |emp-by-pengfei|77516 |Bachelors|13           |Never-married |Adm-clerical|Not-in-family|White|Male|2174        |0           |40            |United-States |<=50K |\n",
      "|39.5 |State-gov     |77516 |Bachelors|13           |Never-married |Adm-clerical|Not-in-family|White|Male|2174        |0           |40            |United-States |<=50K |\n",
      "+-----+--------------+------+---------+-------------+--------------+------------+-------------+-----+----+------------+------------+--------------+--------------+------+\n",
      "only showing top 5 rows\n",
      "\n"
     ]
    }
   ],
   "source": [
    "df_raw.show(5, truncate=False)"
   ],
   "metadata": {
    "collapsed": false,
    "pycharm": {
     "name": "#%%\n"
    }
   }
  },
  {
   "cell_type": "code",
   "execution_count": 7,
   "outputs": [
    {
     "name": "stdout",
     "output_type": "stream",
     "text": [
      "root\n",
      " |-- age: string (nullable = true)\n",
      " |-- workclass: string (nullable = true)\n",
      " |-- fnlwgt: integer (nullable = true)\n",
      " |-- education: string (nullable = true)\n",
      " |-- education-num: integer (nullable = true)\n",
      " |-- marital-status: string (nullable = true)\n",
      " |-- occupation: string (nullable = true)\n",
      " |-- relationship: string (nullable = true)\n",
      " |-- race: string (nullable = true)\n",
      " |-- sex: string (nullable = true)\n",
      " |-- capital-gain: integer (nullable = true)\n",
      " |-- capital-loss: integer (nullable = true)\n",
      " |-- hours-per-week: integer (nullable = true)\n",
      " |-- native-country: string (nullable = true)\n",
      " |-- income: string (nullable = true)\n",
      "\n"
     ]
    }
   ],
   "source": [
    "df_raw.printSchema()"
   ],
   "metadata": {
    "collapsed": false,
    "pycharm": {
     "name": "#%%\n"
    }
   }
  },
  {
   "cell_type": "markdown",
   "source": [
    "# Validation rules\n",
    "\n",
    "Table level validation rule:\n",
    "1. Table must have 32603 rows and 15 columns\n",
    "2. Table can't have duplicate rows\n",
    "\n",
    "Column level validation rule:\n",
    "1. Column Age must be a number\n",
    "2. Column Age can't have null\n",
    "3. Column Age must have value between 0 and 120\n",
    "\n",
    "\n"
   ],
   "metadata": {
    "collapsed": false,
    "pycharm": {
     "name": "#%% md\n"
    }
   }
  },
  {
   "cell_type": "markdown",
   "source": [
    "## Check table level validation rule 1\n",
    "\n",
    "Table must have 32603 rows and 15 columns"
   ],
   "metadata": {
    "collapsed": false,
    "pycharm": {
     "name": "#%% md\n"
    }
   }
  },
  {
   "cell_type": "code",
   "execution_count": 8,
   "outputs": [
    {
     "name": "stdout",
     "output_type": "stream",
     "text": [
      "row numbers: 32608, column numbers: 15\n"
     ]
    }
   ],
   "source": [
    "row_numbers = df_raw.count()\n",
    "column_numbers = len(df_raw.columns)\n",
    "\n",
    "print(f\"row numbers: {row_numbers}, column numbers: {column_numbers}\")"
   ],
   "metadata": {
    "collapsed": false,
    "pycharm": {
     "name": "#%%\n"
    }
   }
  },
  {
   "cell_type": "markdown",
   "source": [
    "## Check table level validation rule 2\n",
    "\n",
    "Table can't have duplicate rows"
   ],
   "metadata": {
    "collapsed": false,
    "pycharm": {
     "name": "#%% md\n"
    }
   }
  },
  {
   "cell_type": "code",
   "execution_count": 9,
   "outputs": [
    {
     "name": "stderr",
     "output_type": "stream",
     "text": [
      "                                                                                \r"
     ]
    },
    {
     "name": "stdout",
     "output_type": "stream",
     "text": [
      "Table has Duplicate rows\n",
      "Duplicate row number: 102\n",
      "Duplicate row samples: \n"
     ]
    },
    {
     "name": "stderr",
     "output_type": "stream",
     "text": [
      "                                                                                \r"
     ]
    },
    {
     "name": "stdout",
     "output_type": "stream",
     "text": [
      "+---+----------------+------+---------+-------------+------------------+---------------+-------------+-----+------+------------+------------+--------------+--------------+------+-------------------+\n",
      "|age|       workclass|fnlwgt|education|education-num|    marital-status|     occupation| relationship| race|   sex|capital-gain|capital-loss|hours-per-week|native-country|income|Duplicate_indicator|\n",
      "+---+----------------+------+---------+-------------+------------------+---------------+-------------+-----+------+------------+------------+--------------+--------------+------+-------------------+\n",
      "| 19|         Private| 97261|  HS-grad|            9|     Never-married|Farming-fishing|Not-in-family|White|  Male|           0|           0|            40| United-States| <=50K|                  1|\n",
      "| 19|         Private| 97261|  HS-grad|            9|     Never-married|Farming-fishing|Not-in-family|White|  Male|           0|           0|            40| United-States| <=50K|                  1|\n",
      "| 31|         Private| 45781|  Masters|           14|     Never-married| Prof-specialty|Not-in-family|White|Female|       14084|           0|            50| United-States|  >50K|                  1|\n",
      "| 31|         Private| 45781|  Masters|           14|     Never-married| Prof-specialty|Not-in-family|White|Female|       14084|           0|            50| United-States|  >50K|                  1|\n",
      "| 31|         Private| 45781|  Masters|           14|     Never-married| Prof-specialty|Not-in-family|White|Female|       14084|           0|            50| United-States|  >50K|                  1|\n",
      "| 31|         Private| 45781|  Masters|           14|     Never-married| Prof-specialty|Not-in-family|White|Female|       14084|           0|            50| United-States|  >50K|                  1|\n",
      "| 39|       State-gov| 77516|Bachelors|           13|     Never-married|   Adm-clerical|Not-in-family|White|  Male|        2174|           0|            40| United-States| <=50K|                  1|\n",
      "| 39|       State-gov| 77516|Bachelors|           13|     Never-married|   Adm-clerical|Not-in-family|White|  Male|        2174|           0|            40| United-States| <=50K|                  1|\n",
      "| 39|       State-gov| 77516|Bachelors|           13|     Never-married|   Adm-clerical|Not-in-family|White|  Male|        2174|           0|            40| United-States| <=50K|                  1|\n",
      "| 39|       State-gov| 77516|Bachelors|           13|     Never-married|   Adm-clerical|Not-in-family|White|  Male|        2174|           0|            40| United-States| <=50K|                  1|\n",
      "| 52|Self-emp-not-inc|209642|  HS-grad|            9|Married-civ-spouse|Exec-managerial|      Husband|White|  Male|           0|           0|            45| United-States|  >50K|                  1|\n",
      "| 52|Self-emp-not-inc|209642|  HS-grad|            9|Married-civ-spouse|Exec-managerial|      Husband|White|  Male|           0|           0|            45| United-States|  >50K|                  1|\n",
      "| 52|Self-emp-not-inc|209642|  HS-grad|            9|Married-civ-spouse|Exec-managerial|      Husband|White|  Male|           0|           0|            45| United-States|  >50K|                  1|\n",
      "| 28|         Private|274679|  Masters|           14|     Never-married| Prof-specialty|Not-in-family|White|  Male|           0|           0|            50| United-States| <=50K|                  1|\n",
      "| 28|         Private|274679|  Masters|           14|     Never-married| Prof-specialty|Not-in-family|White|  Male|           0|           0|            50| United-States| <=50K|                  1|\n",
      "| 42|         Private|159449|Bachelors|           13|Married-civ-spouse|Exec-managerial|      Husband|White|  Male|        5178|           0|            40| United-States|  >50K|                  1|\n",
      "| 42|         Private|159449|Bachelors|           13|Married-civ-spouse|Exec-managerial|      Husband|White|  Male|        5178|           0|            40| United-States|  >50K|                  1|\n",
      "| 42|         Private|159449|Bachelors|           13|Married-civ-spouse|Exec-managerial|      Husband|White|  Male|        5178|           0|            40| United-States|  >50K|                  1|\n",
      "| 42|         Private|159449|Bachelors|           13|Married-civ-spouse|Exec-managerial|      Husband|White|  Male|        5178|           0|            40| United-States|  >50K|                  1|\n",
      "| 23|         Private|122272|Bachelors|           13|     Never-married|   Adm-clerical|    Own-child|White|Female|           0|           0|            30| United-States| <=50K|                  1|\n",
      "+---+----------------+------+---------+-------------+------------------+---------------+-------------+-----+------+------------+------------+--------------+--------------+------+-------------------+\n",
      "only showing top 20 rows\n",
      "\n"
     ]
    }
   ],
   "source": [
    "df_indicate_duplicate = df_raw.join(\n",
    "    df_raw.groupBy(df_raw.columns).agg((count(\"*\") > 1).cast(\"int\").alias(\"Duplicate_indicator\")), on=df_raw.columns,\n",
    "    how=\"left\")\n",
    "df_duplicate = df_indicate_duplicate.filter(col(\"Duplicate_indicator\") == 1)\n",
    "duplicate_row_num = df_duplicate.count()\n",
    "if duplicate_row_num > 1:\n",
    "    print(f\"Table has Duplicate rows\")\n",
    "    print(f\"Duplicate row number: {duplicate_row_num}\")\n",
    "    print(\"Duplicate row samples: \")\n",
    "    df_duplicate.show()\n",
    "else:\n",
    "    print(f\"Table does not have Duplicate rows\")"
   ],
   "metadata": {
    "collapsed": false,
    "pycharm": {
     "name": "#%%\n"
    }
   }
  },
  {
   "cell_type": "markdown",
   "source": [
    "To make your code more portable, we can write a function."
   ],
   "metadata": {
    "collapsed": false,
    "pycharm": {
     "name": "#%% md\n"
    }
   }
  },
  {
   "cell_type": "code",
   "execution_count": 25,
   "outputs": [],
   "source": [
    "def check_duplicate_rows(df: DataFrame, indicator_columns=None) -> bool:\n",
    "    \"\"\"\n",
    "    This function checks if a dataFrame contains duplicate rows\n",
    "    :param indicator_columns: The group of columns that can indicate if two row is identical\n",
    "    :param df: input data frame\n",
    "    :return: If no duplicate is found, return True, else return False\n",
    "    \"\"\"\n",
    "    if indicator_columns:\n",
    "        indicator_cols = indicator_columns\n",
    "    else:\n",
    "        indicator_cols = df.columns\n",
    "    df_indicate_duplicate = df.join(\n",
    "        df.groupBy(indicator_cols).agg((count(\"*\") > 1).cast(\"int\").alias(\"Duplicate_indicator\")), on=df.columns,\n",
    "        how=\"left\")\n",
    "    df_duplicate = df_indicate_duplicate.filter(col(\"Duplicate_indicator\") == 1)\n",
    "    duplicate_row_num = df_duplicate.count()\n",
    "    if duplicate_row_num > 1:\n",
    "        print(f\"Table has Duplicate rows\")\n",
    "        print(f\"Duplicate row number: {duplicate_row_num}\")\n",
    "        print(\"Duplicate row samples: \")\n",
    "        df_duplicate.show()\n",
    "        return False\n",
    "    else:\n",
    "        print(f\"Table does not have Duplicate rows\")\n",
    "        return True"
   ],
   "metadata": {
    "collapsed": false,
    "pycharm": {
     "name": "#%%\n"
    }
   }
  },
  {
   "cell_type": "code",
   "execution_count": 26,
   "outputs": [
    {
     "name": "stdout",
     "output_type": "stream",
     "text": [
      "Table has Duplicate rows\n",
      "Duplicate row number: 102\n",
      "Duplicate row samples: \n",
      "+---+----------------+------+---------+-------------+------------------+---------------+-------------+-----+------+------------+------------+--------------+--------------+------+-------------------+\n",
      "|age|       workclass|fnlwgt|education|education-num|    marital-status|     occupation| relationship| race|   sex|capital-gain|capital-loss|hours-per-week|native-country|income|Duplicate_indicator|\n",
      "+---+----------------+------+---------+-------------+------------------+---------------+-------------+-----+------+------------+------------+--------------+--------------+------+-------------------+\n",
      "| 19|         Private| 97261|  HS-grad|            9|     Never-married|Farming-fishing|Not-in-family|White|  Male|           0|           0|            40| United-States| <=50K|                  1|\n",
      "| 19|         Private| 97261|  HS-grad|            9|     Never-married|Farming-fishing|Not-in-family|White|  Male|           0|           0|            40| United-States| <=50K|                  1|\n",
      "| 31|         Private| 45781|  Masters|           14|     Never-married| Prof-specialty|Not-in-family|White|Female|       14084|           0|            50| United-States|  >50K|                  1|\n",
      "| 31|         Private| 45781|  Masters|           14|     Never-married| Prof-specialty|Not-in-family|White|Female|       14084|           0|            50| United-States|  >50K|                  1|\n",
      "| 31|         Private| 45781|  Masters|           14|     Never-married| Prof-specialty|Not-in-family|White|Female|       14084|           0|            50| United-States|  >50K|                  1|\n",
      "| 31|         Private| 45781|  Masters|           14|     Never-married| Prof-specialty|Not-in-family|White|Female|       14084|           0|            50| United-States|  >50K|                  1|\n",
      "| 39|       State-gov| 77516|Bachelors|           13|     Never-married|   Adm-clerical|Not-in-family|White|  Male|        2174|           0|            40| United-States| <=50K|                  1|\n",
      "| 39|       State-gov| 77516|Bachelors|           13|     Never-married|   Adm-clerical|Not-in-family|White|  Male|        2174|           0|            40| United-States| <=50K|                  1|\n",
      "| 39|       State-gov| 77516|Bachelors|           13|     Never-married|   Adm-clerical|Not-in-family|White|  Male|        2174|           0|            40| United-States| <=50K|                  1|\n",
      "| 39|       State-gov| 77516|Bachelors|           13|     Never-married|   Adm-clerical|Not-in-family|White|  Male|        2174|           0|            40| United-States| <=50K|                  1|\n",
      "| 52|Self-emp-not-inc|209642|  HS-grad|            9|Married-civ-spouse|Exec-managerial|      Husband|White|  Male|           0|           0|            45| United-States|  >50K|                  1|\n",
      "| 52|Self-emp-not-inc|209642|  HS-grad|            9|Married-civ-spouse|Exec-managerial|      Husband|White|  Male|           0|           0|            45| United-States|  >50K|                  1|\n",
      "| 52|Self-emp-not-inc|209642|  HS-grad|            9|Married-civ-spouse|Exec-managerial|      Husband|White|  Male|           0|           0|            45| United-States|  >50K|                  1|\n",
      "| 28|         Private|274679|  Masters|           14|     Never-married| Prof-specialty|Not-in-family|White|  Male|           0|           0|            50| United-States| <=50K|                  1|\n",
      "| 28|         Private|274679|  Masters|           14|     Never-married| Prof-specialty|Not-in-family|White|  Male|           0|           0|            50| United-States| <=50K|                  1|\n",
      "| 42|         Private|159449|Bachelors|           13|Married-civ-spouse|Exec-managerial|      Husband|White|  Male|        5178|           0|            40| United-States|  >50K|                  1|\n",
      "| 42|         Private|159449|Bachelors|           13|Married-civ-spouse|Exec-managerial|      Husband|White|  Male|        5178|           0|            40| United-States|  >50K|                  1|\n",
      "| 42|         Private|159449|Bachelors|           13|Married-civ-spouse|Exec-managerial|      Husband|White|  Male|        5178|           0|            40| United-States|  >50K|                  1|\n",
      "| 42|         Private|159449|Bachelors|           13|Married-civ-spouse|Exec-managerial|      Husband|White|  Male|        5178|           0|            40| United-States|  >50K|                  1|\n",
      "| 23|         Private|122272|Bachelors|           13|     Never-married|   Adm-clerical|    Own-child|White|Female|           0|           0|            30| United-States| <=50K|                  1|\n",
      "+---+----------------+------+---------+-------------+------------------+---------------+-------------+-----+------+------------+------------+--------------+--------------+------+-------------------+\n",
      "only showing top 20 rows\n",
      "\n"
     ]
    },
    {
     "data": {
      "text/plain": "False"
     },
     "execution_count": 26,
     "metadata": {},
     "output_type": "execute_result"
    }
   ],
   "source": [
    "check_duplicate_rows(df_raw)"
   ],
   "metadata": {
    "collapsed": false,
    "pycharm": {
     "name": "#%%\n"
    }
   }
  },
  {
   "cell_type": "markdown",
   "source": [
    "## Column level validation rule 1\n",
    "\n",
    "Column Age must be a number"
   ],
   "metadata": {
    "collapsed": false,
    "pycharm": {
     "name": "#%% md\n"
    }
   }
  },
  {
   "cell_type": "code",
   "execution_count": 10,
   "outputs": [
    {
     "name": "stdout",
     "output_type": "stream",
     "text": [
      "+-----+---------+-------------+--------------+------------+---------+-----+\n",
      "|  age|education|education-num|marital-status|  occupation|workclass| race|\n",
      "+-----+---------+-------------+--------------+------------+---------+-----+\n",
      "|34.56|Bachelors|           13| Never-married|Adm-clerical|State-gov|White|\n",
      "| 39.5|Bachelors|           13| Never-married|Adm-clerical|State-gov|White|\n",
      "+-----+---------+-------------+--------------+------------+---------+-----+\n",
      "\n"
     ]
    }
   ],
   "source": [
    "regex=\"^[-+]?\\d+$\"\n",
    "df_age_not_number=df_raw.filter(~ col(\"age\").rlike(regex))\n",
    "df_age_not_number.select(\"age\",\"education\",\"education-num\", \"marital-status\", \"occupation\",\"workclass\",\"race\").show()"
   ],
   "metadata": {
    "collapsed": false,
    "pycharm": {
     "name": "#%%\n"
    }
   }
  },
  {
   "cell_type": "markdown",
   "source": [
    "## Column level validation rule 2\n",
    "\n",
    "Column Age can't have null"
   ],
   "metadata": {
    "collapsed": false,
    "pycharm": {
     "name": "#%% md\n"
    }
   }
  },
  {
   "cell_type": "code",
   "execution_count": 11,
   "outputs": [
    {
     "name": "stdout",
     "output_type": "stream",
     "text": [
      "Column age has null value : 1\n",
      "Null value sample: \n",
      "+----+--------------+------+---------+-------------+--------------+------------+-------------+-----+----+------------+------------+--------------+--------------+------+\n",
      "| age|     workclass|fnlwgt|education|education-num|marital-status|  occupation| relationship| race| sex|capital-gain|capital-loss|hours-per-week|native-country|income|\n",
      "+----+--------------+------+---------+-------------+--------------+------------+-------------+-----+----+------------+------------+--------------+--------------+------+\n",
      "|null|emp-by-pengfei| 77516|Bachelors|           13| Never-married|Adm-clerical|Not-in-family|White|Male|        2174|           0|            40| United-States| <=50K|\n",
      "+----+--------------+------+---------+-------------+--------------+------------+-------------+-----+----+------------+------------+--------------+--------------+------+\n",
      "\n"
     ]
    }
   ],
   "source": [
    "col_name=\"age\"\n",
    "df_age_null = df_raw.filter((col(col_name).isNull())|(col(col_name)==\"null\"))\n",
    "\n",
    "print(f\"Column {col_name} has null value : {df_age_null.count()}\")\n",
    "print(\"Null value sample: \")\n",
    "df_age_null.show()"
   ],
   "metadata": {
    "collapsed": false,
    "pycharm": {
     "name": "#%%\n"
    }
   }
  },
  {
   "cell_type": "markdown",
   "source": [
    "## Column level validation rule 3\n",
    "\n",
    "Column Age must have value between 0 and 120"
   ],
   "metadata": {
    "collapsed": false,
    "pycharm": {
     "name": "#%% md\n"
    }
   }
  },
  {
   "cell_type": "code",
   "execution_count": 13,
   "outputs": [],
   "source": [
    "df_age_range_anomaly = df_raw.filter((col(col_name) > 120) | (col(col_name) < 0))"
   ],
   "metadata": {
    "collapsed": false,
    "pycharm": {
     "name": "#%%\n"
    }
   }
  },
  {
   "cell_type": "code",
   "execution_count": 14,
   "outputs": [
    {
     "name": "stdout",
     "output_type": "stream",
     "text": [
      "Anomaly row number for column age: 4\n",
      "Anomaly row sample for column age:\n",
      "+---+----------------+------+---------+-------------+------------------+---------------+-------------+-----+------+------------+------------+--------------+--------------+------+\n",
      "|age|workclass       |fnlwgt|education|education-num|marital-status    |occupation     |relationship |race |sex   |capital-gain|capital-loss|hours-per-week|native-country|income|\n",
      "+---+----------------+------+---------+-------------+------------------+---------------+-------------+-----+------+------------+------------+--------------+--------------+------+\n",
      "|139|State-gov       |77516 |Bachelors|13           |Never-married     |Adm-clerical   |Not-in-family|White|Male  |2174        |0           |40            |United-States |<=50K |\n",
      "|-12|State-gov       |77516 |Bachelors|13           |Never-married     |Adm-clerical   |Not-in-family|White|Male  |2174        |0           |40            |United-States |<=50K |\n",
      "|152|Self-emp-not-inc|209642|HS-grad  |9            |Married-civ-spouse|Exec-managerial|Husband      |White|Male  |0           |0           |45            |United-States |>50K  |\n",
      "|154|Private         |302146|HS-grad  |9            |Separated         |Other-service  |Unmarried    |Black|Female|0           |0           |20            |United-States |<=50K |\n",
      "+---+----------------+------+---------+-------------+------------------+---------------+-------------+-----+------+------------+------------+--------------+--------------+------+\n",
      "\n"
     ]
    }
   ],
   "source": [
    "anomaly_number = df_age_range_anomaly.count()\n",
    "print(f\"Anomaly row number for column {col_name}: {anomaly_number}\")\n",
    "print(f\"Anomaly row sample for column {col_name}:\")\n",
    "df_age_range_anomaly.show(5, truncate=False)"
   ],
   "metadata": {
    "collapsed": false,
    "pycharm": {
     "name": "#%%\n"
    }
   }
  },
  {
   "cell_type": "code",
   "execution_count": null,
   "outputs": [],
   "source": [],
   "metadata": {
    "collapsed": false,
    "pycharm": {
     "name": "#%%\n"
    }
   }
  }
 ],
 "metadata": {
  "kernelspec": {
   "display_name": "Python 3",
   "language": "python",
   "name": "python3"
  },
  "language_info": {
   "codemirror_mode": {
    "name": "ipython",
    "version": 2
   },
   "file_extension": ".py",
   "mimetype": "text/x-python",
   "name": "python",
   "nbconvert_exporter": "python",
   "pygments_lexer": "ipython2",
   "version": "2.7.6"
  }
 },
 "nbformat": 4,
 "nbformat_minor": 0
}